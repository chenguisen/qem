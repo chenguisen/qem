{
 "cells": [
  {
   "cell_type": "code",
   "execution_count": 1,
   "metadata": {},
   "outputs": [],
   "source": [
    "from qem.benchmark import Benchmark\n",
    "from glob import glob\n",
    "\n",
    "file_list = glob('/home/zzhang/OneDrive/code/qem/data/testFitProgram/*.mat')\n",
    "error_list = []\n",
    "\n",
    "for file in file_list[1:2]:\n",
    "    print(file)\n",
    "    benchmark = Benchmark(file)\n",
    "    benchmark.refine(plot=False,verbose=False, num_epoch = 20, tol=1e-2,maxiter=100)\n",
    "    folder_path = file.split('.')[0]\n",
    "    benchmark.compare_residual(folder_path=folder_path,save=True)\n",
    "    benchmark.compare_scs_map(folder_path=folder_path,save=True)\n",
    "    benchmark.compare_scs_voronoi(folder_path=folder_path,save=True)\n",
    "    benchmark.compare_scs_histogram(folder_path=folder_path,save=True)\n",
    "    error = benchmark.scs_error()\n",
    "    error_list.append(error)"
   ]
  },
  {
   "cell_type": "code",
   "execution_count": 2,
   "metadata": {},
   "outputs": [
    {
     "data": {
      "text/plain": [
       "['/home/zzhang/OneDrive/code/qem/data/testFitProgram/outputGMMrodEmeric_110_final.mat',\n",
       " '/home/zzhang/OneDrive/code/qem/data/testFitProgram/output_fivefoldsymmetry2015_121416_2.mat',\n",
       " '/home/zzhang/OneDrive/code/qem/data/testFitProgram/outputStatSTEM_Right_RT_RevSTEM90_STEMdataset_778x842_3_final_64_rotated.mat',\n",
       " '/home/zzhang/OneDrive/code/qem/data/testFitProgram/outputStatSTEM_Right_330_RevSTEM90_STEMdataset_802x814_3_final_60_rotated.mat',\n",
       " '/home/zzhang/OneDrive/code/qem/data/testFitProgram/StatSTEM_300C_H2_1_1_conv_1_rotated.mat',\n",
       " '/home/zzhang/OneDrive/code/qem/data/testFitProgram/StatSTEM_300C_H2_after_O2_flow_5_1_conv_1_rotated.mat',\n",
       " '/home/zzhang/OneDrive/code/qem/data/testFitProgram/StatSTEM_Aurod_0_2016.mat',\n",
       " '/home/zzhang/OneDrive/code/qem/data/testFitProgram/StatSTEM_300C_O2_after_O2_and_H2_flow_1_1_conv_1_rotated.mat',\n",
       " '/home/zzhang/OneDrive/code/qem/data/testFitProgram/StatSTEM_200C_no_gas_1_1_conv_1_rotated.mat',\n",
       " '/home/zzhang/OneDrive/code/qem/data/testFitProgram/StatSTEM_Aurod_+45_2016.mat',\n",
       " '/home/zzhang/OneDrive/code/qem/data/testFitProgram/StatSTEM_Aurod_-45_2016.mat',\n",
       " '/home/zzhang/OneDrive/code/qem/data/testFitProgram/StatSTEM_300C_O2_3_1_conv_1_rotated.mat',\n",
       " '/home/zzhang/OneDrive/code/qem/data/testFitProgram/outputGMMrodEmeric_100_final.mat']"
      ]
     },
     "execution_count": 2,
     "metadata": {},
     "output_type": "execute_result"
    }
   ],
   "source": [
    "file_list"
   ]
  },
  {
   "cell_type": "code",
   "execution_count": 2,
   "metadata": {},
   "outputs": [
    {
     "data": {
      "text/plain": [
       "(2.8909927976863643, 304.58519381267536)"
      ]
     },
     "execution_count": 2,
     "metadata": {},
     "output_type": "execute_result"
    }
   ],
   "source": [
    "error"
   ]
  },
  {
   "cell_type": "code",
   "execution_count": 2,
   "metadata": {},
   "outputs": [],
   "source": [
    "from qem.image_fitting import ImageModelFitting\n",
    "import qem\n",
    "file ='/home/zzhang/OneDrive/code/qem/data/testFitProgram/StatSTEM_Aurod_+45_2016.mat'\n",
    "legacyStatSTEM = qem.io.read_legacyInputStatSTEM(file)\n",
    "\n",
    "# model=ImageModelFitting(image, dx=dx)"
   ]
  },
  {
   "cell_type": "code",
   "execution_count": 3,
   "metadata": {},
   "outputs": [
    {
     "data": {
      "text/plain": [
       "dict_keys(['input', 'GUI', 'output', 'atomcounting'])"
      ]
     },
     "execution_count": 3,
     "metadata": {},
     "output_type": "execute_result"
    }
   ],
   "source": [
    "legacyStatSTEM.keys()"
   ]
  },
  {
   "cell_type": "code",
   "execution_count": 20,
   "metadata": {},
   "outputs": [],
   "source": [
    "from sklearn.ensemble import IsolationForest\n",
    "\n",
    "data = benchmark.scs_statstem.reshape(-1,1)  # Reshape for compatibility with sklearn\n",
    "clf = IsolationForest(contamination=0.01)  # Estimate of the contamination of the data\n",
    "preds = clf.fit_predict(data)\n",
    "outliers = data[preds == -1]"
   ]
  },
  {
   "cell_type": "code",
   "execution_count": 27,
   "metadata": {},
   "outputs": [
    {
     "data": {
      "text/plain": [
       "Text(0.5, 1.0, 'Histogram of scs')"
      ]
     },
     "execution_count": 27,
     "metadata": {},
     "output_type": "execute_result"
    },
    {
     "data": {
      "image/png": "[encoded data removed]",
      "text/plain": [
       "<Figure size 600x600 with 1 Axes>"
      ]
     },
     "metadata": {},
     "output_type": "display_data"
    }
   ],
   "source": [
    "import matplotlib.pyplot as plt\n",
    "import numpy as np\n",
    "volume_qem = benchmark.scs_qem\n",
    "volume_statstem = benchmark.scs_statstem\n",
    "# remove outliners of volume_statstem\n",
    "data = volume_statstem.reshape(-1,1)  # Reshape for compatibility with sklearn\n",
    "clf = IsolationForest(contamination=0.01)  # Estimate of the contamination of the data\n",
    "preds = clf.fit_predict(data)\n",
    "outliers = data[preds == -1].reshape(-1)\n",
    "# only keep the outliers that larger than the mean\n",
    "outliers = outliers[outliers>np.mean(volume_statstem)]\n",
    "# remove outliers from volume_statstem\n",
    "volume_statstem = volume_statstem[np.isin(volume_statstem, outliers, invert=True)]\n",
    "volume_statstem = volume_statstem[volume_statstem>0] # remove negative values\n",
    "\n",
    "plt.figure(figsize=(6,6))\n",
    "plt.hist(volume_qem, bins=100, alpha=0.5, label='QEM', density=True)\n",
    "plt.hist(volume_statstem, bins=100, alpha=0.5, label='StatSTEM', density=True)\n",
    "plt.xlabel('scs ($\\AA^2$)')\n",
    "plt.ylabel('frequency')\n",
    "plt.legend()\n",
    "plt.title('Histogram of scs')"
   ]
  },
  {
   "cell_type": "code",
   "execution_count": 3,
   "metadata": {},
   "outputs": [
    {
     "data": {
      "text/plain": [
       "-1357.792406633527"
      ]
     },
     "execution_count": 3,
     "metadata": {},
     "output_type": "execute_result"
    }
   ],
   "source": [
    "benchmark.scs_qem.min()"
   ]
  },
  {
   "cell_type": "code",
   "execution_count": 2,
   "metadata": {},
   "outputs": [
    {
     "data": {
      "text/plain": [
       "[0.3506405266624348]"
      ]
     },
     "execution_count": 2,
     "metadata": {},
     "output_type": "execute_result"
    }
   ],
   "source": [
    "error_list"
   ]
  }
 ],
 "metadata": {
  "kernelspec": {
   "display_name": "jax",
   "language": "python",
   "name": "python3"
  },
  "language_info": {
   "codemirror_mode": {
    "name": "ipython",
    "version": 3
   },
   "file_extension": ".py",
   "mimetype": "text/x-python",
   "name": "python",
   "nbconvert_exporter": "python",
   "pygments_lexer": "ipython3",
   "version": "3.11.2"
  }
 },
 "nbformat": 4,
 "nbformat_minor": 2
}
