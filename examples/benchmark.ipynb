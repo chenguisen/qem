{
 "cells": [
  {
   "cell_type": "code",
   "execution_count": null,
   "metadata": {},
   "outputs": [],
   "source": [
    "from glob import glob\n",
    "from pathlib import Path\n",
    "\n",
    "from qem.benchmark import Benchmark\n",
    "\n",
    "file_list = glob('../data/benchmark/*.mat')\n",
    "error_list = []\n",
    "\n",
    "for file in file_list[:]:\n",
    "    file = Path(file)\n",
    "    print(file)\n",
    "    benchmark = Benchmark(file)\n",
    "    benchmark.refine(plot=False,verbose=False, num_epoch = 20, tol=1e-3,maxiter=50,batch_size=2000)\n",
    "    folder_path = file.parent.__str__() + file.stem.__str__()\n",
    "    benchmark.compare_residual(folder_path=folder_path,save=True)\n",
    "    benchmark.compare_scs_map(folder_path=folder_path,save=True)\n",
    "    benchmark.compare_scs_voronoi(folder_path=folder_path,save=True)\n",
    "    benchmark.compare_scs_histogram(folder_path=folder_path,save=True)\n",
    "    error = benchmark.scs_error()\n",
    "    error_list.append(error)"
   ]
  },
  {
   "cell_type": "code",
   "execution_count": null,
   "metadata": {},
   "outputs": [],
   "source": []
  }
 ],
 "metadata": {
  "kernelspec": {
   "display_name": "jax",
   "language": "python",
   "name": "python3"
  },
  "language_info": {
   "codemirror_mode": {
    "name": "ipython",
    "version": 3
   },
   "file_extension": ".py",
   "mimetype": "text/x-python",
   "name": "python",
   "nbconvert_exporter": "python",
   "pygments_lexer": "ipython3",
   "version": "3.11.9"
  }
 },
 "nbformat": 4,
 "nbformat_minor": 2
}
