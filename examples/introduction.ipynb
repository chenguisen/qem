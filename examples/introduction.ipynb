{
 "cells": [
  {
   "cell_type": "markdown",
   "metadata": {},
   "source": [
    "# Example Notebook demonstarting some basic functionality"
   ]
  },
  {
   "cell_type": "markdown",
   "metadata": {},
   "source": [
    "### Working with legacy StatSTEMInput data"
   ]
  },
  {
   "cell_type": "code",
   "execution_count": null,
   "metadata": {},
   "outputs": [],
   "source": [
    "import matplotlib.pyplot as plt\n",
    "\n",
    "import qem\n",
    "\n",
    "legacyStatSTEM = qem.io.read_legacyInputStatSTEM('../data/Au/Example_Au.mat')\n",
    "image = legacyStatSTEM['input']['obs']\n",
    "dx = legacyStatSTEM['input']['dx']\n",
    "inputStatSTEM = legacyStatSTEM['input']\n",
    "outputStatSTEM = legacyStatSTEM['output']\n",
    "\n",
    "input_coordinates = inputStatSTEM['coordinates']\n",
    "output_coordinates = outputStatSTEM['coordinates']\n",
    "input_coordinates[:,1] = input_coordinates[:,1]/dx\n",
    "input_coordinates[:,0] = input_coordinates[:,0]/dx\n",
    "from qem.image_fitting import ImageFitting\n",
    "\n",
    "model=ImageFitting(image, dx=dx, elements=['Au'])\n",
    "model.import_coordinates(input_coordinates -1)\n",
    "model.plot()"
   ]
  },
  {
   "cell_type": "code",
   "execution_count": null,
   "metadata": {},
   "outputs": [],
   "source": [
    "model.fit_background = True\n",
    "model.same_width =True\n",
    "model.model_type = 'gaussian'\n",
    "params = model.init_params()\n",
    "params = model.linear_estimator(params)\n",
    "model.prediction = model.predict(local=True)\n",
    "# model.fit_global(params, maxiter=1000, tol = 1e-6, verbose=True)\n",
    "model.fit_stochastic(params, maxiter=50, tol =1e-3,batch_size=3000, num_epoch=5, verbose=1, step_size=0.1, plot=False)\n",
    "# model.fit_voronoi(params=params)\n"
   ]
  },
  {
   "cell_type": "code",
   "execution_count": null,
   "metadata": {},
   "outputs": [],
   "source": [
    "model.fit_voronoi()\n"
   ]
  },
  {
   "cell_type": "code",
   "execution_count": null,
   "metadata": {},
   "outputs": [],
   "source": [
    "model.plot_scs()"
   ]
  },
  {
   "cell_type": "code",
   "execution_count": null,
   "metadata": {},
   "outputs": [],
   "source": [
    "plt.figure(figsize=(12,6))\n",
    "\n",
    "plt.subplot(2,3,1)\n",
    "im=plt.imshow(model.image)\n",
    "plt.colorbar(im,fraction=0.046, pad=0.04)\n",
    "plt.tight_layout()\n",
    "plt.title('Input Image')\n",
    "\n",
    "plt.subplot(2,3,2)\n",
    "im=plt.imshow(model.prediction)\n",
    "plt.colorbar(im,fraction=0.046, pad=0.04)\n",
    "plt.clim(model.image.min(),model.image.max())\n",
    "plt.tight_layout()\n",
    "plt.title('QEM Model')\n",
    "\n",
    "plt.subplot(2,3,3)\n",
    "diff = model.image - model.prediction\n",
    "im=plt.imshow(diff)\n",
    "plt.colorbar(im,fraction=0.046, pad=0.04)\n",
    "# plt.clim([-1000,1000])\n",
    "plt.tight_layout()\n",
    "plt.title('Residuals')\n",
    "\n",
    "plt.subplot(2,3,4)\n",
    "im=plt.imshow(image)\n",
    "plt.colorbar(im,fraction=0.046, pad=0.04)\n",
    "plt.tight_layout()\n",
    "plt.title('Input Image')\n",
    "\n",
    "plt.subplot(2,3,5)\n",
    "im=plt.imshow(outputStatSTEM['model'])\n",
    "plt.colorbar(im,fraction=0.046, pad=0.04)\n",
    "plt.clim(model.image.min(),model.image.max())   \n",
    "plt.tight_layout()\n",
    "plt.title('Legacy StatSTEM Model')\n",
    "\n",
    "plt.subplot(2,3,6)\n",
    "im=plt.imshow(inputStatSTEM['obs']-outputStatSTEM['model'])\n",
    "plt.colorbar(im,fraction=0.046, pad=0.04)\n",
    "# plt.clim([-1000,1000])\n",
    "plt.tight_layout()\n",
    "plt.title('Residuals')"
   ]
  },
  {
   "cell_type": "code",
   "execution_count": null,
   "metadata": {},
   "outputs": [],
   "source": [
    "import numpy as np\n",
    "from qem.utils import safe_convert_to_numpy\n",
    "res = model.residual(model.params)\n",
    "our = np.std(res)\n",
    "ref = np.std(inputStatSTEM['obs']-outputStatSTEM['model'])\n",
    "\n",
    "print(\"QEM residual std: \", our)\n",
    "print(\"Legacy StatSTEM residual std: \", ref)\n"
   ]
  }
 ],
 "metadata": {
  "kernelspec": {
   "display_name": "pytorch",
   "language": "python",
   "name": "python3"
  },
  "language_info": {
   "codemirror_mode": {
    "name": "ipython",
    "version": 3
   },
   "file_extension": ".py",
   "mimetype": "text/x-python",
   "name": "python",
   "nbconvert_exporter": "python",
   "pygments_lexer": "ipython3",
   "version": "3.10.18"
  },
  "orig_nbformat": 4
 },
 "nbformat": 4,
 "nbformat_minor": 2
}
