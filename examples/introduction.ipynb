{
 "cells": [
  {
   "cell_type": "markdown",
   "metadata": {},
   "source": [
    "# Example Notebook demonstarting some basic functionality"
   ]
  },
  {
   "cell_type": "markdown",
   "metadata": {},
   "source": [
    "### Working with legacy StatSTEMInput data"
   ]
  },
  {
   "cell_type": "code",
   "execution_count": null,
   "metadata": {},
   "outputs": [],
   "source": [
    "import matplotlib.pyplot as plt\n",
    "\n",
    "import qem\n",
    "\n",
    "legacyStatSTEM = qem.io.read_legacyInputStatSTEM('../data/Au/Example_Au.mat')\n",
    "image = legacyStatSTEM['input']['obs']\n",
    "dx = legacyStatSTEM['input']['dx']\n",
    "inputStatSTEM = legacyStatSTEM['input']\n",
    "outputStatSTEM = legacyStatSTEM['output']\n",
    "\n",
    "input_coordinates = inputStatSTEM['coordinates']\n",
    "output_coordinates = outputStatSTEM['coordinates']\n",
    "input_coordinates[:,1] = input_coordinates[:,1]/dx\n",
    "input_coordinates[:,0] = input_coordinates[:,0]/dx\n",
    "from qem.image_fitting import ImageFitting\n",
    "\n",
    "model=ImageFitting(image, dx=dx, elements=['Au'])\n",
    "model.import_coordinates(input_coordinates)\n",
    "model.plot()"
   ]
  },
  {
   "cell_type": "code",
   "execution_count": null,
   "metadata": {},
   "outputs": [],
   "source": [
    "\n",
    "\n",
    "model.fit_background = True\n",
    "model.model_type = 'gaussian'\n",
    "params = model.init_params()\n",
    "# params = model.linear_estimator(params)\n",
    "model.prediction = model.predict(params, local=True)\n",
    "model.fit_global(params, maxiter=100, tol = 1e-6, verbose=True)\n",
    "# model.fit_stochastic(params, maxiter=50, tol =1e-3,batch_size=6000, num_epoch=10, verbose=0, step_size=0.05)\n",
    "# model.fit_voronoi(params=params)\n"
   ]
  },
  {
   "cell_type": "code",
   "execution_count": null,
   "metadata": {},
   "outputs": [],
   "source": [
    "model.voronoi_integration(plot=True, max_radius=10)"
   ]
  },
  {
   "cell_type": "code",
   "execution_count": null,
   "metadata": {},
   "outputs": [],
   "source": [
    "model.fit_voronoi()\n"
   ]
  },
  {
   "cell_type": "code",
   "execution_count": null,
   "metadata": {},
   "outputs": [],
   "source": [
    "model.fit_global(maxiter=1000, tol = 1e-6, verbose=True)\n"
   ]
  },
  {
   "cell_type": "code",
   "execution_count": null,
   "metadata": {},
   "outputs": [],
   "source": [
    "model.plot_scs()"
   ]
  },
  {
   "cell_type": "code",
   "execution_count": null,
   "metadata": {},
   "outputs": [],
   "source": [
    "plt.figure(figsize=(12,6))\n",
    "\n",
    "plt.subplot(2,3,1)\n",
    "im=plt.imshow(model.image)\n",
    "plt.colorbar(im,fraction=0.046, pad=0.04)\n",
    "plt.tight_layout()\n",
    "plt.title('Input Image')\n",
    "\n",
    "plt.subplot(2,3,2)\n",
    "im=plt.imshow(model.prediction)\n",
    "plt.colorbar(im,fraction=0.046, pad=0.04)\n",
    "plt.clim(model.image.min(),model.image.max())\n",
    "plt.tight_layout()\n",
    "plt.title('QEM Model')\n",
    "\n",
    "plt.subplot(2,3,3)\n",
    "diff = model.image - model.prediction\n",
    "im=plt.imshow(diff)\n",
    "plt.colorbar(im,fraction=0.046, pad=0.04)\n",
    "# plt.clim([-1000,1000])\n",
    "plt.tight_layout()\n",
    "plt.title('Residuals')\n",
    "\n",
    "plt.subplot(2,3,4)\n",
    "im=plt.imshow(image)\n",
    "plt.colorbar(im,fraction=0.046, pad=0.04)\n",
    "plt.tight_layout()\n",
    "plt.title('Input Image')\n",
    "\n",
    "plt.subplot(2,3,5)\n",
    "im=plt.imshow(outputStatSTEM['model'])\n",
    "plt.colorbar(im,fraction=0.046, pad=0.04)\n",
    "plt.clim(model.image.min(),model.image.max())   \n",
    "plt.tight_layout()\n",
    "plt.title('Legacy StatSTEM Model')\n",
    "\n",
    "plt.subplot(2,3,6)\n",
    "im=plt.imshow(inputStatSTEM['obs']-outputStatSTEM['model'])\n",
    "plt.colorbar(im,fraction=0.046, pad=0.04)\n",
    "# plt.clim([-1000,1000])\n",
    "plt.tight_layout()\n",
    "plt.title('Residuals')"
   ]
  }
 ],
 "metadata": {
  "kernelspec": {
   "display_name": "jax",
   "language": "python",
   "name": "python3"
  },
  "language_info": {
   "codemirror_mode": {
    "name": "ipython",
    "version": 3
   },
   "file_extension": ".py",
   "mimetype": "text/x-python",
   "name": "python",
   "nbconvert_exporter": "python",
   "pygments_lexer": "ipython3",
   "version": "3.11.9"
  },
  "orig_nbformat": 4,
  "vscode": {
   "interpreter": {
    "hash": "dc38f810c32b702a023e7dee34395aec7e635f273d03e9005a6904632c9d5ab5"
   }
  }
 },
 "nbformat": 4,
 "nbformat_minor": 2
}
