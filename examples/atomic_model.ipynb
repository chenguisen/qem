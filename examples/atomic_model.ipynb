{
 "cells": [
  {
   "cell_type": "code",
   "execution_count": 1,
   "metadata": {},
   "outputs": [
    {
     "name": "stderr",
     "output_type": "stream",
     "text": [
      "INFO:numexpr.utils:Note: NumExpr detected 20 cores but \"NUMEXPR_MAX_THREADS\" not set, so enforcing safe limit of 8.\n",
      "INFO:numexpr.utils:NumExpr defaulting to 8 threads.\n",
      "INFO:hyperspy.extensions:Enabling extension exspy\n"
     ]
    }
   ],
   "source": [
    "from qem.atomic_model import AtomicModel\n",
    "import hyperspy.api as hs   \n",
    "import scipy.io as sio\n",
    "\n",
    "file = '/home/zzhang/OneDrive/data/Yang Zhang STO/dynamic pc AXON/adf_avg_25.hspy'\n",
    "s = hs.load(file)\n",
    "image = s.data\n",
    "dx =0.071356\n",
    "matfile_path = '/home/zzhang/OneDrive/data/Yang Zhang STO/dynamic pc AXON/adf_avg_coords.mat'\n",
    "matfile = sio.loadmat(matfile_path)\n",
    "coords = matfile['coords'].astype(float)\n",
    "atomic_model = AtomicModel(image, dx, coords[:,:2]/dx,coords[:,2].astype(int)-1,['Y','Al','O'])"
   ]
  },
  {
   "cell_type": "code",
   "execution_count": null,
   "metadata": {},
   "outputs": [],
   "source": [
    "# %matplotlib qt\n",
    "# atomic_model.plot()"
   ]
  },
  {
   "cell_type": "code",
   "execution_count": null,
   "metadata": {},
   "outputs": [],
   "source": [
    "import numpy as np\n",
    "cif_file_path = '/home/zzhang/OneDrive/data/Yang Zhang STO/STEM/72104-CaYAlO4.cif'\n",
    "\n",
    "atomic_model.import_crystal_structure(cif_file_path)\n",
    "atomic_model.transform(np.array([[1,0,0],[0,0,1],[0,1,0]]))\n"
   ]
  },
  {
   "cell_type": "code",
   "execution_count": null,
   "metadata": {},
   "outputs": [],
   "source": [
    "import numpy as np\n",
    "atomic_model.origin = np.array([831.26558017, 962.21710935, 0])\n",
    "atomic_model.a = np.array([ 31.26403339, -36.73158211,0])\n",
    "atomic_model.b = np.array([-118.32881689, -100.67459688,0])\n",
    "atomic_model.c = np.array([  0.        ,   0.        , atomic_model.unitcell.lattice.abc[2]])\n"
   ]
  },
  {
   "cell_type": "code",
   "execution_count": null,
   "metadata": {},
   "outputs": [],
   "source": [
    "# %matplotlib qt\n",
    "# atomic_model.choose_lattice_vectors()"
   ]
  },
  {
   "cell_type": "code",
   "execution_count": null,
   "metadata": {},
   "outputs": [],
   "source": [
    "# atomic_model.unitcell_mapping()"
   ]
  },
  {
   "cell_type": "code",
   "execution_count": null,
   "metadata": {},
   "outputs": [],
   "source": [
    "atomic_model.supercell_with_refined_peaks(a_limit=15,b_limit=10)\n",
    "atomic_model.write_lammps()"
   ]
  },
  {
   "cell_type": "code",
   "execution_count": 8,
   "metadata": {},
   "outputs": [],
   "source": [
    "neighbor_list = atomic_model.unitcell.get_neighbors(atomic_model.unitcell[8], 5)\n",
    "# remove the same element in the neighbour_list\n",
    "neighbor_list = [neighbour for neighbour in neighbor_list if neighbour.species != atomic_model.unitcell[8].species]"
   ]
  },
  {
   "cell_type": "code",
   "execution_count": 46,
   "metadata": {},
   "outputs": [
    {
     "data": {
      "text/plain": [
       "[PeriodicSite: Ca2+:0.500, Y3+:0.500 (-1.8225, -1.8225, -1.6843) [-0.5000, -0.1418, -0.5000],\n",
       " PeriodicSite: Al3+ (0.0000, -3.6451, -0.0000) [0.0000, 0.0000, -1.0000],\n",
       " PeriodicSite: Ca2+:0.500, Y3+:0.500 (-1.8225, -1.8225, 1.6843) [-0.5000, 0.1418, -0.5000],\n",
       " PeriodicSite: Ca2+:0.500, Y3+:0.500 (0.0000, 0.0000, -4.2529) [0.0000, -0.3582, 0.0000],\n",
       " PeriodicSite: Ca2+:0.500, Y3+:0.500 (-1.8226, 1.8225, -1.6843) [-0.5000, -0.1418, 0.5000],\n",
       " PeriodicSite: Al3+ (-0.0000, 3.6451, 0.0000) [0.0000, 0.0000, 1.0000],\n",
       " PeriodicSite: Al3+ (0.0000, 0.0000, 0.0000) [0.0000, 0.0000, 0.0000],\n",
       " PeriodicSite: Ca2+:0.500, Y3+:0.500 (0.0000, 0.0000, 4.2529) [0.0000, 0.3582, 0.0000],\n",
       " PeriodicSite: Ca2+:0.500, Y3+:0.500 (-1.8226, 1.8225, 1.6843) [-0.5000, 0.1418, 0.5000],\n",
       " PeriodicSite: Ca2+:0.500, Y3+:0.500 (5.4676, -1.8225, -1.6843) [1.5000, -0.1418, -0.5000],\n",
       " PeriodicSite: Ca2+:0.500, Y3+:0.500 (1.8225, -1.8225, -1.6843) [0.5000, -0.1418, -0.5000],\n",
       " PeriodicSite: Al3+ (3.6451, -3.6451, 0.0000) [1.0000, 0.0000, -1.0000],\n",
       " PeriodicSite: Ca2+:0.500, Y3+:0.500 (5.4676, -1.8225, 1.6843) [1.5000, 0.1418, -0.5000],\n",
       " PeriodicSite: Ca2+:0.500, Y3+:0.500 (1.8225, -1.8225, 1.6843) [0.5000, 0.1418, -0.5000],\n",
       " PeriodicSite: Ca2+:0.500, Y3+:0.500 (5.4676, 1.8225, -1.6843) [1.5000, -0.1418, 0.5000],\n",
       " PeriodicSite: Ca2+:0.500, Y3+:0.500 (3.6451, 0.0000, -4.2529) [1.0000, -0.3582, 0.0000],\n",
       " PeriodicSite: Ca2+:0.500, Y3+:0.500 (1.8225, 1.8225, -1.6843) [0.5000, -0.1418, 0.5000],\n",
       " PeriodicSite: Al3+ (3.6451, 3.6451, 0.0000) [1.0000, 0.0000, 1.0000],\n",
       " PeriodicSite: Al3+ (3.6451, 0.0000, 0.0000) [1.0000, 0.0000, 0.0000],\n",
       " PeriodicSite: Ca2+:0.500, Y3+:0.500 (5.4676, 1.8225, 1.6843) [1.5000, 0.1418, 0.5000],\n",
       " PeriodicSite: Ca2+:0.500, Y3+:0.500 (3.6451, 0.0000, 4.2529) [1.0000, 0.3582, 0.0000],\n",
       " PeriodicSite: Ca2+:0.500, Y3+:0.500 (1.8225, 1.8225, 1.6843) [0.5000, 0.1418, 0.5000]]"
      ]
     },
     "execution_count": 46,
     "metadata": {},
     "output_type": "execute_result"
    }
   ],
   "source": [
    "neighbor_list"
   ]
  },
  {
   "cell_type": "code",
   "execution_count": 15,
   "metadata": {},
   "outputs": [
    {
     "data": {
      "text/plain": [
       "[PeriodicSite: Al3+ (-1.8225, -1.8225, 5.9371) [-0.5000, 0.5000, -0.5000],\n",
       " PeriodicSite: O2- (-1.8225, -1.8225, 7.9308) [-0.5000, 0.6679, -0.5000],\n",
       " PeriodicSite: O2- (-1.8225, 0.0000, 5.9371) [-0.5000, 0.5000, 0.0000],\n",
       " PeriodicSite: Al3+ (-1.8226, 1.8225, 5.9371) [-0.5000, 0.5000, 0.5000],\n",
       " PeriodicSite: O2- (-1.8226, 1.8225, 7.9308) [-0.5000, 0.6679, 0.5000],\n",
       " PeriodicSite: O2- (0.0000, -1.8225, 5.9371) [0.0000, 0.5000, -0.5000],\n",
       " PeriodicSite: Al3+ (1.8225, -1.8225, 5.9371) [0.5000, 0.5000, -0.5000],\n",
       " PeriodicSite: O2- (1.8225, -1.8225, 7.9308) [0.5000, 0.6679, -0.5000],\n",
       " PeriodicSite: O2- (1.8225, 0.0000, 5.9371) [0.5000, 0.5000, 0.0000],\n",
       " PeriodicSite: O2- (-0.0000, 1.8225, 5.9371) [0.0000, 0.5000, 0.5000],\n",
       " PeriodicSite: Al3+ (1.8225, 1.8225, 5.9371) [0.5000, 0.5000, 0.5000],\n",
       " PeriodicSite: Ca2+:0.500, Y3+:0.500 (0.0000, 0.0000, 4.2529) [0.0000, 0.3582, 0.0000],\n",
       " PeriodicSite: O2- (1.8225, 1.8225, 7.9308) [0.5000, 0.6679, 0.5000],\n",
       " PeriodicSite: O2- (0.0000, 0.0000, 9.8806) [0.0000, 0.8321, 0.0000]]"
      ]
     },
     "execution_count": 15,
     "metadata": {},
     "output_type": "execute_result"
    }
   ],
   "source": [
    "atomic_model.unitcell.get_all_neighbors(atomic_model.min_distance()['O']*atomic_model.pixel_size*4)[0]"
   ]
  },
  {
   "cell_type": "code",
   "execution_count": 26,
   "metadata": {},
   "outputs": [],
   "source": [
    "def write_lammps(filename='ABO3.lammps'):\n",
    "    total_atoms = len(atomic_model.coordinates)\n",
    "    total_types = len(np.unique(atomic_model.coordinates[:, 3]))\n",
    "    xlo = np.min(atomic_model.coordinates[:, 0])*dx\n",
    "    xhi = np.max(atomic_model.coordinates[:, 0])*dx\n",
    "    ylo = np.min(atomic_model.coordinates[:, 1])*dx\n",
    "    yhi = np.max(atomic_model.coordinates[:, 1])*dx\n",
    "    zlo = np.min(atomic_model.coordinates[:, 2])\n",
    "    zhi = np.max(atomic_model.coordinates[:, 2])\n",
    "\n",
    "    with open(filename, 'w') as f:\n",
    "        f.write('# LAMMPS data file written by QEM\\n\\n')\n",
    "        f.write(str(total_atoms)+' atoms\\n')\n",
    "        f.write(str(total_types)+' atom types\\n\\n')\n",
    "\n",
    "        f.write(f'{xlo} {xhi} xlo xhi\\n')\n",
    "        f.write(f'{ylo} {yhi} ylo yhi\\n')\n",
    "        f.write(f'{zlo} {zhi} zlo zhi\\n\\n')\n",
    "        f.write('Masses\\n\\n')\n",
    "        f.write('1 88.90585  # Y3+\\n')\n",
    "        f.write('2 26.981538  # Al3+\\n')\n",
    "        f.write('3 15.9994  # O2-\\n\\n')\n",
    "        f.write('Atoms  # atomic\\n\\n')\n",
    "        id = 0\n",
    "        for atom_type in np.unique(atomic_model.coordinates[:, 3]):\n",
    "            atom_type = int(atom_type)\n",
    "            mask = atomic_model.coordinates[:, 3] == atom_type\n",
    "            positions = atomic_model.coordinates[mask]\n",
    "            for position in positions:\n",
    "                id += 1\n",
    "                f.write(str(id)+' '+str(atom_type+1)+' '+str(position[0]*dx)+' '+str(position[1]*dx)+' '+str(position[2])+'\\n')"
   ]
  },
  {
   "cell_type": "code",
   "execution_count": 27,
   "metadata": {},
   "outputs": [],
   "source": [
    "write_lammps('test.lammps')"
   ]
  },
  {
   "cell_type": "code",
   "execution_count": 20,
   "metadata": {},
   "outputs": [],
   "source": [
    "atomic_model.write_lammps('test.lammps')"
   ]
  },
  {
   "cell_type": "code",
   "execution_count": 17,
   "metadata": {},
   "outputs": [
    {
     "data": {
      "text/plain": [
       "<matplotlib.collections.PathCollection at 0x7f937279be50>"
      ]
     },
     "execution_count": 17,
     "metadata": {},
     "output_type": "execute_result"
    }
   ],
   "source": [
    "import matplotlib.pyplot as plt\n",
    "plt.scatter(t[:,0],t[:,1],c=t[:,3])"
   ]
  },
  {
   "cell_type": "code",
   "execution_count": 12,
   "metadata": {},
   "outputs": [
    {
     "data": {
      "text/plain": [
       "{'Ca': 41.57398463439738,\n",
       " 'Y': 41.57398463439738,\n",
       " 'Al': 81.80402714115883,\n",
       " 'O': 24.38403592806684}"
      ]
     },
     "execution_count": 12,
     "metadata": {},
     "output_type": "execute_result"
    }
   ],
   "source": [
    "atomic_model.min_distance()"
   ]
  }
 ],
 "metadata": {
  "kernelspec": {
   "display_name": "jax",
   "language": "python",
   "name": "python3"
  },
  "language_info": {
   "codemirror_mode": {
    "name": "ipython",
    "version": 3
   },
   "file_extension": ".py",
   "mimetype": "text/x-python",
   "name": "python",
   "nbconvert_exporter": "python",
   "pygments_lexer": "ipython3",
   "version": "3.11.2"
  }
 },
 "nbformat": 4,
 "nbformat_minor": 2
}
