{
    "cells": [
        {
            "cell_type": "code",
            "execution_count": 1,
            "metadata": {},
            "outputs": [
                {
                    "name": "stderr",
                    "output_type": "stream",
                    "text": [
                        "INFO:root:Elements: ['Sr', 'Ti', 'O'], the order is used for the atom types.\n"
                    ]
                }
            ],
            "source": [
                "\n",
                "from qem.image_fitting import ImageModelFitting\n",
                "import scipy.io as sio\n",
                "import numpy as np\n",
                "import matplotlib.pyplot as plt\n",
                "import hyperspy.api as hs\n",
                "%matplotlib qt\n",
                "\n",
                "# file = '/home/zzhang/OneDrive/data/Nico/28.03.2024-STOonSTO21mrad/84-110/aligned_hdf5/1718 HAADF 33.7 nm 0001.emd.hspy'\n",
                "file ='/home/zzhang/OneDrive/data/Nico/28.03.2024-STOonSTO21mrad/87-110/aligned_hdf5/1530 HAADF 33.7 nm.emd.hspy'\n",
                "s = hs.load(file)\n",
                "image = s.data\n",
                "dx = s.axes_manager[-1].scale \n",
                "units = s.axes_manager[-1].units\n",
                "model=ImageModelFitting(image, dx=dx,units=units)\n"
            ]
        },
        {
            "cell_type": "code",
            "execution_count": 2,
            "metadata": {},
            "outputs": [],
            "source": [
                "model.plot()"
            ]
        },
        {
            "cell_type": "code",
            "execution_count": 2,
            "metadata": {},
            "outputs": [
                {
                    "data": {
                        "text/plain": [
                            "<Popen: returncode: None args: ['/home/zzhang/miniconda3/envs/jax/bin/python...>"
                        ]
                    },
                    "execution_count": 2,
                    "metadata": {},
                    "output_type": "execute_result"
                }
            ],
            "source": [
                "from ase import Atoms\n",
                "from ase.visualize import view\n",
                "\n",
                "# Define the lattice parameters\n",
                "a = 2.761251980533468\n",
                "b = 3.9050000000000002\n",
                "c = 2.761251980533468\n",
                "\n",
                "# Define the cell vectors for the (110) direction\n",
                "cell = [[a, 0, 0],\n",
                "        [0, b, 0],\n",
                "        [0, 0, c]]\n",
                "\n",
                "# Define the positions of Sr, Ti, and O atoms\n",
                "positions = [\n",
                "    [0, 0, 0],          # Sr at (0, 0, 0)\n",
                "    [0, 0.5*b, 0.5*c]  # Ti at (0.5, 0.5, 0.5) in fractional coordinates\n",
                "]\n",
                "\n",
                "# Create the SrTiO3 structure\n",
                "atoms = Atoms(symbols='SrTi', positions=positions, cell=cell, pbc=True)\n",
                "\n",
                "# Add oxygen atoms to the structure (optional, depending on the task)\n",
                "# Typically, O atoms would be at fractional positions such as (0.5, 0.5, 0) etc.\n",
                "\n",
                "# View the structure\n",
                "view(atoms)"
            ]
        },
        {
            "cell_type": "code",
            "execution_count": 2,
            "metadata": {},
            "outputs": [
                {
                    "name": "stderr",
                    "output_type": "stream",
                    "text": [
                        "INFO:root:Adding peak at (624.76159554731, 404.6354359925788) with atom type 0.\n",
                        "INFO:root:Removing peak at (609.0, 477.0).\n",
                        "INFO:root:Updated peak locations.\n"
                    ]
                },
                {
                    "data": {
                        "text/plain": [
                            "array([[ 185.        , 1174.        ],\n",
                            "       [1113.        ,  813.        ],\n",
                            "       [ 940.        , 1080.        ],\n",
                            "       ...,\n",
                            "       [1522.        ,   12.        ],\n",
                            "       [1935.        ,   12.        ],\n",
                            "       [ 624.76159555,  404.63543599]])"
                        ]
                    },
                    "execution_count": 2,
                    "metadata": {},
                    "output_type": "execute_result"
                }
            ],
            "source": [
                "model.find_peaks(min_distance=10,threshold_abs=11600,threshold_rel=0.05)"
            ]
        },
        {
            "cell_type": "code",
            "execution_count": 4,
            "metadata": {},
            "outputs": [
                {
                    "name": "stdout",
                    "output_type": "stream",
                    "text": [
                        "Origin selected: [ 903. 1350.]\n",
                        "Vector a selected: [18. -1.]\n",
                        "Vector b selected: [  1. -27.]\n",
                        "In pixel: Origin: [ 903. 1350.], Vector a: [18. -1.], Vector b: [  1. -27.]\n",
                        "In space: Origin: [148.58225938 222.13294591] A, Vector a: [ 2.96177261 -0.16454292] A, Vector b: [ 0.16454292 -4.44265892] A\n",
                        "Origin selected: [1024. 1024.]\n",
                        "Vector a selected: [119.   1.]\n",
                        "Vector b selected: [-1. 84.]\n",
                        "In pixel: Origin: [1024. 1024.], Vector a: [119.   1.], Vector b: [-1. 84.]\n",
                        "In space: Origin: [3.03872079 3.03872079] 1/A, Vector a: [0.35313259 0.0029675 ] 1/A, Vector b: [-0.0029675   0.24927006] 1/A\n",
                        "FFT real a: [17.20836251  0.20486146] pixel, Real b: [-0.20486146 24.37851355] pixel\n"
                    ]
                }
            ],
            "source": [
                "\n",
                "model.map_lattice(unitcell=atoms,elements=['Sr','Ti'],min_distance=10,reciprocal=True,adaptive=True)"
            ]
        },
        {
            "cell_type": "code",
            "execution_count": 5,
            "metadata": {},
            "outputs": [
                {
                    "name": "stderr",
                    "output_type": "stream",
                    "text": [
                        "INFO:root:Selected 19146 atoms out of 19585 atoms.\n"
                    ]
                }
            ],
            "source": [
                "model.select_region()"
            ]
        },
        {
            "cell_type": "code",
            "execution_count": 6,
            "metadata": {},
            "outputs": [],
            "source": [
                "model.plot_coordinates()"
            ]
        },
        {
            "cell_type": "code",
            "execution_count": 9,
            "metadata": {},
            "outputs": [
                {
                    "data": {
                        "text/plain": [
                            "<matplotlib.image.AxesImage at 0x7f50b96531d0>"
                        ]
                    },
                    "execution_count": 9,
                    "metadata": {},
                    "output_type": "execute_result"
                }
            ],
            "source": [
                "model.fit_background = True\n",
                "params = model.init_params()\n",
                "predict = model.predict_local(params)\n",
                "plt.imshow(predict)"
            ]
        },
        {
            "cell_type": "code",
            "execution_count": 11,
            "metadata": {},
            "outputs": [
                {
                    "name": "stderr",
                    "output_type": "stream",
                    "text": [
                        "INFO:root:Removing peak at (977.0, 518.0).\n",
                        "INFO:root:Adding peak at (979.1951390777258, 516.6841347097114) with atom type 0.\n",
                        "INFO:root:Invalid atom type input: control. Atom type remains 0.\n",
                        "INFO:root:Invalid atom type input: control. Atom type remains 0.\n",
                        "INFO:root:Invalid atom type input: control. Atom type remains 0.\n",
                        "INFO:root:Invalid atom type input: control. Atom type remains 0.\n",
                        "INFO:root:Invalid atom type input: r. Atom type remains 0.\n",
                        "INFO:root:Invalid atom type input: r. Atom type remains 0.\n",
                        "INFO:root:Invalid atom type input: r. Atom type remains 0.\n",
                        "INFO:root:Invalid atom type input: r. Atom type remains 0.\n",
                        "INFO:root:Invalid atom type input: r. Atom type remains 0.\n",
                        "INFO:root:Adding peak at (1148.3838109045182, 370.2755572374642) with atom type 0.\n",
                        "INFO:root:Adding peak at (1148.3838109045182, 368.06259673855004) with atom type 0.\n",
                        "INFO:root:Removing peak at (1148.3838109045182, 368.06259673855004).\n",
                        "INFO:root:Removing peak at (1148.3838109045182, 370.2755572374642).\n",
                        "INFO:root:Removing peak at (1151.0, 369.0).\n",
                        "INFO:root:Adding peak at (1150.7527837755163, 371.24935684471745) with atom type 0.\n"
                    ]
                },
                {
                    "name": "stdout",
                    "output_type": "stream",
                    "text": [
                        "Updated peak locations.\n"
                    ]
                },
                {
                    "data": {
                        "text/plain": [
                            "array([[   9.89756927, 1820.18925678],\n",
                            "       [  10.        , 1808.        ],\n",
                            "       [  10.89756927, 1894.18925678],\n",
                            "       ...,\n",
                            "       [ 609.36659451,  328.92241175],\n",
                            "       [ 979.19513908,  516.68413471],\n",
                            "       [1150.75278378,  371.24935684]])"
                        ]
                    },
                    "execution_count": 11,
                    "metadata": {},
                    "output_type": "execute_result"
                }
            ],
            "source": [
                "model.add_or_remove_peaks()"
            ]
        },
        {
            "cell_type": "code",
            "execution_count": 17,
            "metadata": {},
            "outputs": [
                {
                    "name": "stdout",
                    "output_type": "stream",
                    "text": [
                        "Warning: Cannot change to a different GUI toolkit: notebook. Using qt instead.\n"
                    ]
                },
                {
                    "name": "stderr",
                    "output_type": "stream",
                    "text": [
                        "WARNING:root:The height has negative values, the linear estimator is not valid. I will make it positive but be careful with the results.\n",
                        "Fitting random batch:  95%|█████████▌| 19/20 [01:55<00:06,  6.13s/it]/home/zzhang/OneDrive/code/qem/qem/image_fitting.py:1141: RuntimeWarning: More than 20 figures have been opened. Figures created through the pyplot interface (`matplotlib.pyplot.figure`) are retained until explicitly closed and may consume too much memory. (To control this warning, see the rcParam `figure.max_open_warning`). Consider using `matplotlib.pyplot.close()`.\n",
                        "  select_params = self.project_params(select_params)\n",
                        "Fitting random batch: 100%|██████████| 20/20 [01:58<00:00,  5.91s/it]\n",
                        "INFO:root:Convergence rate for pos_x = 0.0599218475960015\n",
                        "INFO:root:Convergence rate for pos_y = 0.05720318390444845\n",
                        "INFO:root:Convergence rate for height = 0.0002684602076592927\n",
                        "INFO:root:Convergence rate for sigma = 0.009214038616810432\n",
                        "INFO:root:Convergence rate for background = 4.254695095443106e-06\n",
                        "INFO:root:Convergence reached\n",
                        "WARNING:root:The height has negative values, the linear estimator is not valid. I will make it positive but be careful with the results.\n"
                    ]
                },
                {
                    "data": {
                        "text/plain": [
                            "{'pos_x': array([  10.84800053,   10.94980145,   11.849123  , ..., 2042.95117188,\n",
                            "        2042.95117188, 2043.05358887]),\n",
                            " 'pos_y': array([1894.14038086, 1881.95117188, 1648.14038086, ..., 1343.95117188,\n",
                            "        1429.04882812, 1331.76196289]),\n",
                            " 'height': array([214.30380411, 487.27501319, 266.99294118, ..., 277.26851274,\n",
                            "        326.80501311, 461.1385465 ]),\n",
                            " 'sigma': array([4.28655777, 4.20841507]),\n",
                            " 'background': 11467.736901161308}"
                        ]
                    },
                    "execution_count": 17,
                    "metadata": {},
                    "output_type": "execute_result"
                }
            ],
            "source": [
                "%matplotlib notebook\n",
                "model.fit_background = True\n",
                "params = model.init_params()\n",
                "model.fit_random_batch(params, batch_size=1000, maxiter=50, tol=1e-2, plot=True, step_size=0.001,verbose=False,num_epoch=1)"
            ]
        },
        {
            "cell_type": "code",
            "execution_count": 20,
            "metadata": {},
            "outputs": [],
            "source": [
                "model.plot_scs()"
            ]
        },
        {
            "cell_type": "code",
            "execution_count": 19,
            "metadata": {},
            "outputs": [],
            "source": [
                "model.plot_scs_histogram()"
            ]
        },
        {
            "cell_type": "code",
            "execution_count": 10,
            "metadata": {},
            "outputs": [],
            "source": [
                "model.plot()"
            ]
        }
    ],
    "metadata": {
        "language_info": {
            "name": "python"
        }
    },
    "nbformat": 4,
    "nbformat_minor": 2
}
