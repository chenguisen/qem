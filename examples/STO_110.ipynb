{
 "cells": [
  {
   "cell_type": "code",
   "execution_count": null,
   "metadata": {},
   "outputs": [],
   "source": [
    "\n",
    "from qem.image_fitting import ImageModelFitting\n",
    "import scipy.io as sio\n",
    "import numpy as np\n",
    "import matplotlib.pyplot as plt\n",
    "import hyperspy.api as hs\n",
    "%matplotlib qt\n",
    "\n",
    "file = '/home/zzhang/OneDrive/code/qem/data/STO/STO_110.hspy'\n",
    "s = hs.load(file)\n",
    "image = s.data\n",
    "dx = s.axes_manager[0].scale\n",
    "model=ImageModelFitting(image, dx=dx,units='A')\n"
   ]
  },
  {
   "cell_type": "code",
   "execution_count": null,
   "metadata": {},
   "outputs": [],
   "source": [
    "from ase import Atoms\n",
    "from ase.visualize import view\n",
    "\n",
    "# Define the lattice parameters\n",
    "a = 3.9050000000000002\n",
    "b = 2.761251980533468\n",
    "c = 2.761251980533468\n",
    "\n",
    "# Define the cell vectors for the (110) direction\n",
    "cell = [[a, 0, 0],\n",
    "        [0, b, 0],\n",
    "        [0, 0, c]]\n",
    "\n",
    "# Define the positions of Sr, Ti, and O atoms\n",
    "positions = [\n",
    "    [0, 0, 0],          # Sr at (0, 0, 0)\n",
    "    [0.5*a, 0.5*b, 0.5*c]  # Ti at (0.5, 0.5, 0.5) in fractional coordinates\n",
    "]\n",
    "\n",
    "# Create the SrTiO3 structure\n",
    "atoms = Atoms(symbols='SrTi', positions=positions, cell=cell, pbc=True)\n",
    "\n",
    "# Add oxygen atoms to the structure (optional, depending on the task)\n",
    "# Typically, O atoms would be at fractional positions such as (0.5, 0.5, 0) etc.\n",
    "\n",
    "# View the structure\n",
    "view(atoms)"
   ]
  },
  {
   "cell_type": "code",
   "execution_count": null,
   "metadata": {},
   "outputs": [],
   "source": [
    "from ase.io import read\n",
    "\n",
    "cif_file ='/home/zzhang/OneDrive/code/qem/data/STO/SrTiO3_mp-5229_conventional_standard.cif'\n",
    "model.map_lattice(unitcell=atoms,elements=['Sr','Ti'],min_distance=10,a_limit=70, b_limit=100,reciprocal=True)"
   ]
  }
 ],
 "metadata": {
  "language_info": {
   "name": "python"
  }
 },
 "nbformat": 4,
 "nbformat_minor": 2
}
