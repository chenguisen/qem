{
 "cells": [
  {
   "cell_type": "code",
   "execution_count": null,
   "metadata": {},
   "outputs": [],
   "source": [
    "from qem.fitting import ImageModelFitting\n",
    "from scipy.ndimage import gaussian_filter\n",
    "from qem.crystal_analyzer import CrystalAnalyzer\n",
    "import hyperspy.api as hs   \n",
    "import scipy.io as sio\n",
    "%matplotlib qt\n",
    "\n",
    "file = '/home/zzhang/OneDrive/data/Yang Zhang STO/dynamic pc AXON/adf_avg_25.hspy'\n",
    "s = hs.load(file)\n",
    "image = s.data\n",
    "dx =0.071356\n",
    "matfile_path = '/home/zzhang/OneDrive/data/Yang Zhang STO/dynamic pc AXON/adf_avg_coords.mat'\n",
    "matfile = sio.loadmat(matfile_path)\n",
    "coords = matfile['coords'].astype(float)\n",
    "\n",
    "image = gaussian_filter(image, 2)\n",
    "cif_file='/home/zzhang/OneDrive/data/Yang Zhang STO/STEM/72104-CaYAlO4-rotated.cif'\n",
    "model = ImageModelFitting(image, dx)\n",
    "model.find_peaks(threshold_rel=0.2, min_distance=10, exclude_border=True)\n",
    "model.map_lattice(cif_file=cif_file,elements=['Y','Al'],min_distance=20)"
   ]
  },
  {
   "cell_type": "code",
   "execution_count": null,
   "metadata": {
    "notebookRunGroups": {
     "groupValue": ""
    }
   },
   "outputs": [],
   "source": [
    "import matplotlib.pyplot as plt\n",
    "params = model.init_params(guess_radius=False,atom_size=0.9)\n",
    "prediction = model.predict_local(params)\n",
    "plt.imshow(prediction)"
   ]
  },
  {
   "cell_type": "code",
   "execution_count": null,
   "metadata": {},
   "outputs": [],
   "source": [
    "# model.import_coordinates(coordinates=coords[:,:2]/dx-2)\n",
    "# model.import_atom_types = coords[:,2].astype(int)-1\n",
    "model.fitting_model = 'gaussian'\n",
    "params = model.init_params(guess_radius=False,atom_size=0.9)\n",
    "\n",
    "model.fit_global(params,maxiter=3000,tol=1e-6,step_size=1e-3,verbose=True)\n",
    "# model.fit_random_batch(params,num_epoch=10, batch_size=500,maxiter=50,tol=1e-2,step_size=1e-3,plot=True)"
   ]
  },
  {
   "cell_type": "code",
   "execution_count": null,
   "metadata": {},
   "outputs": [],
   "source": [
    "import numpy as np\n",
    "plt.hist(model.volume,bins=100)\n",
    "plt.hist(model.volume[model.atom_types==0],bins=100, alpha=0.5)\n",
    "plt.hist(model.volume[model.atom_types==1],bins=100, alpha=0.5)\n",
    "# from scipy.stats import gaussian_kde\n",
    "# kde = gaussian_kde(model.volume)\n",
    "# x = np.linspace(min(model.volume), max(model.volume), 1000)\n",
    "# plt.plot(x, kde(x), color='red')\n",
    "# kde_Y = gaussian_kde(model.volume[model.atom_types==0])\n",
    "# plt.plot(x, kde_Y(x), color='blue')\n",
    "# kde_Al = gaussian_kde(model.volume[model.atom_types==1])\n",
    "# plt.plot(x, kde_Al(x), color='green')\n",
    "\n",
    "import matplotlib.pyplot as plt\n",
    "plt.subplot(1,2,1)\n",
    "plt.imshow(model.model)\n",
    "plt.subplot(1,2,2)\n",
    "plt.imshow(model.image)"
   ]
  }
 ],
 "metadata": {
  "language_info": {
   "name": "python"
  }
 },
 "nbformat": 4,
 "nbformat_minor": 2
}
