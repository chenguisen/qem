{
    "cells": [
        {
            "cell_type": "code",
            "execution_count": 48,
            "metadata": {},
            "outputs": [
                {
                    "name": "stderr",
                    "output_type": "stream",
                    "text": [
                        "INFO:root:Elements: ['Sr', 'Ti', 'O'], the order is used for the atom types. Please initiate the correct elements in your system.\n"
                    ]
                }
            ],
            "outputs": [
                {
                    "name": "stderr",
                    "output_type": "stream",
                    "text": [
                        "INFO:root:Elements: ['Sr', 'Ti', 'O'], the order is used for the atom types. Please initiate the correct elements in your system.\n"
                    ]
                }
            ],
            "source": [
                "from qem.image_fitting import ImageModelFitting\n",
                "import scipy.io as sio\n",
                "import numpy as np\n",
                "import matplotlib.pyplot as plt\n",
                "import hyperspy.api as hs\n",
                "%matplotlib qt\n",
                "\n",
                "# file = '/home/zzhang/OneDrive/code/qem/data/STO/adf_average_STO.txt'\n",
                "\n",
                "# image = np.loadtxt(file)\n",
                "# file = '/home/zzhang/OneDrive/data/Nico/28.03.2024-STOonSTO21mrad/83-100/aligned_hdf5/1859 HAADF 33.7 nm.emd.hspy'\n",
                "file = '/home/zzhang/OneDrive/code/qem/data/STO/restore_hdf5/Scanning Preview6_1.hspy'\n",
                "# file ='/home/zzhang/OneDrive/data/Nico/28.03.2024-STOonSTO21mrad/84-100/aligned_hdf5/1932 HAADF 33.7 nm.emd.hspy'\n",
                "\n",
                "s = hs.load(file)\n",
                "image = s.data\n",
                "# image = np.load(file)\n",
                "# dx= 0.1645429228960236\t\n",
                "dx = s.axes_manager[1].scale *10\n",
                "# dx = 0.36254824166962796\n",
                "model=ImageModelFitting(image, dx=dx,units='A')\n",
                "\n",
                "# get the unique coordinates by row\n",
                "# input_coordinates = np.unique(input_coordinates, axis=0)"
            ]
        },
        {
            "cell_type": "code",
            "execution_count": 4,
            "metadata": {},
            "outputs": [],
            "source": [
                "model.plot(vmin=13000)"
            ]
        },
        {
            "cell_type": "code",
            "execution_count": 8,
            "metadata": {},
            "outputs": [
                {
                    "name": "stderr",
                    "output_type": "stream",
                    "text": [
                        "INFO:root:Updated peak locations.\n"
                    ]
                },
                {
                    "data": {
                        "text/plain": [
                            "array([[1117., 1955.],\n",
                            "       [1650., 1675.],\n",
                            "       [1662.,  842.],\n",
                            "       ...,\n",
                            "       [  21.,   21.],\n",
                            "       [ 254.,    7.],\n",
                            "       [ 885.,   29.]])"
                        ]
                    },
                    "execution_count": 8,
                    "metadata": {},
                    "output_type": "execute_result"
                }
            ],
            "source": [
                "model.find_peaks(min_distance=10,threshold_abs=10600,threshold_rel=0.05)"
            ]
        },
        {
            "cell_type": "code",
            "execution_count": 6,
            "metadata": {},
            "outputs": [
                {
                    "ename": "AttributeError",
                    "evalue": "'GetRegionSelection' object has no attribute 'path'",
                    "output_type": "error",
                    "traceback": [
                        "\u001b[0;31m---------------------------------------------------------------------------\u001b[0m",
                        "\u001b[0;31mAttributeError\u001b[0m                            Traceback (most recent call last)",
                        "Cell \u001b[0;32mIn[6], line 1\u001b[0m\n\u001b[0;32m----> 1\u001b[0m \u001b[43mmodel\u001b[49m\u001b[38;5;241;43m.\u001b[39;49m\u001b[43massign_region_label\u001b[49m\u001b[43m(\u001b[49m\u001b[38;5;241;43m1\u001b[39;49m\u001b[43m)\u001b[49m\n",
                        "File \u001b[0;32m~/OneDrive/code/qem/qem/image_fitting.py:421\u001b[0m, in \u001b[0;36mImageModelFitting.assign_region_label\u001b[0;34m(self, region_index, invert_selection)\u001b[0m\n\u001b[1;32m    418\u001b[0m \u001b[38;5;28;01mwhile\u001b[39;00m plt\u001b[38;5;241m.\u001b[39mfignum_exists(atom_select\u001b[38;5;241m.\u001b[39mfig\u001b[38;5;241m.\u001b[39mnumber):  \u001b[38;5;66;03m# type: ignore\u001b[39;00m\n\u001b[1;32m    419\u001b[0m     plt\u001b[38;5;241m.\u001b[39mpause(\u001b[38;5;241m0.1\u001b[39m)\n\u001b[0;32m--> 421\u001b[0m region_mask \u001b[38;5;241m=\u001b[39m \u001b[43matom_select\u001b[49m\u001b[38;5;241;43m.\u001b[39;49m\u001b[43mget_region_mask\u001b[49m\u001b[43m(\u001b[49m\u001b[43m)\u001b[49m\n\u001b[1;32m    422\u001b[0m \u001b[38;5;28mself\u001b[39m\u001b[38;5;241m.\u001b[39mregion_map[region_mask] \u001b[38;5;241m=\u001b[39m region_index\n\u001b[1;32m    423\u001b[0m \u001b[38;5;28;01mtry\u001b[39;00m:\n",
                        "File \u001b[0;32m~/OneDrive/code/qem/qem/gui_classes.py:101\u001b[0m, in \u001b[0;36mGetRegionSelection.get_region_mask\u001b[0;34m(self)\u001b[0m\n\u001b[1;32m     99\u001b[0m points \u001b[38;5;241m=\u001b[39m np\u001b[38;5;241m.\u001b[39mindices(\u001b[38;5;28mself\u001b[39m\u001b[38;5;241m.\u001b[39mimage\u001b[38;5;241m.\u001b[39mshape)\n\u001b[1;32m    100\u001b[0m points \u001b[38;5;241m=\u001b[39m points\u001b[38;5;241m.\u001b[39mreshape(\u001b[38;5;241m2\u001b[39m, \u001b[38;5;241m-\u001b[39m\u001b[38;5;241m1\u001b[39m)\u001b[38;5;241m.\u001b[39mT\n\u001b[0;32m--> 101\u001b[0m region_mask \u001b[38;5;241m=\u001b[39m \u001b[38;5;28;43mself\u001b[39;49m\u001b[38;5;241;43m.\u001b[39;49m\u001b[43mpath\u001b[49m\u001b[38;5;241m.\u001b[39mcontains_points(points)\u001b[38;5;241m.\u001b[39mreshape(\u001b[38;5;28mself\u001b[39m\u001b[38;5;241m.\u001b[39mimage\u001b[38;5;241m.\u001b[39mshape)\u001b[38;5;241m.\u001b[39mT\n\u001b[1;32m    102\u001b[0m \u001b[38;5;28;01mif\u001b[39;00m \u001b[38;5;28mself\u001b[39m\u001b[38;5;241m.\u001b[39minvert_selection:\n\u001b[1;32m    103\u001b[0m     region_mask \u001b[38;5;241m=\u001b[39m \u001b[38;5;241m~\u001b[39mregion_mask\n",
                        "\u001b[0;31mAttributeError\u001b[0m: 'GetRegionSelection' object has no attribute 'path'"
                    ]
                }
            ],
            "source": [
                "model.assign_region_label(1)"
            ]
        },
        {
            "cell_type": "code",
            "execution_count": 5,
            "metadata": {},
            "outputs": [],
            "source": [
                "model.plot_region()"
            ]
        },
        {
            "cell_type": "code",
            "execution_count": 49,
            "metadata": {},
            "outputs": [
                {
                    "name": "stderr",
                    "output_type": "stream",
                    "text": [
                        "INFO:root:Updated peak locations.\n",
                        "/home/zzhang/OneDrive/code/qem/qem/gui_classes.py:361: UserWarning: You passed a edgecolor/edgecolors ('black') for an unfilled marker ('x').  Matplotlib is ignoring the edgecolor in favor of the facecolor.  This behavior may change in the future.\n",
                        "  plt.scatter(\n",
                        "INFO:root:Origin selected: [1153. 1324.]\n",
                        "INFO:root:Vector a selected: [22.  0.]\n",
                        "INFO:root:Vector b selected: [ -1. -23.]\n",
                        "INFO:root:In pixel: Origin: [1153. 1324.], Vector a: [22.  0.], Vector b: [ -1. -23.]\n",
                        "INFO:root:In space: Origin: [205.24881488 235.68901206] A, Vector a: [3.91628268 0.        ] A, Vector b: [-0.17801285 -4.09429553] A\n",
                        "INFO:root:Origin selected: [1024. 1024.]\n",
                        "INFO:root:Vector a selected: [92. -1.]\n",
                        "INFO:root:Vector b selected: [ -2. -91.]\n",
                        "INFO:root:In pixel: Origin: [1024. 1024.], Vector a: [92. -1.], Vector b: [ -2. -91.]\n",
                        "INFO:root:In space: Origin: [2.80878601 2.80878601] 1/A, Vector a: [ 0.25235187 -0.00274296] 1/A, Vector b: [-0.00548591 -0.24960891] 1/A\n",
                        "INFO:root:FFT real a: [22.25823981 -0.24193739] pixel, Real b: [ -0.49438745 -22.49462885] pixel\n",
                        "INFO:root:FFT real a: [ 3.96225268 -0.04306796] A, Real b: [-0.08800732 -4.00433297] A\n",
                        "INFO:root:Perfect a: [21.93532298 -0.23842742] pixel, Perfect b: [ -0.23842742 -21.93532298] pixel by rotation of unit cell and scaling with pixel size.\n"
                    ]
                },
                {
                    "data": {
                        "text/plain": [
                            "AtomicColumns(lattice=Atoms(symbols='Sr7325Ti7358', pbc=False, cell=[364.5703147256795, 364.5703147256795, 3.905], spacegroup_kinds=...), lattice_ref=Atoms(symbols='Sr7325Ti7358', pbc=False, cell=[[2.7447050062989122, 399.8245452770462, 0.0], [5.29254324078289, 397.70957432514524, 0.0], [0.0, 0.0, 3.905]], spacegroup_kinds=...), elements=['Sr', 'Ti'], tol=0, pixel_size=0.1780128489871482)"
                        ]
                    },
                    "execution_count": 49,
                    "metadata": {},
                    "output_type": "execute_result"
                }
            ],
            "source": [
                "cif_file = '/home/zzhang/OneDrive/code/qem/data/STO/SrTiO3_mp-5229_conventional_standard.cif'\n",
                "\n",
                "model.find_peaks(min_distance=9,threshold_abs=12600,threshold_rel=0.1,region_index=0)\n",
                "model.map_lattice(cif_file=cif_file,elements=['Sr','Ti'], reciprocal=True,region_index=0)"
            ]
        },
        {
            "cell_type": "code",
            "execution_count": null,
            "metadata": {},
            "outputs": [],
            "source": [
                "from ase.visualize import view\n",
                "view(model.region_atomic_column[0].lattice)"
            ]
        },
        {
            "cell_type": "code",
            "execution_count": 14,
            "metadata": {},
            "outputs": [
                {
                    "name": "stderr",
                    "output_type": "stream",
                    "text": [
                        "INFO:root:Adding peak at (454.03803339517617, 924.1159554730982) with atom type 0.\n",
                        "INFO:root:Removing peak at (454.03803339517617, 924.1159554730982).\n",
                        "INFO:root:Removing peak at (444.0081512108683, 940.5054918527459).\n",
                        "INFO:root:Updated peak locations.\n"
                    ]
                },
                {
                    "data": {
                        "text/plain": [
                            "array([[1.77531483e+00, 4.62300011e+02],\n",
                            "       [3.41558277e+00, 1.19516501e+03],\n",
                            "       [4.00000000e+00, 1.81800000e+03],\n",
                            "       ...,\n",
                            "       [2.04700815e+03, 1.90350549e+03],\n",
                            "       [2.04700815e+03, 1.94850549e+03],\n",
                            "       [2.04729892e+03, 1.35592298e+03]])"
                        ]
                    },
                    "execution_count": 14,
                    "metadata": {},
                    "output_type": "execute_result"
                }
            ],
            "source": [
                "model.add_or_remove_peaks(min_distance=10)"
            ]
        },
        {
            "cell_type": "code",
            "execution_count": 50,
            "metadata": {},
            "outputs": [
                {
                    "name": "stderr",
                    "output_type": "stream",
                    "text": [
                        "INFO:root:Selected 14432 atoms out of 14683 atoms.\n"
                    ]
                }
            ],
            "source": [
                "model.select_atoms()"
            ]
        },
        {
            "cell_type": "code",
            "execution_count": 51,
            "metadata": {},
            "outputs": [],
            "source": [
                "model.plot_coordinates(10)"
            ]
        },
        {
            "cell_type": "code",
            "execution_count": 52,
            "metadata": {},
            "outputs": [
                {
                    "name": "stderr",
                    "output_type": "stream",
                    "text": [
                        "WARNING:root:The height_scale has values smaller than 0.5, the linear estimator is probably not accurate. I will limit it to 0.5 but be careful with the results.\n",
                        "Fitting random batch: 100%|██████████| 15/15 [01:33<00:00,  6.24s/it]\n",
                        "INFO:root:Convergence rate for pos_x = 0.9697629060121926\n",
                        "INFO:root:Convergence rate for pos_y = 0.9373142147126146\n",
                        "INFO:root:Convergence rate for height = 0.0005701949451856896\n",
                        "INFO:root:Convergence rate for sigma = 0.08237148914427979\n",
                        "INFO:root:Convergence not reached\n",
                        "WARNING:root:The height_scale has values smaller than 0.5, the linear estimator is probably not accurate. I will limit it to 0.5 but be careful with the results.\n",
                        "Fitting random batch: 100%|██████████| 15/15 [01:33<00:00,  6.26s/it]\n",
                        "INFO:root:Convergence rate for pos_x = 0.5556640625\n",
                        "INFO:root:Convergence rate for pos_y = 0.563934326171875\n",
                        "INFO:root:Convergence rate for height = 0.0005212323727038352\n",
                        "INFO:root:Convergence rate for sigma = 0.06004269583993079\n",
                        "INFO:root:Convergence not reached\n",
                        "Fitting random batch: 100%|██████████| 15/15 [01:33<00:00,  6.22s/it]\n",
                        "INFO:root:Convergence rate for pos_x = 0.551483154296875\n",
                        "INFO:root:Convergence rate for pos_y = 0.54913330078125\n",
                        "INFO:root:Convergence rate for height = 0.00048299938953291343\n",
                        "INFO:root:Convergence rate for sigma = 0.04368066291614314\n",
                        "INFO:root:Convergence not reached\n",
                        "Fitting random batch: 100%|██████████| 15/15 [01:22<00:00,  5.51s/it]\n",
                        "INFO:root:Convergence rate for pos_x = 0.5534868240356445\n",
                        "INFO:root:Convergence rate for pos_y = 0.534515380859375\n",
                        "INFO:root:Convergence rate for height = 0.0004630643993437213\n",
                        "INFO:root:Convergence rate for sigma = 0.03315590537131992\n",
                        "INFO:root:Convergence not reached\n",
                        "Fitting random batch: 100%|██████████| 15/15 [01:25<00:00,  5.72s/it]\n",
                        "INFO:root:Convergence rate for pos_x = 0.5616455078125\n",
                        "INFO:root:Convergence rate for pos_y = 0.564605712890625\n",
                        "INFO:root:Convergence rate for height = 0.0004515906336696391\n",
                        "INFO:root:Convergence rate for sigma = 0.02559917906213452\n",
                        "INFO:root:Convergence not reached\n"
                    ]
                },
                {
                    "data": {
                        "text/plain": [
                            "{'pos_x': array([6.16352320e-01, 4.85905796e-01, 6.82925284e-01, ...,\n",
                            "        2.04700000e+03, 2.04700000e+03, 2.04543982e+03]),\n",
                            " 'pos_y': array([1886.67260742, 1908.85229492, 1931.64025879, ..., 1331.62353516,\n",
                            "        1353.89404297, 1376.03808594]),\n",
                            " 'height': array([1463.33162697, 1565.96057302, 1489.80933526, ..., 1168.37076285,\n",
                            "        1119.89953594, 1035.39962717]),\n",
                            " 'sigma': array([4.90816854, 5.21813257]),\n",
                            " 'background': 14329.36221133978}"
                        ]
                    },
                    "execution_count": 52,
                    "metadata": {},
                    "output_type": "execute_result"
                }
            ],
            "source": [
                "model.fit_background = True\n",
                "params = model.init_params()\n",
                "model.fit_random_batch(params, batch_size=1000, maxiter=50, tol=1e-3, plot=False, step_size=0.01,verbose=False,num_epoch=5)"
            ]
        },
        {
            "cell_type": "code",
            "execution_count": 53,
            "metadata": {},
            "outputs": [],
            "source": [
                "model.plot_fitting()"
            ]
        },
        {
            "cell_type": "code",
            "execution_count": 27,
            "metadata": {},
            "outputs": [
                {
                    "data": {
                        "text/plain": [
                            "<matplotlib.legend.Legend at 0x7f6533f50250>"
                        ]
                    },
                    "execution_count": 27,
                    "metadata": {},
                    "output_type": "execute_result"
                }
            ],
            "source": [
                "plt.figure()\n",
                "plt.hist(model.volume[model.atom_types==0], bins=100, alpha=0.5,label='Sr')\n",
                "plt.hist(model.volume[model.atom_types==1], bins=100, alpha=0.5,label='Ti')\n",
                "plt.legend()"
            ]
        },
        {
            "cell_type": "code",
            "execution_count": 54,
            "metadata": {},
            "outputs": [],
            "source": [
                "model.plot_scs(per_element=True)"
            ]
        },
        {
            "cell_type": "code",
            "execution_count": 56,
            "metadata": {},
            "outputs": [],
            "source": [
                "model.plot_scs_histogram()"
            ]
        },
        {
            "cell_type": "code",
            "execution_count": 58,
            "metadata": {},
            "outputs": [
                {
                    "name": "stderr",
                    "output_type": "stream",
                    "text": [
                        "Integrating: 100%|██████████| 14432/14432 [01:51<00:00, 129.33it/s]              \n",
                        "                                                                                      \r"
                    ]
                },
                {
                    "data": {
                        "text/plain": [
                            "(array([4278.21352888, 4514.1230821 , 4363.743962  , ..., 3232.74928103,\n",
                            "        3143.82643748, 3611.29232602]),\n",
                            " <Signal2D, title: , dimensions: (|2048, 2048)>,\n",
                            " <Signal2D, title: , dimensions: (|2048, 2048)>)"
                        ]
                    },
                    "execution_count": 58,
                    "metadata": {},
                    "output_type": "execute_result"
                }
            ],
            "source": [
                "model.voronoi_integration()"
            ]
        },
        {
            "cell_type": "code",
            "execution_count": 59,
            "metadata": {},
            "outputs": [],
            "source": [
                "model.plot_scs_voronoi()"
            ]
        },
        {
            "cell_type": "code",
            "execution_count": 63,
            "metadata": {},
            "outputs": [
                {
                    "data": {
                        "text/plain": [
                            "array([6.16352320e-01, 4.85905796e-01, 6.82925284e-01, ...,\n",
                            "       2.04700000e+03, 2.04700000e+03, 2.04543982e+03])"
                        ]
                    },
                    "execution_count": 63,
                    "metadata": {},
                    "output_type": "execute_result"
                }
            ],
            "source": [
                "model.params['pos_x']"
            ]
        },
        {
            "cell_type": "code",
            "execution_count": 65,
            "metadata": {},
            "outputs": [
                {
                    "data": {
                        "text/plain": [
                            "array([[2.05248815e+02, 2.35689012e+02, 0.00000000e+00],\n",
                            "       [2.07208407e+02, 2.33642842e+02, 1.95250000e+00],\n",
                            "       [2.01154519e+02, 2.35689012e+02, 0.00000000e+00],\n",
                            "       ...,\n",
                            "       [5.90636600e+00, 1.54379088e+00, 0.00000000e+00],\n",
                            "       [2.93679783e-02, 3.58819339e+00, 1.95250000e+00],\n",
                            "       [1.94397925e+00, 1.58686827e+00, 0.00000000e+00]])"
                        ]
                    },
                    "execution_count": 65,
                    "metadata": {},
                    "output_type": "execute_result"
                }
            ],
            "source": [
                "model.region_crysal_analyzer[0].lattice.positions"
            ]
        },
        {
            "cell_type": "code",
            "execution_count": 62,
            "metadata": {},
            "outputs": [
                {
                    "data": {
                        "text/plain": [
                            "array([[1.37817015e-01, 9.70034248e+02],\n",
                            "       [1.64976733e-01, 2.01569348e+01],\n",
                            "       [3.81963377e-01, 9.92469957e+02],\n",
                            "       ...,\n",
                            "       [2.04736442e+03, 1.33261198e+03],\n",
                            "       [2.04754982e+03, 1.35510997e+03],\n",
                            "       [2.04796976e+03, 1.37785812e+03]])"
                        ]
                    },
                    "execution_count": 62,
                    "metadata": {},
                    "output_type": "execute_result"
                }
            ],
            "source": [
                "model.region_crysal_analyzer[0].peak_positions ="
            ]
        }
    ],
    "metadata": {
        "kernelspec": {
            "display_name": "jax",
            "language": "python",
            "name": "python3"
        },
        "language_info": {
            "codemirror_mode": {
                "name": "ipython",
                "version": 3
            },
            "file_extension": ".py",
            "mimetype": "text/x-python",
            "name": "python",
            "nbconvert_exporter": "python",
            "pygments_lexer": "ipython3",
            "version": "3.11.2"
        }
    },
    "nbformat": 4,
    "nbformat_minor": 2
}
