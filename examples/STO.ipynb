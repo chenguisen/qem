{
    "cells": [
        {
            "cell_type": "code",
            "execution_count": null,
            "metadata": {},
            "outputs": [],
            "source": [
                "from qem.image_fitting import ImageModelFitting\n",
                "import scipy.io as sio\n",
                "import numpy as np\n",
                "import matplotlib.pyplot as plt\n",
                "import hyperspy.api as hs\n",
                "%matplotlib qt\n",
                "\n",
                "# file = '/home/zzhang/OneDrive/code/qem/data/STO/adf_average_STO.txt'\n",
                "\n",
                "# image = np.loadtxt(file)\n",
                "# file = '/home/zzhang/OneDrive/data/Nico/28.03.2024-STOonSTO21mrad/83-100/aligned_hdf5/1859 HAADF 33.7 nm.emd.hspy'\n",
                "file = '1859 HAADF 33.7 nm.emd.hspy'\n",
                "# file ='/home/zzhang/OneDrive/data/Nico/28.03.2024-STOonSTO21mrad/84-100/aligned_hdf5/1932 HAADF 33.7 nm.emd.hspy'\n",
                "\n",
                "s = hs.load(file)\n",
                "image = s.data\n",
                "# image = np.load(file)\n",
                "# dx= 0.1645429228960236\t\n",
                "dx = s.axes_manager[1].scale *10\n",
                "# dx = 0.36254824166962796\n",
                "model=ImageModelFitting(image, dx=dx,units='A')\n",
                "\n",
                "# get the unique coordinates by row\n",
                "# input_coordinates = np.unique(input_coordinates, axis=0)"
            ]
        },
        {
            "cell_type": "code",
            "execution_count": null,
            "metadata": {},
            "outputs": [],
            "source": [
                "model.plot()"
            ]
        },
        {
            "cell_type": "code",
            "execution_count": null,
            "metadata": {},
            "outputs": [],
            "source": [
                "model.find_peaks(min_distance=10,threshold_abs=11600,threshold_rel=0.05)"
            ]
        },
        {
            "cell_type": "code",
            "execution_count": null,
            "metadata": {},
            "outputs": [],
            "source": [
                "model.assign_region_label(1)"
            ]
        },
        {
            "cell_type": "code",
            "execution_count": 5,
            "metadata": {},
            "outputs": [],
            "source": [
                "model.plot_region()"
            ]
        },
        {
            "cell_type": "code",
            "execution_count": null,
            "metadata": {},
            "outputs": [],
            "source": [
                "%matplotlib qt\n",
                "cif_file = '/home/zzhang/OneDrive/code/qem/data/STO/SrTiO3_mp-5229_conventional_standard.cif'\n",
                "model.map_lattice(cif_file=cif_file,elements=['Sr','Ti'], reciprocal=True)"
            ]
        },
        {
            "cell_type": "code",
            "execution_count": null,
            "metadata": {},
            "outputs": [],
            "source": [
                "model.find_peaks(min_distance=10,threshold_abs=11600,threshold_rel=0.05,region_index=1)\n",
                "model.map_lattice(cif_file=cif_file,elements=['Sr','Ti'], reciprocal=True,region_index=1)"
            ]
        },
        {
            "cell_type": "code",
            "execution_count": null,
            "metadata": {},
            "outputs": [],
            "source": [
                "from ase.visualize import view\n",
                "view(model.region_atomic_column[0].lattice)"
            ]
        },
        {
            "cell_type": "code",
            "execution_count": null,
            "metadata": {},
            "outputs": [],
            "source": [
                "model.add_or_remove_peaks(min_distance=10)"
            ]
        },
        {
            "cell_type": "code",
            "execution_count": 9,
            "metadata": {},
            "outputs": [],
            "source": [
                "model.plot_coordinates(10)"
            ]
        },
        {
            "cell_type": "code",
            "execution_count": null,
            "metadata": {},
            "outputs": [],
            "source": [
                "model.fit_background = True\n",
                "params = model.init_params()\n",
                "model.fit_random_batch(params, batch_size=1000, maxiter=50, tol=1e-3, plot=False, step_size=0.01,verbose=False,num_epoch=1)"
            ]
        },
        {
            "cell_type": "code",
            "execution_count": 12,
            "metadata": {},
            "outputs": [],
            "source": [
                "model.plot_fitting()"
            ]
        },
        {
            "cell_type": "code",
            "execution_count": null,
            "metadata": {},
            "outputs": [],
            "source": [
                "plt.figure()\n",
                "plt.hist(model.volume[model.atom_types==0], bins=100, alpha=0.5,label='Sr')\n",
                "plt.hist(model.volume[model.atom_types==1], bins=100, alpha=0.5,label='Ti')\n",
                "plt.legend()"
            ]
        },
        {
            "cell_type": "code",
            "execution_count": 7,
            "metadata": {},
            "outputs": [],
            "source": [
                "model.plot_scs(per_element=True)"
            ]
        },
        {
            "cell_type": "code",
            "execution_count": 15,
            "metadata": {},
            "outputs": [],
            "source": [
                "model.plot_scs_histogram()"
            ]
        },
        {
            "cell_type": "code",
            "execution_count": null,
            "metadata": {},
            "outputs": [],
            "source": [
                "import numpy as np\n",
                "\n",
                "# Sample array\n",
                "arr = np.array([2, 3, 2, 1, 3, 1, 4])\n",
                "\n",
                "# Get unique values, indices of first occurrence, and inverse mapping\n",
                "unique_values, first_indices, inverse_indices = np.unique(arr, return_index=True, return_inverse=True)\n",
                "\n",
                "# Create a dictionary to store the indices of all occurrences for each unique value\n",
                "occurrences = {value: np.where(inverse_indices == i)[0] for i, value in enumerate(unique_values)}\n",
                "\n",
                "print(\"Unique values:\", unique_values)\n",
                "print(\"Indices of first occurrence:\", first_indices)\n",
                "print(\"Indices of all occurrences for each unique value:\", occurrences)\n"
            ]
        },
        {
            "cell_type": "code",
            "execution_count": null,
            "metadata": {},
            "outputs": [],
            "source": [
                "import numpy as np\n",
                "from scipy.cluster.hierarchy import fcluster, linkage\n",
                "\n",
                "# Sample array with values that need tolerance larger than 1\n",
                "arr = np.array([1, 2, 2.5, 3.2, 10, 10.5, 15])\n",
                "\n",
                "# Set the desired tolerance (e.g., values within 3 units are considered the same)\n",
                "tolerance = 3\n",
                "\n",
                "# Perform hierarchical clustering\n",
                "Z = linkage(arr[:, None], method='single', metric='euclidean')\n",
                "\n",
                "# Create clusters based on the tolerance\n",
                "clusters = fcluster(Z, t=tolerance, criterion='distance')\n",
                "\n",
                "# Find unique cluster labels and indices of first occurrence\n",
                "_, unique_indices = np.unique(clusters, return_index=True)\n",
                "\n",
                "# Get unique values based on clusters\n",
                "unique_values = arr[unique_indices]\n",
                "\n",
                "print(\"Unique values with tolerance:\", unique_values)\n",
                "print(\"Indices of first occurrence:\", unique_indices)\n"
            ]
        }
    ],
    "metadata": {
        "kernelspec": {
            "display_name": "jax",
            "language": "python",
            "name": "python3"
        },
        "language_info": {
            "codemirror_mode": {
                "name": "ipython",
                "version": 3
            },
            "file_extension": ".py",
            "mimetype": "text/x-python",
            "name": "python",
            "nbconvert_exporter": "python",
            "pygments_lexer": "ipython3",
            "version": "3.11.9"
        }
    },
    "nbformat": 4,
    "nbformat_minor": 2
}
