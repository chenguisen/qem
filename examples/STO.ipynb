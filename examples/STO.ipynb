{
    "cells": [
        {
            "cell_type": "code",
            "execution_count": 1,
            "metadata": {},
            "outputs": [
                {
                    "name": "stderr",
                    "output_type": "stream",
                    "text": [
                        "INFO:root:Elements: ['Sr', 'Ti', 'O'], the order is used for the atom types. Please initiate the correct elements in your system.\n"
                    ]
                }
            ],
            "source": [
                "from qem.image_fitting import ImageModelFitting\n",
                "import scipy.io as sio\n",
                "import numpy as np\n",
                "import matplotlib.pyplot as plt\n",
                "import hyperspy.api as hs\n",
                "%matplotlib qt\n",
                "\n",
                "# file = '/home/zzhang/OneDrive/code/qem/data/STO/adf_average_STO.txt'\n",
                "\n",
                "# image = np.loadtxt(file)\n",
                "# file = '/home/zzhang/OneDrive/data/Nico/28.03.2024-STOonSTO21mrad/83-100/aligned_hdf5/1859 HAADF 33.7 nm.emd.hspy'\n",
                "file = '1859 HAADF 33.7 nm.emd.hspy'\n",
                "# file ='/home/zzhang/OneDrive/data/Nico/28.03.2024-STOonSTO21mrad/84-100/aligned_hdf5/1932 HAADF 33.7 nm.emd.hspy'\n",
                "\n",
                "s = hs.load(file)\n",
                "image = s.data\n",
                "# image = np.load(file)\n",
                "# dx= 0.1645429228960236\t\n",
                "dx = s.axes_manager[1].scale *10\n",
                "# dx = 0.36254824166962796\n",
                "model=ImageModelFitting(image, dx=dx,units='A')\n",
                "\n",
                "# get the unique coordinates by row\n",
                "# input_coordinates = np.unique(input_coordinates, axis=0)"
            ]
        },
        {
            "cell_type": "code",
            "execution_count": null,
            "metadata": {},
            "outputs": [],
            "source": [
                "model.plot()"
            ]
        },
        {
            "cell_type": "code",
            "execution_count": 2,
            "metadata": {},
            "outputs": [
                {
                    "name": "stderr",
                    "output_type": "stream",
                    "text": [
                        "INFO:root:Updated peak locations.\n"
                    ]
                },
                {
                    "data": {
                        "text/plain": [
                            "array([[ 613., 1575.],\n",
                            "       [ 907.,  820.],\n",
                            "       [ 396., 1306.],\n",
                            "       ...,\n",
                            "       [ 917.,  121.],\n",
                            "       [1421.,  206.],\n",
                            "       [1586.,  121.]])"
                        ]
                    },
                    "execution_count": 2,
                    "metadata": {},
                    "output_type": "execute_result"
                }
            ],
            "source": [
                "model.find_peaks(min_distance=10,threshold_abs=11600,threshold_rel=0.05)"
            ]
        },
        {
            "cell_type": "code",
            "execution_count": null,
            "metadata": {},
            "outputs": [],
            "source": [
                "model.assign_region_label(1)"
            ]
        },
        {
            "cell_type": "code",
            "execution_count": 5,
            "metadata": {},
            "outputs": [],
            "source": [
                "model.plot_region()"
            ]
        },
        {
            "cell_type": "code",
            "execution_count": 3,
            "metadata": {},
            "outputs": [
                {
                    "name": "stderr",
                    "output_type": "stream",
                    "text": [
                        "/home/zzhang/OneDrive/code/qem/qem/gui_classes.py:361: UserWarning: You passed a edgecolor/edgecolors ('black') for an unfilled marker ('x').  Matplotlib is ignoring the edgecolor in favor of the facecolor.  This behavior may change in the future.\n",
                        "  plt.scatter(\n",
                        "INFO:root:Origin selected: [ 807. 1307.]\n",
                        "INFO:root:Vector a selected: [25.  2.]\n",
                        "INFO:root:Vector b selected: [  1. -22.]\n",
                        "INFO:root:In pixel: Origin: [ 807. 1307.], Vector a: [25.  2.], Vector b: [  1. -22.]\n",
                        "INFO:root:In space: Origin: [132.78613878 215.05760023] A, Vector a: [4.11357307 0.32908585] A, Vector b: [ 0.16454292 -3.6199443 ] A\n",
                        "INFO:root:Origin selected: [1024. 1108.]\n",
                        "INFO:root:Vector a selected: [84.  0.]\n",
                        "INFO:root:Vector b selected: [-1. 84.]\n",
                        "INFO:root:In pixel: Origin: [1024. 1108.], Vector a: [84.  0.], Vector b: [-1. 84.]\n",
                        "INFO:root:In space: Origin: [3.03872079 3.28799085] 1/A, Vector a: [0.24927006 0.        ] 1/A, Vector b: [-0.0029675   0.24927006] 1/A\n",
                        "INFO:root:FFT real a: [24.38095238  0.        ] pixel, Real b: [-0.2902083  24.37749752] pixel\n",
                        "INFO:root:FFT real a: [4.01171317 0.        ] A, Real b: [-0.04775172  4.01114469] A\n",
                        "INFO:root:Perfect a: [23.97629707  0.        ] pixel, Perfect b: [ 0.         23.97629707] pixel by rotation of unit cell and scaling with pixel size.\n"
                    ]
                },
                {
                    "data": {
                        "text/plain": [
                            "AtomicColumns(lattice=Atoms(symbols='Sr6364Ti6399', pbc=False, cell=[336.98390609105627, 336.98390609105627, 3.94513], spacegroup_kinds=...), lattice_ref=Atoms(symbols='Sr6364Ti6399', pbc=False, cell=[336.98390609105627, 336.98390609105627, 3.94513], spacegroup_kinds=...), elements=['Sr', 'Ti'], tol=0, pixel_size=0.16454292289602357, reference={'origin': array([ 807., 1307.]), 'vector_a': array([23.97629707,  0.        ]), 'vector_b': array([ 0.        , 23.97629707])})"
                        ]
                    },
                    "execution_count": 3,
                    "metadata": {},
                    "output_type": "execute_result"
                }
            ],
            "source": [
                "%matplotlib qt\n",
                "cif_file = '/home/zzhang/OneDrive/code/qem/data/STO/SrTiO3_mp-5229_conventional_standard.cif'\n",
                "model.map_lattice(cif_file=cif_file,elements=['Sr','Ti'], reciprocal=True)"
            ]
        },
        {
            "cell_type": "code",
            "execution_count": 8,
            "metadata": {},
            "outputs": [
                {
                    "data": {
                        "text/plain": [
                            "AtomicColumns(lattice=Atoms(symbols='Sr6370Ti6393', pbc=False, cell=[336.98390609105627, 336.98390609105627, 3.94513], spacegroup_kinds=...), lattice_ref=Atoms(symbols='Sr6370Ti6393', pbc=False, cell=[336.98390609105627, 336.98390609105627, 3.94513], spacegroup_kinds=...), elements=['Sr', 'Ti'], tol=0, pixel_size=0.16454292289602357, reference={'origin': array([ 710., 1405.]), 'vector_a': array([23.97629707,  0.        ]), 'vector_b': array([ 0.        , 23.97629707])})"
                        ]
                    },
                    "execution_count": 8,
                    "metadata": {},
                    "output_type": "execute_result"
                }
            ],
            "source": [
                "model.region_crysal_analyzer[0].atomic_columns"
            ]
        },
        {
            "cell_type": "code",
            "execution_count": 16,
            "metadata": {},
            "outputs": [],
            "source": [
                "from matscipy.neighbours import neighbour_list\n",
                "i,j = neighbour_list('ij', model.region_crysal_analyzer[0].atomic_columns.lattice, 5.0)\n",
                "coord = np.bincount(i)"
            ]
        },
        {
            "cell_type": "code",
            "execution_count": 4,
            "metadata": {},
            "outputs": [
                {
                    "data": {
                        "text/plain": [
                            "12763"
                        ]
                    },
                    "execution_count": 4,
                    "metadata": {},
                    "output_type": "execute_result"
                }
            ],
            "source": [
                "model.region_crysal_analyzer[0].atomic_columns.lattice.get_global_number_of_atoms()"
            ]
        },
        {
            "cell_type": "code",
            "execution_count": 26,
            "metadata": {},
            "outputs": [
                {
                    "data": {
                        "text/plain": [
                            "(100460,)"
                        ]
                    },
                    "execution_count": 26,
                    "metadata": {},
                    "output_type": "execute_result"
                }
            ],
            "source": [
                "i.shape"
            ]
        },
        {
            "cell_type": "code",
            "execution_count": 25,
            "metadata": {},
            "outputs": [
                {
                    "data": {
                        "text/plain": [
                            "(12763,)"
                        ]
                    },
                    "execution_count": 25,
                    "metadata": {},
                    "output_type": "execute_result"
                }
            ],
            "source": [
                "coord.shape"
            ]
        },
        {
            "cell_type": "code",
            "execution_count": 21,
            "metadata": {},
            "outputs": [
                {
                    "data": {
                        "text/plain": [
                            "(100460,)"
                        ]
                    },
                    "execution_count": 21,
                    "metadata": {},
                    "output_type": "execute_result"
                }
            ],
            "source": [
                "j.shape"
            ]
        },
        {
            "cell_type": "code",
            "execution_count": 5,
            "metadata": {},
            "outputs": [
                {
                    "name": "stderr",
                    "output_type": "stream",
                    "text": [
                        "/home/zzhang/miniconda3/envs/jax/lib/python3.11/site-packages/numpy/core/fromnumeric.py:3504: RuntimeWarning: Mean of empty slice.\n",
                        "  return _methods._mean(a, axis=axis, dtype=dtype,\n",
                        "/home/zzhang/miniconda3/envs/jax/lib/python3.11/site-packages/numpy/core/_methods.py:121: RuntimeWarning: invalid value encountered in divide\n",
                        "  ret = um.true_divide(\n"
                    ]
                },
                {
                    "ename": "KeyboardInterrupt",
                    "evalue": "",
                    "output_type": "error",
                    "traceback": [
                        "\u001b[0;31m---------------------------------------------------------------------------\u001b[0m",
                        "\u001b[0;31mKeyboardInterrupt\u001b[0m                         Traceback (most recent call last)",
                        "Cell \u001b[0;32mIn[5], line 1\u001b[0m\n\u001b[0;32m----> 1\u001b[0m \u001b[43mmodel\u001b[49m\u001b[38;5;241;43m.\u001b[39;49m\u001b[43mregion_crysal_analyzer\u001b[49m\u001b[43m[\u001b[49m\u001b[38;5;241;43m0\u001b[39;49m\u001b[43m]\u001b[49m\u001b[38;5;241;43m.\u001b[39;49m\u001b[43mplot_displacement\u001b[49m\u001b[43m(\u001b[49m\u001b[43mcut_off\u001b[49m\u001b[38;5;241;43m=\u001b[39;49m\u001b[38;5;241;43m5.0\u001b[39;49m\u001b[43m)\u001b[49m\n",
                        "File \u001b[0;32m~/OneDrive/code/qem/qem/crystal_analyzer.py:600\u001b[0m, in \u001b[0;36mCrystalAnalyzer.plot_displacement\u001b[0;34m(self, mode, cut_off)\u001b[0m\n\u001b[1;32m    598\u001b[0m \u001b[38;5;28;01mdef\u001b[39;00m \u001b[38;5;21mplot_displacement\u001b[39m(\u001b[38;5;28mself\u001b[39m, mode\u001b[38;5;241m=\u001b[39m\u001b[38;5;124m'\u001b[39m\u001b[38;5;124mlocal\u001b[39m\u001b[38;5;124m'\u001b[39m,cut_off\u001b[38;5;241m=\u001b[39m\u001b[38;5;241m5.0\u001b[39m):\n\u001b[1;32m    599\u001b[0m     \u001b[38;5;28;01mif\u001b[39;00m mode \u001b[38;5;241m==\u001b[39m \u001b[38;5;124m'\u001b[39m\u001b[38;5;124mlocal\u001b[39m\u001b[38;5;124m'\u001b[39m:\n\u001b[0;32m--> 600\u001b[0m         displacement \u001b[38;5;241m=\u001b[39m \u001b[38;5;28;43mself\u001b[39;49m\u001b[38;5;241;43m.\u001b[39;49m\u001b[43matomic_columns\u001b[49m\u001b[38;5;241;43m.\u001b[39;49m\u001b[43mget_local_displacements\u001b[49m\u001b[43m(\u001b[49m\u001b[43mcut_off\u001b[49m\u001b[43m)\u001b[49m\n\u001b[1;32m    601\u001b[0m     \u001b[38;5;28;01melse\u001b[39;00m:\n\u001b[1;32m    602\u001b[0m         displacement \u001b[38;5;241m=\u001b[39m \u001b[38;5;28mself\u001b[39m\u001b[38;5;241m.\u001b[39matomic_columns\u001b[38;5;241m.\u001b[39mdisplacements\n",
                        "File \u001b[0;32m~/OneDrive/code/qem/qem/atomic_column.py:75\u001b[0m, in \u001b[0;36mAtomicColumns.get_local_displacements\u001b[0;34m(self, cutoff)\u001b[0m\n\u001b[1;32m     73\u001b[0m lattice_2d \u001b[38;5;241m=\u001b[39m lattice_2d[mask]\n\u001b[1;32m     74\u001b[0m i,j \u001b[38;5;241m=\u001b[39m neighbour_list(\u001b[38;5;124m'\u001b[39m\u001b[38;5;124mij\u001b[39m\u001b[38;5;124m'\u001b[39m, lattice_2d, cutoff)\n\u001b[0;32m---> 75\u001b[0m local_displacements \u001b[38;5;241m=\u001b[39m \u001b[38;5;28mself\u001b[39m\u001b[38;5;241m.\u001b[39mdisplacements \u001b[38;5;241m-\u001b[39m np\u001b[38;5;241m.\u001b[39marray(\u001b[43m[\u001b[49m\u001b[43mnp\u001b[49m\u001b[38;5;241;43m.\u001b[39;49m\u001b[43mmean\u001b[49m\u001b[43m(\u001b[49m\u001b[38;5;28;43mself\u001b[39;49m\u001b[38;5;241;43m.\u001b[39;49m\u001b[43mdisplacements\u001b[49m\u001b[43m[\u001b[49m\u001b[43mj\u001b[49m\u001b[43m[\u001b[49m\u001b[43mi\u001b[49m\u001b[38;5;241;43m==\u001b[39;49m\u001b[43midx\u001b[49m\u001b[43m]\u001b[49m\u001b[43m]\u001b[49m\u001b[43m,\u001b[49m\u001b[43m \u001b[49m\u001b[43maxis\u001b[49m\u001b[38;5;241;43m=\u001b[39;49m\u001b[38;5;241;43m0\u001b[39;49m\u001b[43m)\u001b[49m\u001b[43m \u001b[49m\u001b[38;5;28;43;01mfor\u001b[39;49;00m\u001b[43m \u001b[49m\u001b[43midx\u001b[49m\u001b[43m \u001b[49m\u001b[38;5;129;43;01min\u001b[39;49;00m\u001b[43m \u001b[49m\u001b[38;5;28;43mrange\u001b[39;49m\u001b[43m(\u001b[49m\u001b[38;5;28;43mlen\u001b[39;49m\u001b[43m(\u001b[49m\u001b[43mlattice_2d\u001b[49m\u001b[43m)\u001b[49m\u001b[43m)\u001b[49m\u001b[43m]\u001b[49m)\n\u001b[1;32m     78\u001b[0m \u001b[38;5;66;03m# local_displacements = self.displacements - np.array([np.mean(self.displacements[row], axis=0) for row in neighbour_mask])\u001b[39;00m\n\u001b[1;32m     79\u001b[0m \u001b[38;5;28;01mreturn\u001b[39;00m local_displacements\n",
                        "File \u001b[0;32m~/OneDrive/code/qem/qem/atomic_column.py:75\u001b[0m, in \u001b[0;36m<listcomp>\u001b[0;34m(.0)\u001b[0m\n\u001b[1;32m     73\u001b[0m lattice_2d \u001b[38;5;241m=\u001b[39m lattice_2d[mask]\n\u001b[1;32m     74\u001b[0m i,j \u001b[38;5;241m=\u001b[39m neighbour_list(\u001b[38;5;124m'\u001b[39m\u001b[38;5;124mij\u001b[39m\u001b[38;5;124m'\u001b[39m, lattice_2d, cutoff)\n\u001b[0;32m---> 75\u001b[0m local_displacements \u001b[38;5;241m=\u001b[39m \u001b[38;5;28mself\u001b[39m\u001b[38;5;241m.\u001b[39mdisplacements \u001b[38;5;241m-\u001b[39m np\u001b[38;5;241m.\u001b[39marray([np\u001b[38;5;241m.\u001b[39mmean(\u001b[38;5;28;43mself\u001b[39;49m\u001b[38;5;241;43m.\u001b[39;49m\u001b[43mdisplacements\u001b[49m[j[i\u001b[38;5;241m==\u001b[39midx]], axis\u001b[38;5;241m=\u001b[39m\u001b[38;5;241m0\u001b[39m) \u001b[38;5;28;01mfor\u001b[39;00m idx \u001b[38;5;129;01min\u001b[39;00m \u001b[38;5;28mrange\u001b[39m(\u001b[38;5;28mlen\u001b[39m(lattice_2d))])\n\u001b[1;32m     78\u001b[0m \u001b[38;5;66;03m# local_displacements = self.displacements - np.array([np.mean(self.displacements[row], axis=0) for row in neighbour_mask])\u001b[39;00m\n\u001b[1;32m     79\u001b[0m \u001b[38;5;28;01mreturn\u001b[39;00m local_displacements\n",
                        "File \u001b[0;32m~/OneDrive/code/qem/qem/atomic_column.py:84\u001b[0m, in \u001b[0;36mAtomicColumns.displacements\u001b[0;34m(self)\u001b[0m\n\u001b[1;32m     81\u001b[0m \u001b[38;5;129m@property\u001b[39m\n\u001b[1;32m     82\u001b[0m \u001b[38;5;28;01mdef\u001b[39;00m \u001b[38;5;21mdisplacements\u001b[39m(\u001b[38;5;28mself\u001b[39m) \u001b[38;5;241m-\u001b[39m\u001b[38;5;241m>\u001b[39m np\u001b[38;5;241m.\u001b[39mndarray:\n\u001b[1;32m     83\u001b[0m \u001b[38;5;250m    \u001b[39m\u001b[38;5;124;03m\"\"\"Return the displacement of the column.\"\"\"\u001b[39;00m\n\u001b[0;32m---> 84\u001b[0m     \u001b[38;5;28;01mreturn\u001b[39;00m \u001b[38;5;28;43mself\u001b[39;49m\u001b[38;5;241;43m.\u001b[39;49m\u001b[43mpositions_pixel\u001b[49m \u001b[38;5;241m-\u001b[39m \u001b[38;5;28mself\u001b[39m\u001b[38;5;241m.\u001b[39mpositions_pixel_ref\n",
                        "File \u001b[0;32m~/OneDrive/code/qem/qem/atomic_column.py:89\u001b[0m, in \u001b[0;36mAtomicColumns.positions_pixel\u001b[0;34m(self)\u001b[0m\n\u001b[1;32m     86\u001b[0m \u001b[38;5;129m@property\u001b[39m\n\u001b[1;32m     87\u001b[0m \u001b[38;5;28;01mdef\u001b[39;00m \u001b[38;5;21mpositions_pixel\u001b[39m(\u001b[38;5;28mself\u001b[39m) \u001b[38;5;241m-\u001b[39m\u001b[38;5;241m>\u001b[39m np\u001b[38;5;241m.\u001b[39mndarray:\n\u001b[1;32m     88\u001b[0m \u001b[38;5;250m    \u001b[39m\u001b[38;5;124;03m\"\"\"Return an array of positions.\"\"\"\u001b[39;00m\n\u001b[0;32m---> 89\u001b[0m     coords_2d, _ \u001b[38;5;241m=\u001b[39m \u001b[38;5;28;43mself\u001b[39;49m\u001b[38;5;241;43m.\u001b[39;49m\u001b[43mget_columns\u001b[49m\u001b[43m(\u001b[49m\u001b[43m)\u001b[49m\n\u001b[1;32m     90\u001b[0m     \u001b[38;5;28;01mreturn\u001b[39;00m coords_2d\n",
                        "File \u001b[0;32m~/OneDrive/code/qem/qem/atomic_column.py:45\u001b[0m, in \u001b[0;36mAtomicColumns.get_columns\u001b[0;34m(self)\u001b[0m\n\u001b[1;32m     35\u001b[0m \u001b[38;5;250m\u001b[39m\u001b[38;5;124;03m\"\"\"project the 3d atomic lattice onto the 2d plane in z direction and return the unique atomic columns\u001b[39;00m\n\u001b[1;32m     36\u001b[0m \n\u001b[1;32m     37\u001b[0m \u001b[38;5;124;03mArgs:\u001b[39;00m\n\u001b[0;32m   (...)\u001b[0m\n\u001b[1;32m     42\u001b[0m \u001b[38;5;124;03m    atomic_numbers (np.ndarray): atomic numbers of the atoms in the atomic columns\u001b[39;00m\n\u001b[1;32m     43\u001b[0m \u001b[38;5;124;03m\"\"\"\u001b[39;00m\n\u001b[1;32m     44\u001b[0m \u001b[38;5;66;03m# project the 3d atomic lattice onto the 2d plane in z direction\u001b[39;00m\n\u001b[0;32m---> 45\u001b[0m coords_2d, mask \u001b[38;5;241m=\u001b[39m \u001b[43mnp\u001b[49m\u001b[38;5;241;43m.\u001b[39;49m\u001b[43munique\u001b[49m\u001b[43m(\u001b[49m\u001b[38;5;28;43mself\u001b[39;49m\u001b[38;5;241;43m.\u001b[39;49m\u001b[43mlattice\u001b[49m\u001b[38;5;241;43m.\u001b[39;49m\u001b[43mpositions\u001b[49m\u001b[43m[\u001b[49m\u001b[43m:\u001b[49m\u001b[43m,\u001b[49m\u001b[43m \u001b[49m\u001b[43m:\u001b[49m\u001b[38;5;241;43m2\u001b[39;49m\u001b[43m]\u001b[49m\u001b[43m,\u001b[49m\u001b[43m \u001b[49m\u001b[43maxis\u001b[49m\u001b[38;5;241;43m=\u001b[39;49m\u001b[38;5;241;43m0\u001b[39;49m\u001b[43m,\u001b[49m\u001b[43m \u001b[49m\u001b[43mreturn_index\u001b[49m\u001b[38;5;241;43m=\u001b[39;49m\u001b[38;5;28;43;01mTrue\u001b[39;49;00m\u001b[43m)\u001b[49m\n\u001b[1;32m     46\u001b[0m coords_2d \u001b[38;5;241m=\u001b[39m coords_2d\u001b[38;5;241m/\u001b[39m\u001b[38;5;28mself\u001b[39m\u001b[38;5;241m.\u001b[39mpixel_size\n\u001b[1;32m     47\u001b[0m atomic_numbers \u001b[38;5;241m=\u001b[39m \u001b[38;5;28mself\u001b[39m\u001b[38;5;241m.\u001b[39mlattice\u001b[38;5;241m.\u001b[39mget_atomic_numbers()[mask]\n",
                        "File \u001b[0;32m~/miniconda3/envs/jax/lib/python3.11/site-packages/numpy/lib/arraysetops.py:317\u001b[0m, in \u001b[0;36munique\u001b[0;34m(ar, return_index, return_inverse, return_counts, axis, equal_nan)\u001b[0m\n\u001b[1;32m    314\u001b[0m     uniq \u001b[38;5;241m=\u001b[39m np\u001b[38;5;241m.\u001b[39mmoveaxis(uniq, \u001b[38;5;241m0\u001b[39m, axis)\n\u001b[1;32m    315\u001b[0m     \u001b[38;5;28;01mreturn\u001b[39;00m uniq\n\u001b[0;32m--> 317\u001b[0m output \u001b[38;5;241m=\u001b[39m \u001b[43m_unique1d\u001b[49m\u001b[43m(\u001b[49m\u001b[43mconsolidated\u001b[49m\u001b[43m,\u001b[49m\u001b[43m \u001b[49m\u001b[43mreturn_index\u001b[49m\u001b[43m,\u001b[49m\n\u001b[1;32m    318\u001b[0m \u001b[43m                   \u001b[49m\u001b[43mreturn_inverse\u001b[49m\u001b[43m,\u001b[49m\u001b[43m \u001b[49m\u001b[43mreturn_counts\u001b[49m\u001b[43m,\u001b[49m\u001b[43m \u001b[49m\u001b[43mequal_nan\u001b[49m\u001b[38;5;241;43m=\u001b[39;49m\u001b[43mequal_nan\u001b[49m\u001b[43m)\u001b[49m\n\u001b[1;32m    319\u001b[0m output \u001b[38;5;241m=\u001b[39m (reshape_uniq(output[\u001b[38;5;241m0\u001b[39m]),) \u001b[38;5;241m+\u001b[39m output[\u001b[38;5;241m1\u001b[39m:]\n\u001b[1;32m    320\u001b[0m \u001b[38;5;28;01mreturn\u001b[39;00m _unpack_tuple(output)\n",
                        "File \u001b[0;32m~/miniconda3/envs/jax/lib/python3.11/site-packages/numpy/lib/arraysetops.py:333\u001b[0m, in \u001b[0;36m_unique1d\u001b[0;34m(ar, return_index, return_inverse, return_counts, equal_nan)\u001b[0m\n\u001b[1;32m    330\u001b[0m optional_indices \u001b[38;5;241m=\u001b[39m return_index \u001b[38;5;129;01mor\u001b[39;00m return_inverse\n\u001b[1;32m    332\u001b[0m \u001b[38;5;28;01mif\u001b[39;00m optional_indices:\n\u001b[0;32m--> 333\u001b[0m     perm \u001b[38;5;241m=\u001b[39m \u001b[43mar\u001b[49m\u001b[38;5;241;43m.\u001b[39;49m\u001b[43margsort\u001b[49m\u001b[43m(\u001b[49m\u001b[43mkind\u001b[49m\u001b[38;5;241;43m=\u001b[39;49m\u001b[38;5;124;43m'\u001b[39;49m\u001b[38;5;124;43mmergesort\u001b[39;49m\u001b[38;5;124;43m'\u001b[39;49m\u001b[43m \u001b[49m\u001b[38;5;28;43;01mif\u001b[39;49;00m\u001b[43m \u001b[49m\u001b[43mreturn_index\u001b[49m\u001b[43m \u001b[49m\u001b[38;5;28;43;01melse\u001b[39;49;00m\u001b[43m \u001b[49m\u001b[38;5;124;43m'\u001b[39;49m\u001b[38;5;124;43mquicksort\u001b[39;49m\u001b[38;5;124;43m'\u001b[39;49m\u001b[43m)\u001b[49m\n\u001b[1;32m    334\u001b[0m     aux \u001b[38;5;241m=\u001b[39m ar[perm]\n\u001b[1;32m    335\u001b[0m \u001b[38;5;28;01melse\u001b[39;00m:\n",
                        "\u001b[0;31mKeyboardInterrupt\u001b[0m: "
                    ]
                }
            ],
            "source": [
                "model.region_crysal_analyzer[0].plot_displacement(cut_off=5.0)"
            ]
        },
        {
            "cell_type": "code",
            "execution_count": null,
            "metadata": {},
            "outputs": [],
            "source": [
                "model.find_peaks(min_distance=10,threshold_abs=11600,threshold_rel=0.05,region_index=1)\n",
                "model.map_lattice(cif_file=cif_file,elements=['Sr','Ti'], reciprocal=True,region_index=1)"
            ]
        },
        {
            "cell_type": "code",
            "execution_count": null,
            "metadata": {},
            "outputs": [],
            "source": [
                "from ase.visualize import view\n",
                "view(model.region_atomic_column[0].lattice)"
            ]
        },
        {
            "cell_type": "code",
            "execution_count": null,
            "metadata": {},
            "outputs": [],
            "source": [
                "model.add_or_remove_peaks(min_distance=10)"
            ]
        },
        {
            "cell_type": "code",
            "execution_count": 9,
            "metadata": {},
            "outputs": [],
            "source": [
                "model.plot_coordinates(10)"
            ]
        },
        {
            "cell_type": "code",
            "execution_count": null,
            "metadata": {},
            "outputs": [],
            "source": [
                "model.fit_background = True\n",
                "params = model.init_params()\n",
                "model.fit_random_batch(params, batch_size=1000, maxiter=50, tol=1e-3, plot=False, step_size=0.01,verbose=False,num_epoch=1)"
            ]
        },
        {
            "cell_type": "code",
            "execution_count": 12,
            "metadata": {},
            "outputs": [],
            "source": [
                "model.plot_fitting()"
            ]
        },
        {
            "cell_type": "code",
            "execution_count": null,
            "metadata": {},
            "outputs": [],
            "source": [
                "plt.figure()\n",
                "plt.hist(model.volume[model.atom_types==0], bins=100, alpha=0.5,label='Sr')\n",
                "plt.hist(model.volume[model.atom_types==1], bins=100, alpha=0.5,label='Ti')\n",
                "plt.legend()"
            ]
        },
        {
            "cell_type": "code",
            "execution_count": 7,
            "metadata": {},
            "outputs": [],
            "source": [
                "model.plot_scs(per_element=True)"
            ]
        },
        {
            "cell_type": "code",
            "execution_count": 15,
            "metadata": {},
            "outputs": [],
            "source": [
                "model.plot_scs_histogram()"
            ]
        },
        {
            "cell_type": "code",
            "execution_count": null,
            "metadata": {},
            "outputs": [],
            "source": [
                "import numpy as np\n",
                "\n",
                "# Sample array\n",
                "arr = np.array([2, 3, 2, 1, 3, 1, 4])\n",
                "\n",
                "# Get unique values, indices of first occurrence, and inverse mapping\n",
                "unique_values, first_indices, inverse_indices = np.unique(arr, return_index=True, return_inverse=True)\n",
                "\n",
                "# Create a dictionary to store the indices of all occurrences for each unique value\n",
                "occurrences = {value: np.where(inverse_indices == i)[0] for i, value in enumerate(unique_values)}\n",
                "\n",
                "print(\"Unique values:\", unique_values)\n",
                "print(\"Indices of first occurrence:\", first_indices)\n",
                "print(\"Indices of all occurrences for each unique value:\", occurrences)\n"
            ]
        },
        {
            "cell_type": "code",
            "execution_count": null,
            "metadata": {},
            "outputs": [],
            "source": [
                "import numpy as np\n",
                "from scipy.cluster.hierarchy import fcluster, linkage\n",
                "\n",
                "# Sample array with values that need tolerance larger than 1\n",
                "arr = np.array([1, 2, 2.5, 3.2, 10, 10.5, 15])\n",
                "\n",
                "# Set the desired tolerance (e.g., values within 3 units are considered the same)\n",
                "tolerance = 3\n",
                "\n",
                "# Perform hierarchical clustering\n",
                "Z = linkage(arr[:, None], method='single', metric='euclidean')\n",
                "\n",
                "# Create clusters based on the tolerance\n",
                "clusters = fcluster(Z, t=tolerance, criterion='distance')\n",
                "\n",
                "# Find unique cluster labels and indices of first occurrence\n",
                "_, unique_indices = np.unique(clusters, return_index=True)\n",
                "\n",
                "# Get unique values based on clusters\n",
                "unique_values = arr[unique_indices]\n",
                "\n",
                "print(\"Unique values with tolerance:\", unique_values)\n",
                "print(\"Indices of first occurrence:\", unique_indices)\n"
            ]
        }
    ],
    "metadata": {
        "kernelspec": {
            "display_name": "jax",
            "language": "python",
            "name": "python3"
        },
        "language_info": {
            "codemirror_mode": {
                "name": "ipython",
                "version": 3
            },
            "file_extension": ".py",
            "mimetype": "text/x-python",
            "name": "python",
            "nbconvert_exporter": "python",
            "pygments_lexer": "ipython3",
            "version": "3.11.9"
        }
    },
    "nbformat": 4,
    "nbformat_minor": 2
}
