{
    "cells": [
        {
            "cell_type": "code",
            "execution_count": 6,
            "metadata": {},
            "outputs": [],
            "source": [
                "from qem.image_fitting import ImageModelFitting\n",
                "import scipy.io as sio\n",
                "import numpy as np\n",
                "import matplotlib.pyplot as plt\n",
                "import hyperspy.api as hs\n",
                "%matplotlib qt\n",
                "\n",
                "# file = '/home/zzhang/OneDrive/code/qem/data/STO/adf_average_STO.txt'\n",
                "\n",
                "# image = np.loadtxt(file)\n",
                "# file = '/home/zzhang/OneDrive/data/Nico/28.03.2024-STOonSTO21mrad/83-100/aligned_hdf5/1859 HAADF 33.7 nm.emd.hspy'\n",
                "file ='/home/zzhang/OneDrive/data/Nico/28.03.2024-STOonSTO21mrad/84-100/aligned_hdf5/1932 HAADF 33.7 nm.emd.hspy'\n",
                "\n",
                "s = hs.load(file)\n",
                "image = s.data\n",
                "# image = np.load(file)\n",
                "# dx= 0.1645429228960236\t\n",
                "dx = s.axes_manager[1].scale *10\n",
                "# dx = 0.36254824166962796\n",
                "model=ImageModelFitting(image, dx=dx,units='A')\n",
                "\n",
                "# get the unique coordinates by row\n",
                "# input_coordinates = np.unique(input_coordinates, axis=0)"
            ]
        },
        {
            "cell_type": "code",
            "execution_count": 7,
            "metadata": {},
            "outputs": [],
            "source": [
                "model.plot()"
            ]
        },
        {
            "cell_type": "code",
            "execution_count": 8,
            "metadata": {},
            "outputs": [
                {
                    "name": "stdout",
                    "output_type": "stream",
                    "text": [
                        "Updated peak locations.\n"
                    ]
                },
                {
                    "data": {
                        "text/plain": [
                            "array([[1675.,  921.],\n",
                            "       [ 703.,  359.],\n",
                            "       [ 316., 1799.],\n",
                            "       ...,\n",
                            "       [ 350.,   50.],\n",
                            "       [ 479.,   43.],\n",
                            "       [ 245.,   29.]])"
                        ]
                    },
                    "execution_count": 8,
                    "metadata": {},
                    "output_type": "execute_result"
                }
            ],
            "source": [
                "model.find_peaks(min_distance=10,threshold_abs=11600,threshold_rel=0.05)\n",
                "\n",
                "# model.select_region(invert_selection=False)"
            ]
        },
        {
            "cell_type": "code",
            "execution_count": 9,
            "metadata": {},
            "outputs": [
                {
                    "name": "stdout",
                    "output_type": "stream",
                    "text": [
                        "Origin selected: [ 776. 1580.]\n",
                        "Vector a selected: [25.  2.]\n",
                        "Vector b selected: [  1. -23.]\n",
                        "In pixel: Origin: [ 776. 1580.], Vector a: [25.  2.], Vector b: [  1. -23.]\n",
                        "In space: Origin: [127.68530817 259.97781818] A, Vector a: [4.11357307 0.32908585] A, Vector b: [ 0.16454292 -3.78448723] A\n",
                        "Origin selected: [1024. 1024.]\n",
                        "Vector a selected: [84.  0.]\n",
                        "Vector b selected: [ 0. 84.]\n",
                        "In pixel: Origin: [1024. 1024.], Vector a: [84.  0.], Vector b: [ 0. 84.]\n",
                        "In space: Origin: [3.03872079 3.03872079] 1/A, Vector a: [0.24927006 0.        ] 1/A, Vector b: [0.         0.24927006] 1/A\n",
                        "FFT real a: [24.38095238  0.        ] pixel, Real b: [ 0.         24.38095238] pixel\n"
                    ]
                }
            ],
            "source": [
                "cif_file = '/home/zzhang/OneDrive/code/qem/data/STO/SrTiO3_mp-5229_conventional_standard.cif'\n",
                "model.map_lattice(cif_file=cif_file,elements=['Sr','Ti'],min_distance=20, reciprocal=True)"
            ]
        },
        {
            "cell_type": "code",
            "execution_count": 5,
            "metadata": {},
            "outputs": [
                {
                    "name": "stdout",
                    "output_type": "stream",
                    "text": [
                        "Updated peak locations.\n"
                    ]
                },
                {
                    "data": {
                        "text/plain": [
                            "array([[  13.80952381,  176.80952381],\n",
                            "       [  14.        ,  201.61904762],\n",
                            "       [  20.19047619, 1878.19047619],\n",
                            "       ...,\n",
                            "       [2043.19047619,  469.19047619],\n",
                            "       [2043.19047619,  543.19047619],\n",
                            "       [2043.19047619,  592.19047619]])"
                        ]
                    },
                    "execution_count": 5,
                    "metadata": {},
                    "output_type": "execute_result"
                }
            ],
            "source": [
                "model.add_or_remove_peaks(min_distance=10)"
            ]
        },
        {
            "cell_type": "code",
            "execution_count": 10,
            "metadata": {},
            "outputs": [
                {
                    "name": "stderr",
                    "output_type": "stream",
                    "text": [
                        "INFO:root:Selected 13040 atoms out of 13485 atoms.\n"
                    ]
                }
            ],
            "source": [
                "model.select_region()"
            ]
        },
        {
            "cell_type": "code",
            "execution_count": 11,
            "metadata": {},
            "outputs": [
                {
                    "name": "stderr",
                    "output_type": "stream",
                    "text": [
                        "WARNING:root:The height has negative values, the linear estimator is not valid. I will make it positive but be careful with the results.\n",
                        "Fitting random batch:   0%|          | 0/14 [00:00<?, ?it/s]INFO:jax._src.xla_bridge:Unable to initialize backend 'rocm': module 'jaxlib.xla_extension' has no attribute 'GpuAllocatorConfig'\n",
                        "INFO:jax._src.xla_bridge:Unable to initialize backend 'tpu': INTERNAL: Failed to open libtpu.so: libtpu.so: cannot open shared object file: No such file or directory\n",
                        "Fitting random batch: 100%|██████████| 14/14 [01:26<00:00,  6.16s/it]\n",
                        "INFO:root:Convergence rate for pos_x = 0.5694115048363528\n",
                        "INFO:root:Convergence rate for pos_y = 0.5401146298363528\n",
                        "INFO:root:Convergence rate for height = 0.0006984313479857043\n",
                        "INFO:root:Convergence rate for sigma = 0.03785689274926218\n",
                        "INFO:root:Convergence not reached\n",
                        "WARNING:root:The height has negative values, the linear estimator is not valid. I will make it positive but be careful with the results.\n",
                        "Fitting random batch: 100%|██████████| 14/14 [01:19<00:00,  5.71s/it]\n",
                        "INFO:root:Convergence rate for pos_x = 0.543701171875\n",
                        "INFO:root:Convergence rate for pos_y = 0.56201171875\n",
                        "INFO:root:Convergence rate for height = 0.0006855097198954109\n",
                        "INFO:root:Convergence rate for sigma = 0.034019972086610645\n",
                        "INFO:root:Convergence not reached\n",
                        "WARNING:root:The height has negative values, the linear estimator is not valid. I will make it positive but be careful with the results.\n",
                        "Fitting random batch: 100%|██████████| 14/14 [01:20<00:00,  5.77s/it]\n",
                        "INFO:root:Convergence rate for pos_x = 0.5582275390625\n",
                        "INFO:root:Convergence rate for pos_y = 0.55865478515625\n",
                        "INFO:root:Convergence rate for height = 0.0006778644270854063\n",
                        "INFO:root:Convergence rate for sigma = 0.029865204750371757\n",
                        "INFO:root:Convergence not reached\n",
                        "WARNING:root:The height has negative values, the linear estimator is not valid. I will make it positive but be careful with the results.\n"
                    ]
                },
                {
                    "data": {
                        "text/plain": [
                            "{'pos_x': array([  13.7669096 ,   13.75517845,   14.39914894, ..., 2040.05090332,\n",
                            "        2039.81433105, 2039.75964355]),\n",
                            " 'pos_y': array([ 762.6572876 ,  492.65628052,  614.66326904, ..., 1946.03234863,\n",
                            "        1970.37731934, 1994.77832031]),\n",
                            " 'height': array([ 859.78621996,  887.97166786,  863.51520764, ..., 1217.32249751,\n",
                            "        1203.69030282, 1197.64950082]),\n",
                            " 'sigma': array([4.57701059, 4.86537352]),\n",
                            " 'background': 11897.344978568384}"
                        ]
                    },
                    "execution_count": 11,
                    "metadata": {},
                    "output_type": "execute_result"
                }
            ],
            "source": [
                "model.fit_background = True\n",
                "params = model.init_params()\n",
                "model.fit_random_batch(params, batch_size=1000, maxiter=50, tol=1e-3, plot=False, step_size=0.01,verbose=False,num_epoch=3)"
            ]
        },
        {
            "cell_type": "code",
            "execution_count": 12,
            "metadata": {},
            "outputs": [],
            "source": [
                "model.plot_fitting()"
            ]
        },
        {
            "cell_type": "code",
            "execution_count": 14,
            "metadata": {},
            "outputs": [
                {
                    "data": {
                        "text/plain": [
                            "<matplotlib.legend.Legend at 0x7fdce4c1cb90>"
                        ]
                    },
                    "execution_count": 14,
                    "metadata": {},
                    "output_type": "execute_result"
                }
            ],
            "source": [
                "plt.figure()\n",
                "plt.hist(model.volume[model.atom_types==0], bins=100, alpha=0.5,label='Sr')\n",
                "plt.hist(model.volume[model.atom_types==1], bins=100, alpha=0.5,label='Ti')\n",
                "plt.legend()"
            ]
        },
        {
            "cell_type": "code",
            "execution_count": 16,
            "metadata": {},
            "outputs": [],
            "source": [
                "model.plot_scs()"
            ]
        },
        {
            "cell_type": "code",
            "execution_count": 15,
            "metadata": {},
            "outputs": [],
            "source": [
                "model.plot_scs_histogram()"
            ]
        }
    ],
    "metadata": {
        "kernelspec": {
            "display_name": "jax",
            "language": "python",
            "name": "python3"
        },
        "language_info": {
            "codemirror_mode": {
                "name": "ipython",
                "version": 3
            },
            "file_extension": ".py",
            "mimetype": "text/x-python",
            "name": "python",
            "nbconvert_exporter": "python",
            "pygments_lexer": "ipython3",
            "version": "3.11.2"
        }
    },
    "nbformat": 4,
    "nbformat_minor": 2
}