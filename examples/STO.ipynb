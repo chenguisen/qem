{
 "cells": [
  {
   "cell_type": "code",
   "execution_count": 1,
   "metadata": {},
   "outputs": [],
   "source": [
    "from qem.image_fitting import ImageModelFitting\n",
    "import scipy.io as sio\n",
    "import numpy as np\n",
    "import matplotlib.pyplot as plt\n",
    "import hyperspy.api as hs\n",
    "%matplotlib qt\n",
    "\n",
    "# file = '/home/zzhang/OneDrive/code/qem/data/STO/adf_average_STO.txt'\n",
    "\n",
    "# image = np.loadtxt(file)\n",
    "# file = '/home/zzhang/OneDrive/data/Nico/28.03.2024-STOonSTO21mrad/83-100/aligned_hdf5/1859 HAADF 33.7 nm.emd.hspy'\n",
    "file = '/home/zzhang/OneDrive/code/qem/examples/1859 HAADF 33.7 nm.emd.hspy'\n",
    "s = hs.load(file)\n",
    "image = s.data\n",
    "# image = np.load(file)\n",
    "# dx= 0.1645429228960236\t\n",
    "dx = s.axes_manager[1].scale *10\n",
    "# dx = 0.36254824166962796\n",
    "model=ImageModelFitting(image, dx=dx,units='A')\n",
    "\n",
    "# get the unique coordinates by row\n",
    "# input_coordinates = np.unique(input_coordinates, axis=0)"
   ]
  },
  {
   "cell_type": "code",
   "execution_count": 50,
   "metadata": {},
   "outputs": [
    {
     "name": "stderr",
     "output_type": "stream",
     "text": [
      "/home/zzhang/OneDrive/code/qem/qem/image_fitting.py:520: UserWarning: The figure layout has changed to tight\n",
      "  plt.tight_layout()\n"
     ]
    }
   ],
   "source": [
    "model.plot()"
   ]
  },
  {
   "cell_type": "code",
   "execution_count": 2,
   "metadata": {},
   "outputs": [
    {
     "name": "stdout",
     "output_type": "stream",
     "text": [
      "Updated peak locations.\n"
     ]
    }
   ],
   "source": [
    "model.find_peaks(min_distance=10,threshold_abs=11600,threshold_rel=0.05)\n",
    "sr_coords = model.coordinates\n",
    "# model.select_region(invert_selection=False)"
   ]
  },
  {
   "cell_type": "code",
   "execution_count": 30,
   "metadata": {},
   "outputs": [
    {
     "name": "stdout",
     "output_type": "stream",
     "text": [
      "Updated peak locations.\n"
     ]
    }
   ],
   "source": [
    "model.find_peaks(min_distance=4,threshold_abs=11500, threshold_rel=0.001)\n",
    "total_coords = model.coordinates"
   ]
  },
  {
   "cell_type": "code",
   "execution_count": 66,
   "metadata": {},
   "outputs": [],
   "source": [
    "# ti_coords is the difference between sr_coords and total_coords\n",
    "ti_coords = np.array([coord for coord in total_coords if np.linalg.norm((coord - sr_coords),axis=1).min()>8])\n",
    "# remove the coordinates that are too close between themselves in ti_coords\n",
    "from qem.utils import remove_close_coordinates\n",
    "ti_coords,_ = remove_close_coordinates(ti_coords,12)"
   ]
  },
  {
   "cell_type": "code",
   "execution_count": 62,
   "metadata": {},
   "outputs": [
    {
     "data": {
      "text/plain": [
       "8898"
      ]
     },
     "execution_count": 62,
     "metadata": {},
     "output_type": "execute_result"
    }
   ],
   "source": [
    "len(ti_coords)"
   ]
  },
  {
   "cell_type": "code",
   "execution_count": 67,
   "metadata": {},
   "outputs": [],
   "source": [
    "combined_coords = np.concatenate((sr_coords,ti_coords))\n",
    "combined_coords, keep_mask = remove_close_coordinates(combined_coords,8)\n",
    "model.coordinates = combined_coords\n",
    "model.atom_types = np.concatenate((np.zeros(len(sr_coords)).astype(int),np.ones(len(ti_coords)).astype(int)))[keep_mask]"
   ]
  },
  {
   "cell_type": "code",
   "execution_count": null,
   "metadata": {},
   "outputs": [],
   "source": []
  },
  {
   "cell_type": "code",
   "execution_count": 68,
   "metadata": {},
   "outputs": [],
   "source": [
    "model.plot_coordinates()"
   ]
  },
  {
   "cell_type": "code",
   "execution_count": 3,
   "metadata": {},
   "outputs": [
    {
     "name": "stdout",
     "output_type": "stream",
     "text": [
      "Origin selected: [ 590. 1527.]\n",
      "Vector a selected: [23. -1.]\n",
      "Vector b selected: [ -1. -26.]\n",
      "In pixel: Origin: [ 590. 1527.], Vector a: [23. -1.], Vector b: [ -1. -26.]\n",
      "In space: Origin: [ 97.08032451 251.25704326] A, Vector a: [ 3.78448723 -0.16454292] A, Vector b: [-0.16454292 -4.278116  ] A\n",
      "Origin selected: [1024. 1024.]\n",
      "Vector a selected: [84.  0.]\n",
      "Vector b selected: [ 0. 84.]\n",
      "In pixel: Origin: [1024. 1024.], Vector a: [84.  0.], Vector b: [ 0. 84.]\n",
      "In space: Origin: [3.03872079 3.03872079] 1/A, Vector a: [0.24927006 0.        ] 1/A, Vector b: [0.         0.24927006] 1/A\n",
      "FFT real a: [24.38095238  0.        ] pixel, Real b: [ 0.         24.38095238] pixel\n"
     ]
    }
   ],
   "source": [
    "cif_file = '/home/zzhang/OneDrive/code/qem/data/STO/SrTiO3_mp-5229_conventional_standard.cif'\n",
    "model.map_lattice(cif_file=cif_file,elements=['Sr','Ti'],min_distance=20, reciprocal=True)"
   ]
  },
  {
   "cell_type": "code",
   "execution_count": 5,
   "metadata": {},
   "outputs": [
    {
     "name": "stdout",
     "output_type": "stream",
     "text": [
      "Updated peak locations.\n"
     ]
    },
    {
     "data": {
      "text/plain": [
       "array([[  13.80952381,  176.80952381],\n",
       "       [  14.        ,  201.61904762],\n",
       "       [  20.19047619, 1878.19047619],\n",
       "       ...,\n",
       "       [2043.19047619,  469.19047619],\n",
       "       [2043.19047619,  543.19047619],\n",
       "       [2043.19047619,  592.19047619]])"
      ]
     },
     "execution_count": 5,
     "metadata": {},
     "output_type": "execute_result"
    }
   ],
   "source": [
    "model.add_or_remove_peaks(min_distance=10)"
   ]
  },
  {
   "cell_type": "code",
   "execution_count": 5,
   "metadata": {},
   "outputs": [],
   "source": [
    "model.plot_coordinates()"
   ]
  },
  {
   "cell_type": "code",
   "execution_count": 4,
   "metadata": {},
   "outputs": [
    {
     "name": "stderr",
     "output_type": "stream",
     "text": [
      "INFO:root:Selected 12633 atoms out of 12780 atoms.\n"
     ]
    }
   ],
   "source": [
    "model.select_region()"
   ]
  },
  {
   "cell_type": "code",
   "execution_count": 6,
   "metadata": {},
   "outputs": [
    {
     "name": "stderr",
     "output_type": "stream",
     "text": [
      "WARNING:root:The height has negative values, the linear estimator is not valid. I will make it positive but be careful with the results.\n",
      "Fitting random batch: 100%|██████████| 13/13 [01:15<00:00,  5.79s/it]\n",
      "INFO:root:Convergence rate for pos_x = 0.5519554501488528\n",
      "INFO:root:Convergence rate for pos_y = 0.5553501674103245\n",
      "INFO:root:Convergence rate for height = 0.0010421374149760922\n",
      "INFO:root:Convergence not reached\n",
      "WARNING:root:The height has negative values, the linear estimator is not valid. I will make it positive but be careful with the results.\n",
      "Fitting random batch: 100%|██████████| 13/13 [01:18<00:00,  6.00s/it]\n",
      "INFO:root:Convergence rate for pos_x = 0.53887939453125\n",
      "INFO:root:Convergence rate for pos_y = 0.5562744140625\n",
      "INFO:root:Convergence rate for height = 0.001032892958816235\n",
      "INFO:root:Convergence not reached\n",
      "WARNING:root:The height has negative values, the linear estimator is not valid. I will make it positive but be careful with the results.\n",
      "Fitting random batch: 100%|██████████| 13/13 [01:14<00:00,  5.71s/it]\n",
      "INFO:root:Convergence rate for pos_x = 0.5547332763671875\n",
      "INFO:root:Convergence rate for pos_y = 0.5438232421875\n",
      "INFO:root:Convergence rate for height = 0.0009835923412637533\n",
      "INFO:root:Convergence rate for sigma = 0.024197469943547018\n",
      "INFO:root:Convergence not reached\n",
      "WARNING:root:The height has negative values, the linear estimator is not valid. I will make it positive but be careful with the results.\n"
     ]
    },
    {
     "data": {
      "text/plain": [
       "{'pos_x': array([   8.77100372,    9.63935947,    9.26354599, ..., 2042.22595215,\n",
       "        2041.33093262, 2041.95776367]),\n",
       " 'pos_y': array([2011.58312988, 1718.59008789, 1742.63696289, ...,  396.64300537,\n",
       "         519.61425781,  446.10925293]),\n",
       " 'height': array([879.78626742, 838.40378904, 892.84402577, ..., 403.74998507,\n",
       "        425.91893854, 406.90637232]),\n",
       " 'sigma': array([4.36162262, 4.90197779]),\n",
       " 'background': 11450.382337660049}"
      ]
     },
     "execution_count": 6,
     "metadata": {},
     "output_type": "execute_result"
    }
   ],
   "source": [
    "model.fit_background = True\n",
    "params = model.init_params()\n",
    "model.fit_random_batch(params, batch_size=1000, maxiter=50, tol=1e-3, plot=False, step_size=0.01,verbose=False,num_epoch=3)"
   ]
  },
  {
   "cell_type": "code",
   "execution_count": 9,
   "metadata": {},
   "outputs": [],
   "source": [
    "model.plot_fitting()"
   ]
  },
  {
   "cell_type": "code",
   "execution_count": 8,
   "metadata": {},
   "outputs": [
    {
     "data": {
      "text/plain": [
       "<matplotlib.legend.Legend at 0x7fb8c7f8b810>"
      ]
     },
     "execution_count": 8,
     "metadata": {},
     "output_type": "execute_result"
    }
   ],
   "source": [
    "plt.figure()\n",
    "plt.hist(model.volume[model.atom_types==0], bins=100, alpha=0.5,label='Sr')\n",
    "plt.hist(model.volume[model.atom_types==1], bins=100, alpha=0.5,label='Ti')\n",
    "plt.legend()"
   ]
  },
  {
   "cell_type": "code",
   "execution_count": 10,
   "metadata": {},
   "outputs": [],
   "source": [
    "model.plot_scs()"
   ]
  },
  {
   "cell_type": "code",
   "execution_count": 1,
   "metadata": {},
   "outputs": [
    {
     "name": "stdout",
     "output_type": "stream",
     "text": [
      "Updated peak locations.\n"
     ]
    }
   ],
   "source": [
    "from qem.crystal_analyzer import CrystalAnalyzer\n",
    "from qem.image_fitting import ImageModelFitting\n",
    "import scipy.io as sio\n",
    "import numpy as np\n",
    "import matplotlib.pyplot as plt\n",
    "%matplotlib qt\n",
    "\n",
    "file = '/home/zzhang/OneDrive/code/qem/data/STO/adf_average_STO.txt'\n",
    "image = np.loadtxt(file)\n",
    "dx= 0.1645429228960236\t\n",
    "model=ImageModelFitting(image, dx=dx,units='A')\n",
    "model.find_peaks()\n",
    "crystal_analyzer = CrystalAnalyzer(image = model.image, dx = model.dx, peak_positions = model.coordinates, atom_types = model.atom_types, elements=['Sr','Ti'])"
   ]
  },
  {
   "cell_type": "code",
   "execution_count": null,
   "metadata": {},
   "outputs": [],
   "source": []
  },
  {
   "cell_type": "code",
   "execution_count": 5,
   "metadata": {},
   "outputs": [
    {
     "name": "stdout",
     "output_type": "stream",
     "text": [
      "Origin selected: [ 891. 1321.]\n",
      "Vector a selected: [22. -1.]\n",
      "Vector b selected: [ -1. -26.]\n",
      "In pixel: Origin: [ 891. 1321.], Vector a: [22. -1.], Vector b: [ -1. -26.]\n",
      "In space: Origin: [146.6077443  217.36120115] A, Vector a: [ 3.6199443  -0.16454292] A, Vector b: [-0.16454292 -4.278116  ] A\n"
     ]
    },
    {
     "data": {
      "text/plain": [
       "Atoms(symbols='SrTi', pbc=True, cell=[3.94513, 3.94513, 3.94513], spacegroup_kinds=...)"
      ]
     },
     "execution_count": 5,
     "metadata": {},
     "output_type": "execute_result"
    }
   ],
   "source": [
    "cif_file = '/home/zzhang/OneDrive/code/qem/data/STO/SrTiO3_mp-5229_conventional_standard.cif'\n",
    "crystal_analyzer.choose_lattice_vectors()\n",
    "crystal_analyzer.read_cif(cif_file)"
   ]
  },
  {
   "cell_type": "code",
   "execution_count": 6,
   "metadata": {},
   "outputs": [
    {
     "data": {
      "text/plain": [
       "(array([[ 891.      , 1321.      ,    0.      ],\n",
       "        [ 901.5     , 1307.5     ,    1.972565]]),\n",
       " array([0, 1]))"
      ]
     },
     "execution_count": 6,
     "metadata": {},
     "output_type": "execute_result"
    }
   ],
   "source": [
    "crystal_analyzer.unitcell_mapping()"
   ]
  }
 ],
 "metadata": {
  "kernelspec": {
   "display_name": "jax",
   "language": "python",
   "name": "python3"
  },
  "language_info": {
   "codemirror_mode": {
    "name": "ipython",
    "version": 3
   },
   "file_extension": ".py",
   "mimetype": "text/x-python",
   "name": "python",
   "nbconvert_exporter": "python",
   "pygments_lexer": "ipython3",
   "version": "3.11.8"
  }
 },
 "nbformat": 4,
 "nbformat_minor": 2
}
