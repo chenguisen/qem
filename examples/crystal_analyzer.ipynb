{
 "cells": [
  {
   "cell_type": "code",
   "execution_count": 1,
   "metadata": {},
   "outputs": [
    {
     "name": "stderr",
     "output_type": "stream",
     "text": [
      "INFO:numexpr.utils:Note: NumExpr detected 20 cores but \"NUMEXPR_MAX_THREADS\" not set, so enforcing safe limit of 8.\n",
      "INFO:numexpr.utils:NumExpr defaulting to 8 threads.\n",
      "INFO:hyperspy.extensions:Enabling extension exspy\n",
      "INFO:hyperspy.defaults_parser:Writing the config file\n"
     ]
    }
   ],
   "source": [
    "from qem.crystal_analyzer import CrystalAnalyzer\n",
    "import hyperspy.api as hs   \n",
    "import scipy.io as sio\n",
    "\n",
    "file = '/home/zzhang/OneDrive/data/Yang Zhang STO/dynamic pc AXON/adf_avg_25.hspy'\n",
    "s = hs.load(file)\n",
    "image = s.data\n",
    "dx =0.071356\n",
    "matfile_path = '/home/zzhang/OneDrive/data/Yang Zhang STO/dynamic pc AXON/adf_avg_coords.mat'\n",
    "matfile = sio.loadmat(matfile_path)\n",
    "coords = matfile['coords'].astype(float)\n",
    "crystal_analyzer = CrystalAnalyzer(image, dx, coords[:,:2]/dx,coords[:,2].astype(int)-1,['Y','Al','O'])"
   ]
  },
  {
   "cell_type": "code",
   "execution_count": 2,
   "metadata": {},
   "outputs": [
    {
     "name": "stderr",
     "output_type": "stream",
     "text": [
      "/home/zzhang/OneDrive/code/qem/qem/crystal_analyzer.py:64: UserWarning: *c* argument looks like a single numeric RGB or RGBA sequence, which should be avoided as value-mapping will have precedence in case its length matches with *x* & *y*.  Please use the *color* keyword-argument or provide a 2D array with a single row if you intend to specify the same RGB or RGBA value for all points.\n",
      "  plt.scatter(\n"
     ]
    }
   ],
   "source": [
    "%matplotlib qt\n",
    "import matplotlib.pyplot as plt\n",
    "crystal_analyzer.plot()"
   ]
  },
  {
   "cell_type": "code",
   "execution_count": 3,
   "metadata": {},
   "outputs": [],
   "source": [
    "import numpy as np\n",
    "cif_file_path = '/home/zzhang/OneDrive/data/Yang Zhang STO/STEM/72104-CaYAlO4.cif'\n",
    "\n",
    "crystal_analyzer.import_crystal_structure(cif_file_path)\n",
    "crystal_analyzer.transform(np.array([[1,0,0],[0,0,1],[0,1,0]]))\n"
   ]
  },
  {
   "cell_type": "code",
   "execution_count": 4,
   "metadata": {},
   "outputs": [],
   "source": [
    "import numpy as np\n",
    "crystal_analyzer.origin = np.array([831.26558017, 962.21710935, 0])\n",
    "crystal_analyzer.a = np.array([ 31.26403339, -36.73158211,0])\n",
    "crystal_analyzer.b = np.array([-118.32881689, -100.67459688,0])\n",
    "crystal_analyzer.c = np.array([  0.        ,   0.        , crystal_analyzer.unitcell.lattice.abc[2]])\n"
   ]
  },
  {
   "cell_type": "code",
   "execution_count": 5,
   "metadata": {},
   "outputs": [],
   "source": [
    "# %matplotlib qt\n",
    "# crystal_analyzer.choose_lattice_vectors()"
   ]
  },
  {
   "cell_type": "code",
   "execution_count": 6,
   "metadata": {},
   "outputs": [
    {
     "data": {
      "text/plain": [
       "array([[ -75.94816783,  -64.61698326,    0.        ,    0.        ],\n",
       "       [ -42.38064906,  -36.05761362,    0.        ,    0.        ],\n",
       "       [  -1.15174269,  -32.64547588,    1.82255   ,    0.        ],\n",
       "       [ -85.91304081, -104.76070311,    1.82255   ,    0.        ],\n",
       "       [ -43.53239175,  -68.70308949,    1.82255   ,    1.        ],\n",
       "       [   0.        ,    0.        ,    0.        ,    1.        ],\n",
       "       [ -27.90037505,  -87.06888055,    1.82255   ,    2.        ],\n",
       "       [ -43.53239175,  -68.70308949,    0.        ,    2.        ],\n",
       "       [  15.6320167 ,  -18.36579105,    0.        ,    2.        ],\n",
       "       [  31.26403339,  -36.73158211,    1.82255   ,    2.        ],\n",
       "       [ -98.46140853,  -83.77133206,    0.        ,    2.        ],\n",
       "       [ -19.86740836,  -16.90326482,    0.        ,    2.        ],\n",
       "       [ -23.66498339,  -51.79982468,    1.82255   ,    2.        ],\n",
       "       [ -63.39980011,  -85.60635431,    1.82255   ,    2.        ]])"
      ]
     },
     "execution_count": 6,
     "metadata": {},
     "output_type": "execute_result"
    }
   ],
   "source": [
    "crystal_analyzer.unitcell_mapping()"
   ]
  },
  {
   "cell_type": "code",
   "execution_count": 6,
   "metadata": {},
   "outputs": [],
   "source": [
    "crystal_analyzer.supercell_with_refined_peaks(a_limit=20,b_limit=15)\n",
    "crystal_analyzer.write_lammps()"
   ]
  },
  {
   "cell_type": "code",
   "execution_count": 9,
   "metadata": {},
   "outputs": [
    {
     "data": {
      "text/plain": [
       "{'Ca': 20.68101144143594,\n",
       " 'Y': 20.68101144143594,\n",
       " 'Al': 40.66688959593986,\n",
       " 'O': 12.058837288775779}"
      ]
     },
     "execution_count": 9,
     "metadata": {},
     "output_type": "execute_result"
    }
   ],
   "source": [
    "crystal_analyzer.min_distances()"
   ]
  },
  {
   "cell_type": "code",
   "execution_count": 8,
   "metadata": {},
   "outputs": [],
   "source": [
    "crystal_analyzer.write_xyz()"
   ]
  }
 ],
 "metadata": {
  "kernelspec": {
   "display_name": "jax",
   "language": "python",
   "name": "python3"
  },
  "language_info": {
   "codemirror_mode": {
    "name": "ipython",
    "version": 3
   },
   "file_extension": ".py",
   "mimetype": "text/x-python",
   "name": "python",
   "nbconvert_exporter": "python",
   "pygments_lexer": "ipython3",
   "version": "3.11.2"
  }
 },
 "nbformat": 4,
 "nbformat_minor": 2
}
