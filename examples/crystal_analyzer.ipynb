{
    "cells": [
        {
            "cell_type": "code",
            "execution_count": 1,
            "metadata": {},
            "outputs": [],
            "source": [
                "from qem.crystal_analyzer import CrystalAnalyzer\n",
                "import hyperspy.api as hs   \n",
                "import scipy.io as sio\n",
                "\n",
                "file = '/home/zzhang/OneDrive/data/Yang Zhang STO/dynamic pc AXON/adf_avg_25.hspy'\n",
                "s = hs.load(file)\n",
                "image = s.data\n",
                "dx =0.071356\n",
                "matfile_path = '/home/zzhang/OneDrive/data/Yang Zhang STO/dynamic pc AXON/adf_avg_coords.mat'\n",
                "matfile = sio.loadmat(matfile_path)\n",
                "coords = matfile['coords'].astype(float)\n",
                "crystal_analyzer = CrystalAnalyzer(image, dx, coords[:,:2]/dx, coords[:,2].astype(int)-1,['Y','Al'])"
            ]
        },
        {
            "cell_type": "code",
            "execution_count": null,
            "metadata": {},
            "outputs": [],
            "source": [
                "import numpy as np\n",
                "cif_file_path = '/home/zzhang/OneDrive/data/Yang Zhang STO/STEM/72104-CaYAlO4-rotated.cif'\n",
                "\n",
                "crystal_analyzer.read_cif(cif_file_path)\n"
            ]
        },
        {
            "cell_type": "code",
            "execution_count": null,
            "metadata": {},
            "outputs": [],
            "source": [
                "import numpy as np\n",
                "crystal_analyzer.origin = np.array([831.26558017, 962.21710935])\n",
                "crystal_analyzer.a_vector_affine = np.array([ 31.26403339, -36.73158211])\n",
                "crystal_analyzer.b_vector_affine = np.array([-118.32881689, -100.67459688])\n",
                "# crystal_analyzer.c = crystal_analyzer.unitcell.cell[2]\n",
                "atoms = crystal_analyzer.align_unit_cell_to_image(mode='affine')"
            ]
        },
        {
            "cell_type": "code",
            "execution_count": null,
            "metadata": {},
            "outputs": [],
            "source": [
                "%matplotlib qt\n",
                "crystal_analyzer.get_atomic_columns(reciprocal=False)"
            ]
        },
        {
            "cell_type": "code",
            "execution_count": 38,
            "metadata": {},
            "outputs": [],
            "source": [
                "crystal_analyzer.plot_unitcell()"
            ]
        },
        {
            "cell_type": "code",
            "execution_count": null,
            "metadata": {},
            "outputs": [],
            "source": [
                "import matplotlib.pyplot as plt\n",
                "local_dis = crystal_analyzer.atomic_columns.get_local_displacements(50)\n",
                "dis = crystal_analyzer.atomic_columns.displacements\n",
                "plt.imshow(image)\n",
                "plt.scatter(crystal_analyzer.atomic_columns.x, crystal_analyzer.atomic_columns.y, c=np.linalg.norm(dis,axis=1), cmap='coolwarm', s=50)\n",
                "plt.colorbar()\n",
                "# plt.clim([0,2])"
            ]
        },
        {
            "cell_type": "code",
            "execution_count": null,
            "metadata": {},
            "outputs": [],
            "source": [
                "import matplotlib.pyplot as plt\n",
                "shift_origin_adaptive = crystal_analyzer.get_origin_offset(15,15)\n",
                "shifts = np.array(list(shift_origin_adaptive.values()))\n",
                "plt.imshow(crystal_analyzer.image)\n",
                "plt.scatter(shifts[:,0],shifts[:,1],color='y',label='adaptive')\n",
                "\n",
                "shift_origin_perfect = crystal_analyzer.get_origin_offset(15,15, mode='perfect')\n",
                "shifts = np.array(list(shift_origin_perfect.values()))\n",
                "plt.scatter(shifts[:,0],shifts[:,1],color='b',label='perfect')\n",
                "\n",
                "plt.legend()\n",
                "plt.title('Unit cell origin locations')"
            ]
        },
        {
            "cell_type": "code",
            "execution_count": null,
            "metadata": {},
            "outputs": [],
            "source": [
                "lattice, lattice_ref = crystal_analyzer.get_lattice_3d(a_limit=20,b_limit=15)\n",
                "lattice_ref.write('test.xyz')\n",
                "from ase.visualize import view\n",
                "view(lattice_ref)"
            ]
        },
        {
            "cell_type": "code",
            "execution_count": 32,
            "metadata": {},
            "outputs": [],
            "source": [
                "crystal_analyzer.unit_cell.set_tags([0,1,2,3,4,5])"
            ]
        },
        {
            "cell_type": "code",
            "execution_count": null,
            "metadata": {},
            "outputs": [],
            "source": [
                "crystal_analyzer.unit_cell[1].tag"
            ]
        },
        {
            "cell_type": "code",
            "execution_count": null,
            "metadata": {},
            "outputs": [],
            "source": [
                "crystal_analyzer.unit_cell.get_tags()"
            ]
        },
        {
            "cell_type": "code",
            "execution_count": null,
            "metadata": {},
            "outputs": [],
            "source": [
                "view(crystal_analyzer.unit_cell)"
            ]
        }
    ],
    "metadata": {
        "kernelspec": {
            "display_name": "jax",
            "language": "python",
            "name": "python3"
        },
        "language_info": {
            "codemirror_mode": {
                "name": "ipython",
                "version": 3
            },
            "file_extension": ".py",
            "mimetype": "text/x-python",
            "name": "python",
            "nbconvert_exporter": "python",
            "pygments_lexer": "ipython3",
            "version": "3.11.9"
        }
    },
    "nbformat": 4,
    "nbformat_minor": 2
}
