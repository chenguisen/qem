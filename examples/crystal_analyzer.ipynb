{
 "cells": [
  {
   "cell_type": "code",
   "execution_count": 1,
   "metadata": {},
   "outputs": [],
   "source": [
    "from qem.crystal_analyzer import CrystalAnalyzer\n",
    "import hyperspy.api as hs   \n",
    "import scipy.io as sio\n",
    "\n",
    "file = '/home/zzhang/OneDrive/data/Yang Zhang STO/dynamic pc AXON/adf_avg_25.hspy'\n",
    "s = hs.load(file)\n",
    "image = s.data\n",
    "dx =0.071356\n",
    "matfile_path = '/home/zzhang/OneDrive/data/Yang Zhang STO/dynamic pc AXON/adf_avg_coords.mat'\n",
    "matfile = sio.loadmat(matfile_path)\n",
    "coords = matfile['coords'].astype(float)\n",
    "crystal_analyzer = CrystalAnalyzer(image, dx, coords[:,:2]/dx,coords[:,2].astype(int)-1,['Y','Al','O'])"
   ]
  },
  {
   "cell_type": "code",
   "execution_count": 2,
   "metadata": {},
   "outputs": [
    {
     "name": "stderr",
     "output_type": "stream",
     "text": [
      "/home/zzhang/OneDrive/code/qem/qem/crystal_analyzer.py:56: UserWarning: *c* argument looks like a single numeric RGB or RGBA sequence, which should be avoided as value-mapping will have precedence in case its length matches with *x* & *y*.  Please use the *color* keyword-argument or provide a 2D array with a single row if you intend to specify the same RGB or RGBA value for all points.\n",
      "  plt.scatter(\n"
     ]
    }
   ],
   "source": [
    "%matplotlib qt\n",
    "import matplotlib.pyplot as plt\n",
    "crystal_analyzer.plot()"
   ]
  },
  {
   "cell_type": "code",
   "execution_count": 3,
   "metadata": {},
   "outputs": [],
   "source": [
    "import numpy as np\n",
    "cif_file_path = '/home/zzhang/OneDrive/data/Yang Zhang STO/STEM/72104-CaYAlO4.cif'\n",
    "\n",
    "crystal_analyzer.import_crystal_structure(cif_file_path)\n",
    "crystal_analyzer.transform(np.array([[1,0,0],[0,0,1],[0,1,0]]))\n"
   ]
  },
  {
   "cell_type": "code",
   "execution_count": 4,
   "metadata": {},
   "outputs": [],
   "source": [
    "import numpy as np\n",
    "crystal_analyzer.origin = np.array([831.26558017, 962.21710935, 0])\n",
    "crystal_analyzer.a = np.array([ 31.26403339, -36.73158211,0])\n",
    "crystal_analyzer.b = np.array([-118.32881689, -100.67459688,0])\n",
    "crystal_analyzer.c = np.array([  0.        ,   0.        , crystal_analyzer.unitcell.lattice.abc[2]])\n"
   ]
  },
  {
   "cell_type": "code",
   "execution_count": 5,
   "metadata": {},
   "outputs": [],
   "source": [
    "# %matplotlib qt\n",
    "# crystal_analyzer.choose_lattice_vectors()"
   ]
  },
  {
   "cell_type": "code",
   "execution_count": 5,
   "metadata": {},
   "outputs": [
    {
     "data": {
      "text/plain": [
       "array([[-7.59481678e+01, -6.46169833e+01,  0.00000000e+00,\n",
       "         0.00000000e+00],\n",
       "       [-4.23806491e+01, -3.60576136e+01,  0.00000000e+00,\n",
       "         0.00000000e+00],\n",
       "       [-1.15174269e+00, -3.26454759e+01,  1.82255000e+00,\n",
       "         0.00000000e+00],\n",
       "       [-8.59130408e+01, -1.04760703e+02,  1.82255000e+00,\n",
       "         0.00000000e+00],\n",
       "       [-4.35323918e+01, -6.87030895e+01,  1.82255000e+00,\n",
       "         1.00000000e+00],\n",
       "       [ 0.00000000e+00,  0.00000000e+00,  0.00000000e+00,\n",
       "         1.00000000e+00],\n",
       "       [-5.91644084e+01, -5.03372984e+01,  1.82255000e+00,\n",
       "         2.00000000e+00],\n",
       "       [-4.35323918e+01, -6.87030895e+01,  0.00000000e+00,\n",
       "         2.00000000e+00],\n",
       "       [ 1.56320167e+01, -1.83657911e+01,  0.00000000e+00,\n",
       "         2.00000000e+00],\n",
       "       [ 2.03044554e-31, -6.07865482e-31,  1.82255000e+00,\n",
       "         2.00000000e+00],\n",
       "       [-9.84614085e+01, -8.37713321e+01,  0.00000000e+00,\n",
       "         2.00000000e+00],\n",
       "       [-1.98674084e+01, -1.69032648e+01,  0.00000000e+00,\n",
       "         2.00000000e+00],\n",
       "       [-2.36649834e+01, -5.17998247e+01,  1.82255000e+00,\n",
       "         2.00000000e+00],\n",
       "       [-6.33998001e+01, -8.56063543e+01,  1.82255000e+00,\n",
       "         2.00000000e+00]])"
      ]
     },
     "execution_count": 5,
     "metadata": {},
     "output_type": "execute_result"
    }
   ],
   "source": [
    "crystal_analyzer.unitcell_mapping()"
   ]
  },
  {
   "cell_type": "code",
   "execution_count": 6,
   "metadata": {},
   "outputs": [],
   "source": [
    "crystal_analyzer.supercell_with_refined_peaks(a_limit=15,b_limit=10)\n",
    "crystal_analyzer.write_lammps()"
   ]
  },
  {
   "cell_type": "code",
   "execution_count": 8,
   "metadata": {},
   "outputs": [],
   "source": [
    "neighbor_list = crystal_analyzer.unitcell.get_neighbors(crystal_analyzer.unitcell[8], 5)\n",
    "# remove the same element in the neighbour_list\n",
    "neighbor_list = [neighbour for neighbour in neighbor_list if neighbour.species != crystal_analyzer.unitcell[8].species]"
   ]
  }
 ],
 "metadata": {
  "kernelspec": {
   "display_name": "jax",
   "language": "python",
   "name": "python3"
  },
  "language_info": {
   "codemirror_mode": {
    "name": "ipython",
    "version": 3
   },
   "file_extension": ".py",
   "mimetype": "text/x-python",
   "name": "python",
   "nbconvert_exporter": "python",
   "pygments_lexer": "ipython3",
   "version": "3.11.8"
  }
 },
 "nbformat": 4,
 "nbformat_minor": 2
}
