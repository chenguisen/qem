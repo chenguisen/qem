{
    "cells": [
        {
            "cell_type": "code",
            "execution_count": 1,
            "metadata": {},
            "outputs": [],
            "source": [
                "from qem.crystal_analyzer import CrystalAnalyzer\n",
                "import hyperspy.api as hs   \n",
                "import scipy.io as sio\n",
                "\n",
                "file = '/home/zzhang/OneDrive/data/Yang Zhang STO/dynamic pc AXON/adf_avg_25.hspy'\n",
                "s = hs.load(file)\n",
                "image = s.data\n",
                "dx =0.071356\n",
                "matfile_path = '/home/zzhang/OneDrive/data/Yang Zhang STO/dynamic pc AXON/adf_avg_coords.mat'\n",
                "matfile = sio.loadmat(matfile_path)\n",
                "coords = matfile['coords'].astype(float)\n",
                "crystal_analyzer = CrystalAnalyzer(image, dx, coords[:,:2]/dx, coords[:,2].astype(int)-1,['Y','Al','O'])"
            ]
        },
        {
            "cell_type": "code",
            "execution_count": null,
            "metadata": {},
            "outputs": [],
            "source": [
                "import numpy as np\n",
                "cif_file_path = '/home/zzhang/OneDrive/data/Yang Zhang STO/STEM/72104-CaYAlO4-rotated.cif'\n",
                "\n",
                "crystal_analyzer.read_cif(cif_file_path)\n"
            ]
        },
        {
            "cell_type": "code",
            "execution_count": 3,
            "metadata": {},
            "outputs": [],
            "source": [
                "import numpy as np\n",
                "crystal_analyzer.origin = np.array([831.26558017, 962.21710935, 0])\n",
                "crystal_analyzer.a_vector = np.array([ 31.26403339, -36.73158211,0])\n",
                "crystal_analyzer.b_vector = np.array([-118.32881689, -100.67459688,0])\n",
                "# crystal_analyzer.c = crystal_analyzer.unitcell.cell[2]\n"
            ]
        },
        {
            "cell_type": "code",
            "execution_count": null,
            "metadata": {},
            "outputs": [],
            "source": [
                "crystal_analyzer.align_unit_cell_to_image()"
            ]
        },
        {
            "cell_type": "code",
            "execution_count": null,
            "metadata": {},
            "outputs": [],
            "source": [
                "import matplotlib.pyplot as plt\n",
                "shift_origin_adaptive = crystal_analyzer.get_origin_offset(a_limit=20,b_limit=15)\n",
                "plt.imshow(crystal_analyzer.image)\n",
                "for _,shift in shift_origin_adaptive.items():\n",
                "    plt.scatter(shift[0],shift[1],color='y')"
            ]
        },
        {
            "cell_type": "code",
            "execution_count": null,
            "metadata": {},
            "outputs": [],
            "source": [
                "crystal_analyzer.get_lattice_3d(a_limit=20,b_limit=15)\n",
                "crystal_analyzer.write_lammps()"
            ]
        },
        {
            "cell_type": "code",
            "execution_count": null,
            "metadata": {},
            "outputs": [],
            "source": []
        }
    ],
    "metadata": {
        "kernelspec": {
            "display_name": "jax",
            "language": "python",
            "name": "python3"
        },
        "language_info": {
            "codemirror_mode": {
                "name": "ipython",
                "version": 3
            },
            "file_extension": ".py",
            "mimetype": "text/x-python",
            "name": "python",
            "nbconvert_exporter": "python",
            "pygments_lexer": "ipython3",
            "version": "3.11.9"
        }
    },
    "nbformat": 4,
    "nbformat_minor": 2
}
