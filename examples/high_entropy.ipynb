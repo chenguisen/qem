{
 "cells": [
  {
   "cell_type": "code",
   "execution_count": 1,
   "metadata": {},
   "outputs": [],
   "source": [
    "from qem.fitting import ImageModelFitting\n",
    "import scipy.io as sio\n",
    "import numpy as np\n",
    "import matplotlib.pyplot as plt\n",
    "import os\n",
    "# sys.path.append('/home/zzhang/OneDrive/code/hyperspy/hyperspy')\n",
    "%matplotlib qt\n",
    "\n",
    "file = '/home/zzhang/OneDrive/code/qem/data/high_entropy/adf_avg.npy'\n",
    "# s = hs.load(file)\n",
    "image = np.load(file)\n",
    "dx = 0.36254824166962796\n",
    "\n",
    "model=ImageModelFitting(image, dx=dx,units='A')\n",
    "\n",
    "# get the unique coordinates by row\n",
    "# input_coordinates = np.unique(input_coordinates, axis=0)"
   ]
  },
  {
   "cell_type": "code",
   "execution_count": 2,
   "metadata": {},
   "outputs": [
    {
     "name": "stderr",
     "output_type": "stream",
     "text": [
      "INFO:root:Removing peak at (675.0, 252.0).\n",
      "INFO:root:Removing peak at (695.0, 254.0).\n",
      "INFO:root:Removing peak at (717.0, 245.0).\n",
      "INFO:root:Removing peak at (662.0, 250.0).\n",
      "INFO:root:Removing peak at (657.0, 253.0).\n",
      "INFO:root:Adding peak at (674.6276330219717, 121.48797413304086) with atom type 1.\n",
      "INFO:root:Adding peak at (670.2710925386681, 141.63697386832052) with atom type 12.\n"
     ]
    },
    {
     "name": "stdout",
     "output_type": "stream",
     "text": [
      "Updated peak locations.\n"
     ]
    },
    {
     "data": {
      "text/plain": [
       "array([[152.        , 185.        ],\n",
       "       [152.        , 216.        ],\n",
       "       [151.        ,  92.        ],\n",
       "       ...,\n",
       "       [713.        , 161.        ],\n",
       "       [674.62763302, 121.48797413],\n",
       "       [670.27109254, 141.63697387]])"
      ]
     },
     "execution_count": 2,
     "metadata": {},
     "output_type": "execute_result"
    }
   ],
   "source": [
    "model.find_peaks(min_distance=4)"
   ]
  },
  {
   "cell_type": "code",
   "execution_count": 2,
   "metadata": {},
   "outputs": [
    {
     "name": "stdout",
     "output_type": "stream",
     "text": [
      "Updated peak locations.\n",
      "Origin selected: [275. 170.]\n",
      "Vector a selected: [12.  0.]\n",
      "Vector b selected: [  0. -10.]\n",
      "In pixel: Origin: [275. 170.], Vector a: [12.  0.], Vector b: [  0. -10.]\n",
      "In space: Origin: [99.70076646 61.63320108] A, Vector a: [4.3505789 0.       ] A, Vector b: [ 0.         -3.62548242] A\n",
      "Origin selected: [360. 128.]\n",
      "Vector a selected: [65. -1.]\n",
      "Vector b selected: [ 3. 25.]\n",
      "In pixel: Origin: [360. 128.], Vector a: [65. -1.], Vector b: [ 3. 25.]\n",
      "In space: Origin: [3.87879415 1.37912681] 1/A, Vector a: [ 0.70033783 -0.01077443] 1/A, Vector b: [0.03232328 0.26936071] 1/A\n",
      "FFT real a: [11.05622332 -0.47839428] pixel, Real b: [ 0.43611275 10.22139252] pixel\n"
     ]
    }
   ],
   "source": [
    "model.find_peaks(min_distance=4)\n",
    "cif_file = '/home/zzhang/OneDrive/code/qem/data/STO/SrTiO3_mp-5229_conventional_standard.cif'\n",
    "model.map_lattice(cif_file=cif_file,elements=['Sr','Ti'],min_distance=20,a_limit=50, b_limit=50 )\n",
    "# model.select_region(invert_selection=False)"
   ]
  },
  {
   "cell_type": "code",
   "execution_count": 5,
   "metadata": {},
   "outputs": [
    {
     "name": "stderr",
     "output_type": "stream",
     "text": [
      "INFO:root:Selected 2713 atoms out of 3176 atoms.\n"
     ]
    }
   ],
   "source": [
    "model.select_region()"
   ]
  },
  {
   "cell_type": "code",
   "execution_count": 6,
   "metadata": {},
   "outputs": [
    {
     "name": "stderr",
     "output_type": "stream",
     "text": [
      "Fitting random batch:   0%|          | 0/3 [00:00<?, ?it/s]INFO:jax._src.xla_bridge:Unable to initialize backend 'rocm': NOT_FOUND: Could not find registered platform with name: \"rocm\". Available platform names are: CUDA\n",
      "INFO:jax._src.xla_bridge:Unable to initialize backend 'tpu': INTERNAL: Failed to open libtpu.so: libtpu.so: cannot open shared object file: No such file or directory\n",
      "Fitting random batch: 100%|██████████| 3/3 [00:06<00:00,  2.13s/it]\n",
      "INFO:root:Convergence rate for pos_x = 0.5906253177801091\n",
      "INFO:root:Convergence rate for pos_y = 0.5837708947974569\n",
      "INFO:root:Convergence rate for height = 7.941320567333316e-05\n",
      "INFO:root:Convergence rate for sigma = 0.0044049604538272434\n",
      "INFO:root:Convergence not reached\n",
      "Fitting random batch: 100%|██████████| 3/3 [00:03<00:00,  1.09s/it]\n",
      "INFO:root:Convergence rate for pos_x = 0.5687255859375\n",
      "INFO:root:Convergence rate for pos_y = 0.5694828033447266\n",
      "INFO:root:Convergence rate for height = 7.513328671664758e-05\n",
      "INFO:root:Convergence rate for sigma = 0.002578360371768605\n",
      "INFO:root:Convergence not reached\n",
      "Fitting random batch: 100%|██████████| 3/3 [00:03<00:00,  1.07s/it]\n",
      "INFO:root:Convergence rate for pos_x = 0.5823516845703125\n",
      "INFO:root:Convergence rate for pos_y = 0.5824394226074219\n",
      "INFO:root:Convergence rate for height = 7.453741164726667e-05\n",
      "INFO:root:Convergence rate for sigma = 0.0026792929727425543\n",
      "INFO:root:Convergence not reached\n",
      "Fitting random batch: 100%|██████████| 3/3 [00:03<00:00,  1.03s/it]\n",
      "INFO:root:Convergence rate for pos_x = 0.57537841796875\n",
      "INFO:root:Convergence rate for pos_y = 0.5728464126586914\n",
      "INFO:root:Convergence rate for height = 7.364015429719182e-05\n",
      "INFO:root:Convergence rate for sigma = 0.0023136526054629296\n",
      "INFO:root:Convergence not reached\n",
      "Fitting random batch: 100%|██████████| 3/3 [00:03<00:00,  1.05s/it]\n",
      "INFO:root:Convergence rate for pos_x = 0.58050537109375\n",
      "INFO:root:Convergence rate for pos_y = 0.59307861328125\n",
      "INFO:root:Convergence rate for height = 7.383537108411512e-05\n",
      "INFO:root:Convergence rate for sigma = 0.001888995308397252\n",
      "INFO:root:Convergence not reached\n"
     ]
    },
    {
     "data": {
      "text/plain": [
       "{'pos_x': array([  5.16073227,   3.50016427,   3.99327898, ..., 631.52124023,\n",
       "        631.29718018, 633.03723145]),\n",
       " 'pos_y': array([  3.6004734 ,  14.76122761,  26.81199837, ..., 178.14056396,\n",
       "        123.57289124,  57.48521042]),\n",
       " 'height': array([3120.02913123, 2886.78847547, 3182.20434441, ..., 2151.82403418,\n",
       "        1916.49524455, 1294.39872316]),\n",
       " 'sigma': array([1.88387735, 1.88387735, 1.88387735, ..., 1.88387735, 1.88387735,\n",
       "        1.93331316]),\n",
       " 'background': 31493.609731826564}"
      ]
     },
     "execution_count": 6,
     "metadata": {},
     "output_type": "execute_result"
    }
   ],
   "source": [
    "\n",
    "model.fit_background = True\n",
    "params = model.init_params()\n",
    "model.fit_random_batch(params, batch_size=1000, maxiter=50, tol=1e-3, plot=False, step_size=0.01,verbose=False,num_epoch=5)"
   ]
  },
  {
   "cell_type": "code",
   "execution_count": 3,
   "metadata": {},
   "outputs": [
    {
     "name": "stdout",
     "output_type": "stream",
     "text": [
      "Origin selected: [343. 189.]\n",
      "Vector a selected: [10. -1.]\n",
      "Vector b selected: [ -1. -11.]\n",
      "In pixel: Origin: [343. 189.], Vector a: [10. -1.], Vector b: [ -1. -11.]\n",
      "In space: Origin: [124.35404689  68.52161768] A, Vector a: [ 3.62548242 -0.36254824] A, Vector b: [-0.36254824 -3.98803066] A\n",
      "Origin selected: [360. 128.]\n",
      "Vector a selected: [65. -1.]\n",
      "Vector b selected: [ 3. 25.]\n",
      "In pixel: Origin: [360. 128.], Vector a: [65. -1.], Vector b: [ 3. 25.]\n",
      "In space: Origin: [3.87879415 1.37912681] 1/A, Vector a: [ 0.70033783 -0.01077443] 1/A, Vector b: [0.03232328 0.26936071] 1/A\n",
      "FFT real a: [11.05622332 -0.47839428] pixel, Real b: [ 0.43611275 10.22139252] pixel\n"
     ]
    }
   ],
   "source": [
    "from qem.crystal_analyzer import CrystalAnalyzer\n",
    "\n",
    "crystal_analyzer = CrystalAnalyzer(image = model.image, dx = model.dx, peak_positions = model.coordinates, atom_types = model.atom_types, elements=['Sr','Ti'],units=model.units)\n",
    "cif_file = '/home/zzhang/OneDrive/code/qem/data/STO/SrTiO3_mp-5229_conventional_standard.cif'\n",
    "crystal_analyzer.read_cif(cif_file)\n",
    "crystal_analyzer.choose_lattice_vectors(tolerance=20)\n",
    "supercell_in_image, supercell_atom_types = crystal_analyzer.generate_supercell_lattice(a_limit=20, b_limit=20)"
   ]
  },
  {
   "cell_type": "code",
   "execution_count": 4,
   "metadata": {},
   "outputs": [],
   "source": [
    "peaks = crystal_analyzer.shift_origin_adaptive(20,20)\n",
    "\n",
    "plt.imshow(model.image)\n",
    "for key, value in peaks.items():\n",
    "    plt.scatter(value[0], value[1])"
   ]
  },
  {
   "cell_type": "code",
   "execution_count": 7,
   "metadata": {},
   "outputs": [],
   "source": [
    "model.plot_scs()"
   ]
  },
  {
   "cell_type": "code",
   "execution_count": 12,
   "metadata": {},
   "outputs": [],
   "source": [
    "model.plot_fitting()"
   ]
  },
  {
   "cell_type": "code",
   "execution_count": 7,
   "metadata": {},
   "outputs": [],
   "source": [
    "model.plot_coordinates()"
   ]
  },
  {
   "cell_type": "code",
   "execution_count": 1,
   "metadata": {},
   "outputs": [
    {
     "name": "stderr",
     "output_type": "stream",
     "text": [
      "INFO:numexpr.utils:Note: NumExpr detected 20 cores but \"NUMEXPR_MAX_THREADS\" not set, so enforcing safe limit of 8.\n",
      "INFO:numexpr.utils:NumExpr defaulting to 8 threads.\n"
     ]
    },
    {
     "name": "stdout",
     "output_type": "stream",
     "text": [
      "Updated peak locations.\n"
     ]
    }
   ],
   "source": [
    "from qem.crystal_analyzer import CrystalAnalyzer\n",
    "from qem.fitting import ImageModelFitting\n",
    "import scipy.io as sio\n",
    "import numpy as np\n",
    "import matplotlib.pyplot as plt\n",
    "%matplotlib qt\n",
    "\n",
    "file = '/home/zzhang/OneDrive/code/qem/data/STO/adf_average_STO.txt'\n",
    "image = np.loadtxt(file)\n",
    "dx= 0.1645429228960236\t\n",
    "model=ImageModelFitting(image, dx=dx,units='A')\n",
    "model.find_peaks()\n",
    "crystal_analyzer = CrystalAnalyzer(image = model.image, dx = model.dx, peak_positions = model.coordinates, atom_types = model.atom_types, elements=['Sr','Ti'])"
   ]
  },
  {
   "cell_type": "code",
   "execution_count": 5,
   "metadata": {},
   "outputs": [
    {
     "name": "stderr",
     "output_type": "stream",
     "text": [
      "INFO:root:No atoms selected.\n"
     ]
    }
   ],
   "source": []
  },
  {
   "cell_type": "code",
   "execution_count": 6,
   "metadata": {},
   "outputs": [
    {
     "data": {
      "text/plain": [
       "Atoms(symbols='SrTi', pbc=True, cell=[3.905, 3.905, 3.905], spacegroup_kinds=...)"
      ]
     },
     "execution_count": 6,
     "metadata": {},
     "output_type": "execute_result"
    }
   ],
   "source": [
    "\n",
    "cif_file = '/home/zzhang/OneDrive/code/qem/data/STO/SrTiO3_mp-5229_conventional_standard.cif'\n",
    "crystal_analyzer.read_cif(cif_file)"
   ]
  },
  {
   "cell_type": "code",
   "execution_count": 4,
   "metadata": {},
   "outputs": [
    {
     "name": "stdout",
     "output_type": "stream",
     "text": [
      "Selection incomplete.\n",
      "Selection incomplete.\n"
     ]
    },
    {
     "ename": "TypeError",
     "evalue": "unsupported operand type(s) for *: 'NoneType' and 'NoneType'",
     "output_type": "error",
     "traceback": [
      "\u001b[0;31m---------------------------------------------------------------------------\u001b[0m",
      "\u001b[0;31mTypeError\u001b[0m                                 Traceback (most recent call last)",
      "Cell \u001b[0;32mIn[4], line 1\u001b[0m\n\u001b[0;32m----> 1\u001b[0m \u001b[43mcrystal_analyzer\u001b[49m\u001b[38;5;241;43m.\u001b[39;49m\u001b[43mchoose_lattice_vectors\u001b[49m\u001b[43m(\u001b[49m\u001b[43m)\u001b[49m\n",
      "File \u001b[0;32m~/OneDrive/code/qem/qem/crystal_analyzer.py:75\u001b[0m, in \u001b[0;36mCrystalAnalyzer.choose_lattice_vectors\u001b[0;34m(self, tolerance)\u001b[0m\n\u001b[1;32m     73\u001b[0m fft_origin, fft_a, fft_b \u001b[38;5;241m=\u001b[39m fft_plot\u001b[38;5;241m.\u001b[39mselect_vectors()\n\u001b[1;32m     74\u001b[0m \u001b[38;5;66;03m# normalize the fft vectors\u001b[39;00m\n\u001b[0;32m---> 75\u001b[0m unit_vector_a \u001b[38;5;241m=\u001b[39m fft_a \u001b[38;5;241m/\u001b[39m \u001b[43mnp\u001b[49m\u001b[38;5;241;43m.\u001b[39;49m\u001b[43mlinalg\u001b[49m\u001b[38;5;241;43m.\u001b[39;49m\u001b[43mnorm\u001b[49m\u001b[43m(\u001b[49m\u001b[43mfft_a\u001b[49m\u001b[43m)\u001b[49m\n\u001b[1;32m     76\u001b[0m unit_vector_b \u001b[38;5;241m=\u001b[39m fft_b \u001b[38;5;241m/\u001b[39m np\u001b[38;5;241m.\u001b[39mlinalg\u001b[38;5;241m.\u001b[39mnorm(fft_b)\n\u001b[1;32m     77\u001b[0m scale_a \u001b[38;5;241m=\u001b[39m \u001b[38;5;241m1\u001b[39m\u001b[38;5;241m/\u001b[39m(np\u001b[38;5;241m.\u001b[39mlinalg\u001b[38;5;241m.\u001b[39mnorm(fft_a) \u001b[38;5;241m*\u001b[39m fft_dx)\u001b[38;5;241m/\u001b[39m\u001b[38;5;28mself\u001b[39m\u001b[38;5;241m.\u001b[39mdx\n",
      "File \u001b[0;32m<__array_function__ internals>:200\u001b[0m, in \u001b[0;36mnorm\u001b[0;34m(*args, **kwargs)\u001b[0m\n",
      "File \u001b[0;32m~/.local/lib/python3.11/site-packages/numpy/linalg/linalg.py:2511\u001b[0m, in \u001b[0;36mnorm\u001b[0;34m(x, ord, axis, keepdims)\u001b[0m\n\u001b[1;32m   2509\u001b[0m     sqnorm \u001b[38;5;241m=\u001b[39m x_real\u001b[38;5;241m.\u001b[39mdot(x_real) \u001b[38;5;241m+\u001b[39m x_imag\u001b[38;5;241m.\u001b[39mdot(x_imag)\n\u001b[1;32m   2510\u001b[0m \u001b[38;5;28;01melse\u001b[39;00m:\n\u001b[0;32m-> 2511\u001b[0m     sqnorm \u001b[38;5;241m=\u001b[39m x\u001b[38;5;241m.\u001b[39mdot(x)\n\u001b[1;32m   2512\u001b[0m ret \u001b[38;5;241m=\u001b[39m sqrt(sqnorm)\n\u001b[1;32m   2513\u001b[0m \u001b[38;5;28;01mif\u001b[39;00m keepdims:\n",
      "\u001b[0;31mTypeError\u001b[0m: unsupported operand type(s) for *: 'NoneType' and 'NoneType'"
     ]
    }
   ],
   "source": [
    "crystal_analyzer.choose_lattice_vectors()"
   ]
  },
  {
   "cell_type": "code",
   "execution_count": 5,
   "metadata": {},
   "outputs": [],
   "source": [
    "crystal_analyzer._origin_adaptive = None\n",
    "shift_center = crystal_analyzer.shift_origin_adaptive(50, 50)\n",
    "plt.imshow(model.image, cmap='gray')\n",
    "peaks = []\n",
    "for key, value in shift_center.items():\n",
    "    peaks.append(value)\n",
    "\n",
    "plt.scatter(np.array(peaks)[:,0], np.array(peaks)[:,1], c='r', s=10)\n",
    "plt.show()"
   ]
  },
  {
   "cell_type": "code",
   "execution_count": 6,
   "metadata": {},
   "outputs": [],
   "source": [
    "peak_positions, atom_types = crystal_analyzer.generate_supercell_lattice(a_limit=50, b_limit=50)"
   ]
  },
  {
   "cell_type": "code",
   "execution_count": 14,
   "metadata": {},
   "outputs": [],
   "source": [
    "peak_positions, atom_types = crystal_analyzer.supercell_project_2d()"
   ]
  },
  {
   "cell_type": "code",
   "execution_count": 7,
   "metadata": {},
   "outputs": [
    {
     "data": {
      "text/plain": [
       "<matplotlib.collections.PathCollection at 0x7f48bc0f7a10>"
      ]
     },
     "execution_count": 7,
     "metadata": {},
     "output_type": "execute_result"
    }
   ],
   "source": [
    "plt.scatter(peak_positions[:,0], peak_positions[:,1], c='r', s=10)"
   ]
  },
  {
   "cell_type": "code",
   "execution_count": 10,
   "metadata": {},
   "outputs": [
    {
     "ename": "TypeError",
     "evalue": "list indices must be integers or slices, not numpy.float64",
     "output_type": "error",
     "traceback": [
      "\u001b[0;31m---------------------------------------------------------------------------\u001b[0m",
      "\u001b[0;31mTypeError\u001b[0m                                 Traceback (most recent call last)",
      "Cell \u001b[0;32mIn[10], line 1\u001b[0m\n\u001b[0;32m----> 1\u001b[0m \u001b[43mcrystal_analyzer\u001b[49m\u001b[38;5;241;43m.\u001b[39;49m\u001b[43munitcell_mapping\u001b[49m\u001b[43m(\u001b[49m\u001b[43m)\u001b[49m\n",
      "File \u001b[0;32m~/OneDrive/code/qem/qem/crystal_analyzer.py:236\u001b[0m, in \u001b[0;36mCrystalAnalyzer.unitcell_mapping\u001b[0;34m(self, ref, plot)\u001b[0m\n\u001b[1;32m    234\u001b[0m \u001b[38;5;28;01mfor\u001b[39;00m atom_type \u001b[38;5;129;01min\u001b[39;00m np\u001b[38;5;241m.\u001b[39munique(\u001b[38;5;28mself\u001b[39m\u001b[38;5;241m.\u001b[39matom_types):\n\u001b[1;32m    235\u001b[0m     mask_element \u001b[38;5;241m=\u001b[39m \u001b[38;5;28mself\u001b[39m\u001b[38;5;241m.\u001b[39matom_types \u001b[38;5;241m==\u001b[39m atom_type\n\u001b[0;32m--> 236\u001b[0m     element \u001b[38;5;241m=\u001b[39m \u001b[38;5;28;43mself\u001b[39;49m\u001b[38;5;241;43m.\u001b[39;49m\u001b[43melements\u001b[49m\u001b[43m[\u001b[49m\u001b[43matom_type\u001b[49m\u001b[43m]\u001b[49m\n\u001b[1;32m    237\u001b[0m     current_color \u001b[38;5;241m=\u001b[39m np\u001b[38;5;241m.\u001b[39marray(\u001b[38;5;28mnext\u001b[39m(color_iterator))\u001b[38;5;241m.\u001b[39mreshape(\u001b[38;5;241m1\u001b[39m, \u001b[38;5;241m-\u001b[39m\u001b[38;5;241m1\u001b[39m)\n\u001b[1;32m    238\u001b[0m     plt\u001b[38;5;241m.\u001b[39mscatter(\n\u001b[1;32m    239\u001b[0m         \u001b[38;5;28mself\u001b[39m\u001b[38;5;241m.\u001b[39mpeak_positions[:, \u001b[38;5;241m0\u001b[39m][mask_element],\n\u001b[1;32m    240\u001b[0m         \u001b[38;5;28mself\u001b[39m\u001b[38;5;241m.\u001b[39mpeak_positions[:, \u001b[38;5;241m1\u001b[39m][mask_element],\n\u001b[1;32m    241\u001b[0m         label\u001b[38;5;241m=\u001b[39melement,\n\u001b[1;32m    242\u001b[0m         c\u001b[38;5;241m=\u001b[39mcurrent_color,\n\u001b[1;32m    243\u001b[0m     )\n",
      "\u001b[0;31mTypeError\u001b[0m: list indices must be integers or slices, not numpy.float64"
     ]
    }
   ],
   "source": [
    "crystal_analyzer.unitcell_mapping()"
   ]
  },
  {
   "cell_type": "code",
   "execution_count": 23,
   "metadata": {},
   "outputs": [
    {
     "data": {
      "text/plain": [
       "<matplotlib.image.AxesImage at 0x7fe4c06a3490>"
      ]
     },
     "execution_count": 23,
     "metadata": {},
     "output_type": "execute_result"
    }
   ],
   "source": [
    "im_refined = model.predict_local(params=model.params)\n",
    "plt.imshow(im_refined)"
   ]
  },
  {
   "cell_type": "code",
   "execution_count": 25,
   "metadata": {},
   "outputs": [
    {
     "data": {
      "text/plain": [
       "<matplotlib.image.AxesImage at 0x7fe36013c190>"
      ]
     },
     "execution_count": 25,
     "metadata": {},
     "output_type": "execute_result"
    }
   ],
   "source": [
    "plt.imshow(model.image-im_refined)"
   ]
  },
  {
   "cell_type": "code",
   "execution_count": 18,
   "metadata": {},
   "outputs": [
    {
     "data": {
      "text/plain": [
       "array([1, 1, 1, 1, 1, 1, 1, 1, 1, 1, 1, 1, 1, 1, 1, 1, 1, 1, 1, 1, 1, 0,\n",
       "       0, 0, 0, 0, 0, 0, 0, 0, 0, 0, 0, 0, 0, 0, 0, 0, 0, 0, 0, 1, 1, 1,\n",
       "       1, 1, 1, 1, 1, 1, 1, 1, 1, 1, 1, 1, 1, 1, 1, 1, 1, 1, 0, 0, 0, 0,\n",
       "       0, 0, 0, 0, 0, 0, 0, 0, 0, 0, 0, 0, 0, 0, 0, 0, 1, 1, 1, 1, 1, 1,\n",
       "       1, 1, 1, 1, 1, 1, 1, 1, 1, 1, 1, 1, 1, 1, 1, 0, 0, 0, 0, 0, 0, 0,\n",
       "       0, 0, 0, 0, 0, 0, 0, 0, 0, 0, 0, 0, 0, 1, 1, 1, 1, 1, 1, 1, 1, 1,\n",
       "       1, 1, 1, 1, 1, 1, 1, 1, 1, 1, 1, 1, 0, 0, 0, 0, 0, 0, 0, 0, 0, 0,\n",
       "       0, 0, 0, 0, 0, 0, 0, 0, 0, 0, 1, 1, 1, 1, 1, 1, 1, 1, 1, 1, 1, 1,\n",
       "       1, 1, 1, 1, 1, 1, 1, 1, 1, 0, 0, 0, 0, 0, 0, 0, 0, 0, 0, 0, 0, 0,\n",
       "       0, 0, 0, 0, 0, 0, 0, 1, 1, 1, 1, 1, 1, 1, 1, 1, 1, 1, 1, 1, 1, 1,\n",
       "       1, 1, 1, 1, 1, 1, 0, 0, 0, 0, 0, 0, 0, 0, 0, 0, 0, 0, 0, 0, 0, 0,\n",
       "       0, 0, 0, 0, 0, 1, 1, 1, 1, 1, 1, 1, 1, 1, 1, 1, 1, 1, 1, 1, 1, 1,\n",
       "       1, 1, 1, 1, 0, 0, 0, 0, 0, 0, 0, 0, 0, 0, 0, 0, 0, 0, 0, 0, 0, 0,\n",
       "       0, 0, 0, 1, 1, 1, 1, 1, 1, 1, 1, 1, 1, 1, 1, 1, 1, 1, 1, 1, 1, 1,\n",
       "       1, 1, 0, 0, 0, 0, 0, 0, 0, 0, 0, 0, 0, 0, 0, 0, 0, 0, 0, 0, 0, 0,\n",
       "       0, 1, 1, 1, 1, 1, 1, 1, 1, 1, 1, 1, 1, 1, 1, 1, 1, 1, 1, 1, 1, 1,\n",
       "       0, 0, 0, 0, 0, 0, 0, 0, 0, 0, 0, 0, 0, 0, 0, 0, 0, 0, 0, 0, 0, 1,\n",
       "       1, 1, 1, 1, 1, 1, 1, 1, 1, 1, 1, 1, 1, 1, 1, 1, 1, 1, 1, 1, 0, 0,\n",
       "       0, 0, 0, 0, 0, 0, 0, 0, 0, 0, 0, 0, 0, 0, 0, 0, 0, 0, 0, 1, 1, 1,\n",
       "       1, 1, 1, 1, 1, 1, 1, 1, 1, 1, 1, 1, 1, 1, 1, 1, 1, 1, 0, 0, 0, 0,\n",
       "       0, 0, 0, 0, 0, 0, 0, 0, 0, 0, 0, 0, 0, 0, 0, 0, 0, 1, 1, 1, 1, 1,\n",
       "       1, 1, 1, 1, 1, 1, 1, 1, 1, 1, 1, 1, 1, 1, 1, 1, 0, 0, 0, 0, 0, 0,\n",
       "       0, 0, 0, 0, 0, 0, 0, 0, 0, 0, 0, 0, 0, 0, 0, 1, 1, 1, 1, 1, 1, 1,\n",
       "       1, 1, 1, 1, 1, 1, 1, 1, 1, 1, 1, 1, 1, 1, 0, 0, 0, 0, 0, 0, 0, 0,\n",
       "       0, 0, 0, 0, 0, 0, 0, 0, 0, 0, 0, 0, 0, 1, 1, 1, 1, 1, 1, 1, 1, 1,\n",
       "       1, 1, 1, 1, 1, 1, 1, 1, 1, 1, 1, 1, 0, 0, 0, 0, 0, 0, 0, 0, 0, 0,\n",
       "       0, 0, 0, 0, 0, 0, 0, 0, 0, 0, 0, 1, 1, 1, 1, 1, 1, 1, 1, 1, 1, 1,\n",
       "       1, 1, 1, 1, 1, 1, 1, 1, 1, 1, 0, 0, 0, 0, 0, 0, 0, 0, 0, 0, 0, 0,\n",
       "       0, 0, 0, 0, 0, 0, 0, 0, 0, 1, 1, 1, 1, 1, 1, 1, 1, 1, 1, 1, 1, 1,\n",
       "       1, 1, 1, 1, 1, 1, 1, 1, 0, 0, 0, 0, 0, 0, 0, 0, 0, 0, 0, 0, 0, 0,\n",
       "       0, 0, 0, 0, 0, 0, 0, 1, 1, 1, 1, 1, 1, 1, 1, 1, 1, 1, 1, 1, 1, 1,\n",
       "       1, 1, 1, 1, 1, 1, 0, 0, 0, 0, 0, 0, 0, 0, 0, 0, 0, 0, 0, 0, 0, 0,\n",
       "       0, 0, 0, 0, 0, 1, 1, 1, 1, 1, 1, 1, 1, 1, 1, 1, 1, 1, 1, 1, 1, 1,\n",
       "       1, 1, 1, 1, 0, 0, 0, 0, 0, 0, 0, 0, 0, 0, 0, 0, 0, 0, 0, 0, 0, 0,\n",
       "       0, 0, 0, 1, 1, 1, 1, 1, 1, 1, 1, 1, 1, 1, 1, 1, 1, 1, 1, 1, 1, 1,\n",
       "       1, 1, 0, 0, 0, 0, 0, 0, 0, 0, 0, 0, 0, 0, 0, 0, 0, 0, 0, 0, 0, 0,\n",
       "       0, 1, 1, 1, 1, 1, 1, 1, 1, 1, 1, 1, 1, 1, 1, 1, 1, 1, 1, 1, 1, 1,\n",
       "       0, 0, 0, 0, 0, 0, 0, 0, 0, 0, 0, 0, 0, 0, 0, 0, 0, 0, 0, 0, 0, 1,\n",
       "       1, 1, 1, 1, 1, 1, 1, 1, 1, 1, 1, 1, 1, 1, 1, 1, 1, 1, 1, 1, 0, 0,\n",
       "       0, 0, 0, 0, 0, 0, 0, 0, 0, 0, 0, 0, 0, 0, 0, 0, 0, 0, 0, 1, 1, 1,\n",
       "       1, 1, 1, 1, 1])"
      ]
     },
     "execution_count": 18,
     "metadata": {},
     "output_type": "execute_result"
    }
   ],
   "source": [
    "model.atom_types"
   ]
  },
  {
   "cell_type": "code",
   "execution_count": null,
   "metadata": {},
   "outputs": [],
   "source": []
  }
 ],
 "metadata": {
  "kernelspec": {
   "display_name": "jax",
   "language": "python",
   "name": "python3"
  },
  "language_info": {
   "codemirror_mode": {
    "name": "ipython",
    "version": 3
   },
   "file_extension": ".py",
   "mimetype": "text/x-python",
   "name": "python",
   "nbconvert_exporter": "python",
   "pygments_lexer": "ipython3",
   "version": "3.11.2"
  }
 },
 "nbformat": 4,
 "nbformat_minor": 2
}
