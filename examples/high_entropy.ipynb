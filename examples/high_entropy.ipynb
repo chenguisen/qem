{
    "cells": [
        {
            "cell_type": "code",
            "execution_count": 2,
            "metadata": {},
            "outputs": [
                {
                    "name": "stdout",
                    "output_type": "stream",
                    "text": [
                        "Updated peak locations.\n",
                        "Origin selected: [209. 184.]\n",
                        "Vector a selected: [10. -1.]\n",
                        "Vector b selected: [ -1. -11.]\n",
                        "In pixel: Origin: [209. 184.], Vector a: [10. -1.], Vector b: [ -1. -11.]\n",
                        "In space: Origin: [75.77258251 66.70887647] A, Vector a: [ 3.62548242 -0.36254824] A, Vector b: [-0.36254824 -3.98803066] A\n",
                        "Origin selected: [360. 128.]\n",
                        "Vector a selected: [65. -1.]\n",
                        "Vector b selected: [ 3. 25.]\n",
                        "In pixel: Origin: [360. 128.], Vector a: [65. -1.], Vector b: [ 3. 25.]\n",
                        "In space: Origin: [1.37912681 0.4903562 ] 1/A, Vector a: [ 0.24900901 -0.00383091] 1/A, Vector b: [0.01149272 0.0957727 ] 1/A\n",
                        "FFT real a: [11.05651106 -0.47174447] pixel, Real b: [ 0.44226044 10.22113022] pixel\n"
                    ]
                }
            ],
            "source": [
                "from qem.image_fitting import ImageModelFitting\n",
                "import scipy.io as sio\n",
                "import numpy as np\n",
                "import matplotlib.pyplot as plt\n",
                "import os\n",
                "import hyperspy.api as hs\n",
                "%matplotlib qt\n",
                "\n",
                "file = '/home/zzhang/OneDrive/code/qem/examples/high_entropy_adf.hspy'\n",
                "# s = hs.load(file)\n",
                "s  = hs.load(file)\n",
                "image = s.data\n",
                "dx = s.axes_manager['x'].scale *10\n",
                "\n",
                "model=ImageModelFitting(image, dx=dx,units='A')\n",
                "model.find_peaks(min_distance=int(2/dx))\n",
                "cif_file = '/home/zzhang/OneDrive/code/qem/data/STO/SrTiO3_mp-5229_conventional_standard.cif'\n",
                "model.map_lattice(cif_file=cif_file,elements=['Sr','Ti'],min_distance=20, reciprocal=True)"
            ]
        },
        {
            "cell_type": "code",
            "execution_count": 3,
            "metadata": {},
            "outputs": [
                {
                    "name": "stderr",
                    "output_type": "stream",
                    "text": [
                        "INFO:root:Selected 2692 atoms out of 2924 atoms.\n"
                    ]
                }
            ],
            "source": [
                "model.select_region()"
            ]
        },
        {
            "cell_type": "code",
            "execution_count": 4,
            "metadata": {},
            "outputs": [
                {
                    "name": "stderr",
                    "output_type": "stream",
                    "text": [
                        "INFO:root:Removing peak at (534.4422604422605, 212.2211302211302).\n",
                        "INFO:root:Current atom type set to 0.\n",
                        "INFO:root:Adding peak at (535.0465372841253, 216.1081808352037) with atom type 0.\n",
                        "INFO:root:Removing peak at (535.0465372841253, 216.1081808352037).\n",
                        "INFO:root:Removing peak at (526.7493857493857, 207.87469287469287).\n",
                        "INFO:root:Current atom type set to 1.\n",
                        "INFO:root:Adding peak at (525.7096774193549, 206.38306451612902) with atom type 1.\n",
                        "INFO:root:Current atom type set to 0.\n",
                        "INFO:root:Adding peak at (530.5483870967743, 211.8266129032258) with atom type 0.\n",
                        "INFO:root:Removing peak at (527.1916461916462, 218.09582309582308).\n",
                        "INFO:root:Removing peak at (540.1916461916462, 217.09582309582308).\n",
                        "INFO:root:Removing peak at (534.884520884521, 222.44226044226042).\n",
                        "INFO:root:Removing peak at (535.3267813267814, 232.66339066339063).\n",
                        "INFO:root:Removing peak at (535.7690417690419, 242.88452088452084).\n",
                        "INFO:root:Current atom type set to 1.\n",
                        "INFO:root:Removing peak at (521.4422604422605, 213.2211302211302).\n",
                        "INFO:root:Current atom type set to 0.\n",
                        "INFO:root:Adding peak at (519.0564516129033, 213.03629032258064) with atom type 0.\n",
                        "INFO:root:Current atom type set to 1.\n",
                        "INFO:root:Adding peak at (523.8951612903226, 217.875) with atom type 1.\n",
                        "INFO:root:Adding peak at (535.3870967741935, 216.06048387096774) with atom type 1.\n",
                        "INFO:root:Current atom type set to 0.\n",
                        "INFO:root:Adding peak at (530.5483870967743, 220.89919354838707) with atom type 0.\n",
                        "INFO:root:Adding peak at (534.7822580645161, 225.13306451612902) with atom type 0.\n",
                        "INFO:root:Adding peak at (534.7822580645161, 235.41532258064515) with atom type 0.\n",
                        "INFO:root:Adding peak at (534.7822580645161, 246.30241935483872) with atom type 0.\n",
                        "INFO:root:Current atom type set to 1.\n",
                        "INFO:root:Removing peak at (525.7493857493857, 227.87469287469287).\n",
                        "INFO:root:Adding peak at (528.1290322580645, 232.39112903225805) with atom type 1.\n",
                        "INFO:root:Current atom type set to 1.\n",
                        "INFO:root:Removing peak at (528.1290322580645, 232.39112903225805).\n",
                        "INFO:root:Adding peak at (528.1290322580645, 230.5766129032258) with atom type 1.\n",
                        "INFO:root:Removing peak at (520.0, 223.0).\n",
                        "INFO:root:Current atom type set to 0.\n",
                        "INFO:root:Adding peak at (520.8709677419355, 223.92338709677418) with atom type 0.\n",
                        "INFO:root:Removing peak at (520.4422604422605, 233.2211302211302).\n",
                        "INFO:root:Removing peak at (526.1916461916462, 238.09582309582308).\n",
                        "INFO:root:Adding peak at (522.0806451612904, 234.81048387096774) with atom type 0.\n",
                        "INFO:root:Removing peak at (520.884520884521, 243.44226044226042).\n",
                        "INFO:root:Removing peak at (526.6339066339067, 248.3169533169533).\n",
                        "INFO:root:Adding peak at (523.2903225806452, 246.30241935483872) with atom type 0.\n",
                        "INFO:root:Current atom type set to 1.\n",
                        "INFO:root:Adding peak at (530.5483870967743, 240.85887096774192) with atom type 1.\n",
                        "INFO:root:Adding peak at (529.3387096774194, 249.3266129032258) with atom type 1.\n"
                    ]
                },
                {
                    "name": "stdout",
                    "output_type": "stream",
                    "text": [
                        "Updated peak locations.\n"
                    ]
                },
                {
                    "data": {
                        "text/plain": [
                            "array([[2.50614251e-01, 1.85125307e+02],\n",
                            "       [6.92874693e-01, 1.95346437e+02],\n",
                            "       [6.92874693e-01, 2.15346437e+02],\n",
                            "       ...,\n",
                            "       [5.23290323e+02, 2.46302419e+02],\n",
                            "       [5.30548387e+02, 2.40858871e+02],\n",
                            "       [5.29338710e+02, 2.49326613e+02]])"
                        ]
                    },
                    "execution_count": 4,
                    "metadata": {},
                    "output_type": "execute_result"
                }
            ],
            "source": [
                "model.add_or_remove_peaks(min_distance=4)"
            ]
        },
        {
            "cell_type": "code",
            "execution_count": 5,
            "metadata": {},
            "outputs": [
                {
                    "name": "stderr",
                    "output_type": "stream",
                    "text": [
                        "WARNING:root:The height has negative values, the linear estimator is not valid. I will make it positive but be careful with the results.\n",
                        "Fitting random batch:   0%|          | 0/3 [00:00<?, ?it/s]INFO:jax._src.xla_bridge:Unable to initialize backend 'rocm': module 'jaxlib.xla_extension' has no attribute 'GpuAllocatorConfig'\n",
                        "INFO:jax._src.xla_bridge:Unable to initialize backend 'tpu': INTERNAL: Failed to open libtpu.so: libtpu.so: cannot open shared object file: No such file or directory\n",
                        "Fitting random batch: 100%|██████████| 3/3 [00:05<00:00,  1.71s/it]\n",
                        "INFO:root:Convergence rate for pos_x = 0.5777848827164007\n",
                        "INFO:root:Convergence rate for pos_y = 0.5783405725727562\n",
                        "INFO:root:Convergence rate for height = 8.251034420460391e-05\n",
                        "INFO:root:Convergence rate for sigma = 0.015717037569522186\n",
                        "INFO:root:Convergence not reached\n",
                        "Fitting random batch: 100%|██████████| 3/3 [00:03<00:00,  1.05s/it]\n",
                        "INFO:root:Convergence rate for pos_x = 0.5748860836029053\n",
                        "INFO:root:Convergence rate for pos_y = 0.5637054443359375\n",
                        "INFO:root:Convergence rate for height = 7.475660375823304e-05\n",
                        "INFO:root:Convergence rate for sigma = 0.011502187013772914\n",
                        "INFO:root:Convergence not reached\n",
                        "Fitting random batch: 100%|██████████| 3/3 [00:03<00:00,  1.06s/it]\n",
                        "INFO:root:Convergence rate for pos_x = 0.5696258544921875\n",
                        "INFO:root:Convergence rate for pos_y = 0.5529384613037109\n",
                        "INFO:root:Convergence rate for height = 7.585315205748468e-05\n",
                        "INFO:root:Convergence rate for sigma = 0.009983179775079095\n",
                        "INFO:root:Convergence not reached\n",
                        "Fitting random batch: 100%|██████████| 3/3 [00:03<00:00,  1.05s/it]\n",
                        "INFO:root:Convergence rate for pos_x = 0.5425949096679688\n",
                        "INFO:root:Convergence rate for pos_y = 0.5388469696044922\n",
                        "INFO:root:Convergence rate for height = 7.689186334541459e-05\n",
                        "INFO:root:Convergence rate for sigma = 0.007966931882674878\n",
                        "INFO:root:Convergence not reached\n",
                        "Fitting random batch: 100%|██████████| 3/3 [00:03<00:00,  1.05s/it]\n",
                        "INFO:root:Convergence rate for pos_x = 0.528900146484375\n",
                        "INFO:root:Convergence rate for pos_y = 0.5701904296875\n",
                        "INFO:root:Convergence rate for height = 7.981945756690485e-05\n",
                        "INFO:root:Convergence rate for sigma = 0.006884683021322992\n",
                        "INFO:root:Convergence not reached\n"
                    ]
                },
                {
                    "data": {
                        "text/plain": [
                            "{'pos_x': array([  0.        ,   2.066046  ,   0.        , ..., 523.58514404,\n",
                            "        528.97393799, 529.49926758]),\n",
                            " 'pos_y': array([185.50404358, 197.78060913, 216.13517761, ..., 245.97798157,\n",
                            "        240.4098053 , 250.45744324]),\n",
                            " 'height': array([1023.20134172,  145.80985557,  596.12001332, ..., 6905.368139  ,\n",
                            "        4092.83653951, 4957.30081031]),\n",
                            " 'sigma': array([1.78466434, 1.97926233]),\n",
                            " 'background': 31664.075065638124}"
                        ]
                    },
                    "execution_count": 5,
                    "metadata": {},
                    "output_type": "execute_result"
                }
            ],
            "source": [
                "\n",
                "model.fit_background = True\n",
                "params = model.init_params()\n",
                "model.fit_random_batch(params, batch_size=1000, maxiter=50, tol=1e-3, plot=False, step_size=0.01,verbose=False,num_epoch=5)"
            ]
        },
        {
            "cell_type": "code",
            "execution_count": 6,
            "metadata": {},
            "outputs": [],
            "source": [
                "model.plot_scs()"
            ]
        },
        {
            "cell_type": "code",
            "execution_count": 7,
            "metadata": {},
            "outputs": [
                {
                    "name": "stderr",
                    "output_type": "stream",
                    "text": [
                        "/home/zzhang/OneDrive/code/qem/qem/image_fitting.py:1466: UserWarning: The figure layout has changed to tight\n",
                        "  plt.tight_layout()\n",
                        "/home/zzhang/OneDrive/code/qem/qem/image_fitting.py:1472: UserWarning: The figure layout has changed to tight\n",
                        "  plt.tight_layout()\n"
                    ]
                }
            ],
            "source": [
                "model.plot_fitting()"
            ]
        },
        {
            "cell_type": "code",
            "execution_count": 8,
            "metadata": {},
            "outputs": [],
            "source": [
                "model.plot_coordinates()"
            ]
        }
    ],
    "metadata": {
        "kernelspec": {
            "display_name": "jax",
            "language": "python",
            "name": "python3"
        },
        "language_info": {
            "codemirror_mode": {
                "name": "ipython",
                "version": 3
            },
            "file_extension": ".py",
            "mimetype": "text/x-python",
            "name": "python",
            "nbconvert_exporter": "python",
            "pygments_lexer": "ipython3",
            "version": "3.11.2"
        }
    },
    "nbformat": 4,
    "nbformat_minor": 2
}
