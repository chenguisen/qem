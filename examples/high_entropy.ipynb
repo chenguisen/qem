{
 "cells": [
  {
   "cell_type": "code",
   "execution_count": 1,
   "metadata": {},
   "outputs": [
    {
     "name": "stdout",
     "output_type": "stream",
     "text": [
      "Updated peak locations.\n",
      "Origin selected: [342. 147.]\n",
      "Vector a selected: [11. -1.]\n",
      "Vector b selected: [  0. -11.]\n",
      "In pixel: Origin: [342. 147.], Vector a: [11. -1.], Vector b: [  0. -11.]\n",
      "In space: Origin: [123.99149865  53.29459153] A, Vector a: [ 3.98803066 -0.36254824] A, Vector b: [ 0.         -3.98803066] A\n",
      "Origin selected: [360. 128.]\n",
      "Vector a selected: [65. -1.]\n",
      "Vector b selected: [ 3. 25.]\n",
      "In pixel: Origin: [360. 128.], Vector a: [65. -1.], Vector b: [ 3. 25.]\n",
      "In space: Origin: [1.37912681 0.4903562 ] 1/A, Vector a: [ 0.24900901 -0.00383091] 1/A, Vector b: [0.01149272 0.0957727 ] 1/A\n",
      "FFT real a: [11.05651106 -0.47174447] pixel, Real b: [ 0.44226044 10.22113022] pixel\n"
     ]
    }
   ],
   "source": [
    "from qem.fitting import ImageModelFitting\n",
    "import scipy.io as sio\n",
    "import numpy as np\n",
    "import matplotlib.pyplot as plt\n",
    "import os\n",
    "# sys.path.append('/home/zzhang/OneDrive/code/hyperspy/hyperspy')\n",
    "%matplotlib qt\n",
    "\n",
    "file = '/home/zzhang/OneDrive/data/High_entropy/script/adf_avg.npy'\n",
    "# s = hs.load(file)\n",
    "image = np.load(file)\n",
    "dx = 0.36254824166962796\n",
    "\n",
    "model=ImageModelFitting(image, dx=dx,units='A')\n",
    "model.find_peaks(min_distance=int(2/dx))\n",
    "cif_file = '/home/zzhang/OneDrive/code/qem/data/STO/SrTiO3_mp-5229_conventional_standard.cif'\n",
    "model.map_lattice(cif_file=cif_file,elements=['Sr','Ti'],min_distance=20,a_limit=50, b_limit=50 )"
   ]
  },
  {
   "cell_type": "code",
   "execution_count": 1,
   "metadata": {},
   "outputs": [],
   "source": [
    "from qem.image_model import ImageModelFitting\n",
    "import scipy.io as sio\n",
    "import numpy as np\n",
    "import matplotlib.pyplot as plt\n",
    "import os\n",
    "# sys.path.append('/home/zzhang/OneDrive/code/hyperspy/hyperspy')\n",
    "%matplotlib qt\n",
    "\n",
    "file = '/home/zzhang/OneDrive/code/qem/data/high_entropy/adf_avg.npy'\n",
    "# s = hs.load(file)\n",
    "image = np.load(file)\n",
    "dx = 0.36254824166962796\n",
    "\n",
    "model=ImageModelFitting(image, dx=dx,units='A')\n",
    "\n",
    "# get the unique coordinates by row\n",
    "# input_coordinates = np.unique(input_coordinates, axis=0)"
   ]
  },
  {
   "cell_type": "code",
   "execution_count": 2,
   "metadata": {},
   "outputs": [
    {
     "name": "stdout",
     "output_type": "stream",
     "text": [
      "Updated peak locations.\n"
     ]
    },
    {
     "data": {
      "text/plain": [
       "array([[152., 185.],\n",
       "       [152., 216.],\n",
       "       [151.,  92.],\n",
       "       ...,\n",
       "       [707., 160.],\n",
       "       [707.,  76.],\n",
       "       [713., 161.]])"
      ]
     },
     "execution_count": 2,
     "metadata": {},
     "output_type": "execute_result"
    }
   ],
   "source": [
    "model.find_peaks(min_distance=4)"
   ]
  },
  {
   "cell_type": "code",
   "execution_count": 3,
   "metadata": {},
   "outputs": [
    {
     "name": "stdout",
     "output_type": "stream",
     "text": [
      "Updated peak locations.\n",
      "Origin selected: [343. 189.]\n",
      "Vector a selected: [10. -1.]\n",
      "Vector b selected: [ -1. -11.]\n",
      "In pixel: Origin: [343. 189.], Vector a: [10. -1.], Vector b: [ -1. -11.]\n",
      "In space: Origin: [124.35404689  68.52161768] A, Vector a: [ 3.62548242 -0.36254824] A, Vector b: [-0.36254824 -3.98803066] A\n",
      "Origin selected: [360. 128.]\n",
      "Vector a selected: [65. -1.]\n",
      "Vector b selected: [ 3. 25.]\n",
      "In pixel: Origin: [360. 128.], Vector a: [65. -1.], Vector b: [ 3. 25.]\n",
      "In space: Origin: [3.87879415 1.37912681] 1/A, Vector a: [ 0.70033783 -0.01077443] 1/A, Vector b: [0.03232328 0.26936071] 1/A\n",
      "FFT real a: [11.05622332 -0.47839428] pixel, Real b: [ 0.43611275 10.22139252] pixel\n"
     ]
    }
   ],
   "source": [
    "model.find_peaks(min_distance=4)\n",
    "cif_file = '/home/zzhang/OneDrive/code/qem/data/STO/SrTiO3_mp-5229_conventional_standard.cif'\n",
    "model.map_lattice(cif_file=cif_file,elements=['Sr','Ti'],min_distance=20,a_limit=50, b_limit=50 )\n",
    "# model.select_region(invert_selection=False)"
   ]
  },
  {
   "cell_type": "code",
   "execution_count": 4,
   "metadata": {},
   "outputs": [
    {
     "name": "stderr",
     "output_type": "stream",
     "text": [
      "INFO:root:Selected 2731 atoms out of 3176 atoms.\n"
     ]
    }
   ],
   "source": [
    "model.select_region()"
   ]
  },
  {
   "cell_type": "code",
   "execution_count": 6,
   "metadata": {},
   "outputs": [
    {
     "name": "stderr",
     "output_type": "stream",
     "text": [
      "INFO:root:Adding peak at (509.0790946564308, 215.69816208448358) with atom type 0.\n",
      "INFO:root:Adding peak at (518.3367431834512, 212.97532428241877) with atom type 0.\n",
      "INFO:root:Removing peak at (534.436112747638, 212.22139252276745).\n",
      "INFO:root:Adding peak at (530.3172295125364, 211.34162160117987) with atom type 0.\n",
      "INFO:root:Adding peak at (519.4258783042771, 223.32210793026508) with atom type 0.\n",
      "INFO:root:Adding peak at (530.3172295125364, 221.14383768861322) with atom type 0.\n",
      "INFO:root:Removing peak at (534.8722254952761, 222.4427850455349).\n",
      "INFO:root:Adding peak at (535.2183375562531, 226.58951329274285) with atom type 0.\n",
      "INFO:root:Removing peak at (525.7461680360639, 227.871499122152).\n",
      "INFO:root:Current atom type set to 1.\n",
      "INFO:root:Adding peak at (529.2280943917104, 230.94605377604657) with atom type 1.\n",
      "INFO:root:Adding peak at (524.3269863479937, 217.33186476572246) with atom type 1.\n",
      "INFO:root:Removing peak at (540.1822807837019, 217.09289164491943).\n",
      "INFO:root:Adding peak at (535.762905116666, 215.69816208448358) with atom type 1.\n",
      "INFO:root:Adding peak at (526.5052565896457, 206.98508111787615) with atom type 1.\n",
      "INFO:root:Adding peak at (515.0693378209734, 208.61878379911505) with atom type 1.\n",
      "INFO:root:Adding peak at (515.6139053813864, 220.59927012820026) with atom type 1.\n",
      "INFO:root:Removing peak at (520.436112747638, 233.22139252276745).\n",
      "INFO:root:Current atom type set to 0.\n",
      "INFO:root:Adding peak at (522.693283666755, 235.30259425935026) with atom type 0.\n",
      "INFO:root:Removing peak at (526.1822807837019, 238.09289164491943).\n",
      "INFO:root:Current atom type set to 1.\n",
      "INFO:root:Adding peak at (530.3172295125364, 240.74826986347992) with atom type 1.\n",
      "INFO:root:Removing peak at (535.7444509905522, 242.88557009106978).\n",
      "INFO:root:Removing peak at (520.8722254952761, 243.4427850455349).\n",
      "INFO:root:Current atom type set to 0.\n",
      "INFO:root:Adding peak at (534.1292024354271, 246.19394546760955) with atom type 0.\n",
      "INFO:root:Removing peak at (526.61839353134, 248.31428416768688).\n",
      "INFO:root:Adding peak at (523.7824187875808, 246.19394546760955) with atom type 0.\n",
      "INFO:root:Current atom type set to 1.\n",
      "INFO:root:Adding peak at (530.3172295125364, 251.09505351132623) with atom type 1.\n",
      "INFO:root:Removing peak at (541.4906190266161, 247.75706921322177).\n",
      "INFO:root:Adding peak at (541.2085807207957, 250.55048595091324) with atom type 1.\n",
      "INFO:root:Removing peak at (541.054506278978, 237.53567669045432).\n",
      "INFO:root:Adding peak at (541.2085807207957, 240.74826986347992) with atom type 1.\n",
      "INFO:root:Removing peak at (540.61839353134, 227.31428416768688).\n",
      "INFO:root:Adding peak at (541.2085807207957, 230.4014862156336) with atom type 1.\n",
      "INFO:root:Removing peak at (577.8722254952761, 241.4427850455349).\n",
      "INFO:root:Adding peak at (574.9717694663995, 240.74826986347992) with atom type 1.\n",
      "INFO:root:Removing peak at (574.9717694663995, 240.74826986347992).\n",
      "INFO:root:Current atom type set to 0.\n",
      "INFO:root:Adding peak at (574.9717694663995, 242.3819725447188) with atom type 0.\n",
      "INFO:root:Removing peak at (574.9717694663995, 242.3819725447188).\n",
      "INFO:root:Adding peak at (574.9717694663995, 240.74826986347992) with atom type 0.\n",
      "INFO:root:Adding peak at (585.3185531142457, 239.65913474265398) with atom type 0.\n",
      "INFO:root:Removing peak at (591.2538319639361, 243.128500877848).\n",
      "INFO:root:Removing peak at (590.1269159819681, 233.564250438924).\n",
      "INFO:root:Adding peak at (586.4076882350716, 228.7677835343947) with atom type 0.\n",
      "INFO:root:Removing peak at (586.4076882350716, 228.7677835343947).\n",
      "INFO:root:Removing peak at (582.7461680360639, 225.871499122152).\n",
      "INFO:root:Current atom type set to 1.\n",
      "INFO:root:Adding peak at (585.3185531142457, 229.85691865522062) with atom type 1.\n",
      "INFO:root:Current atom type set to 0.\n",
      "INFO:root:Adding peak at (589.6750935975494, 233.66889157811138) with atom type 0.\n",
      "INFO:root:Adding peak at (592.3979313996142, 243.47110766554474) with atom type 0.\n",
      "INFO:root:Removing peak at (583.61839353134, 246.31428416768688).\n",
      "INFO:root:Adding peak at (579.872877510116, 245.1048103467836) with atom type 0.\n",
      "INFO:root:Removing peak at (579.872877510116, 245.1048103467836).\n",
      "INFO:root:Current atom type set to 1.\n",
      "INFO:root:Adding peak at (580.962012630942, 245.1048103467836) with atom type 1.\n"
     ]
    },
    {
     "name": "stdout",
     "output_type": "stream",
     "text": [
      "Updated peak locations.\n"
     ]
    },
    {
     "data": {
      "text/plain": [
       "array([[  2.75469049,   6.12146539],\n",
       "       [  3.19080323,  16.34285792],\n",
       "       [  3.62691598,  26.56425044],\n",
       "       ...,\n",
       "       [589.6750936 , 233.66889158],\n",
       "       [592.3979314 , 243.47110767],\n",
       "       [580.96201263, 245.10481035]])"
      ]
     },
     "execution_count": 6,
     "metadata": {},
     "output_type": "execute_result"
    }
   ],
   "source": [
    "model.add_or_remove_peaks(min_distance=4)"
   ]
  },
  {
   "cell_type": "code",
   "execution_count": 7,
   "metadata": {},
   "outputs": [
    {
     "name": "stderr",
     "output_type": "stream",
     "text": [
      "Fitting random batch:   0%|          | 0/3 [00:00<?, ?it/s]INFO:jax._src.xla_bridge:Unable to initialize backend 'rocm': NOT_FOUND: Could not find registered platform with name: \"rocm\". Available platform names are: CUDA\n",
      "INFO:jax._src.xla_bridge:Unable to initialize backend 'tpu': INTERNAL: Failed to open libtpu.so: libtpu.so: cannot open shared object file: No such file or directory\n",
      "Fitting random batch: 100%|██████████| 3/3 [00:06<00:00,  2.07s/it]\n",
      "INFO:root:Convergence rate for pos_x = 0.5901207095866283\n",
      "INFO:root:Convergence rate for pos_y = 0.5927822986629891\n",
      "INFO:root:Convergence rate for height = 7.93564647757098e-05\n",
      "INFO:root:Convergence rate for sigma = 0.005659952993221096\n",
      "INFO:root:Convergence not reached\n",
      "Fitting random batch: 100%|██████████| 3/3 [00:02<00:00,  1.05it/s]\n",
      "INFO:root:Convergence rate for pos_x = 0.589080810546875\n",
      "INFO:root:Convergence rate for pos_y = 0.5767059326171875\n",
      "INFO:root:Convergence rate for height = 7.5676392462892e-05\n",
      "INFO:root:Convergence rate for sigma = 0.003387307693572717\n",
      "INFO:root:Convergence not reached\n",
      "Fitting random batch: 100%|██████████| 3/3 [00:03<00:00,  1.04s/it]\n",
      "INFO:root:Convergence rate for pos_x = 0.5895843505859375\n",
      "INFO:root:Convergence rate for pos_y = 0.5809688568115234\n",
      "INFO:root:Convergence rate for height = 7.402976446532753e-05\n",
      "INFO:root:Convergence rate for sigma = 0.0024625112354438867\n",
      "INFO:root:Convergence not reached\n",
      "Fitting random batch: 100%|██████████| 3/3 [00:03<00:00,  1.05s/it]\n",
      "INFO:root:Convergence rate for pos_x = 0.5809326171875\n",
      "INFO:root:Convergence rate for pos_y = 0.545466423034668\n",
      "INFO:root:Convergence rate for height = 7.382841416361704e-05\n",
      "INFO:root:Convergence rate for sigma = 0.002770664593135253\n",
      "INFO:root:Convergence not reached\n",
      "Fitting random batch: 100%|██████████| 3/3 [00:03<00:00,  1.07s/it]\n",
      "INFO:root:Convergence rate for pos_x = 0.5882720947265625\n",
      "INFO:root:Convergence rate for pos_y = 0.5820536613464355\n",
      "INFO:root:Convergence rate for height = 7.368556002755936e-05\n",
      "INFO:root:Convergence rate for sigma = 0.002694630768310757\n",
      "INFO:root:Convergence not reached\n"
     ]
    },
    {
     "data": {
      "text/plain": [
       "{'pos_x': array([  5.15470791,   3.41256118,   3.99286604, ..., 590.32421875,\n",
       "        591.33990479, 579.94830322]),\n",
       " 'pos_y': array([  3.58374786,  14.80955887,  26.81474495, ..., 233.74407959,\n",
       "        244.14985657, 244.53128052]),\n",
       " 'height': array([3203.20270608, 2940.99160319, 3239.57077135, ..., 4552.39455066,\n",
       "        4039.51739448, 4417.38816369]),\n",
       " 'sigma': array([1.88407992, 1.88407992, 1.88407992, ..., 1.88407992, 1.88407992,\n",
       "        1.94874211]),\n",
       " 'background': 31459.20667385557}"
      ]
     },
     "execution_count": 7,
     "metadata": {},
     "output_type": "execute_result"
    }
   ],
   "source": [
    "\n",
    "model.fit_background = True\n",
    "params = model.init_params()\n",
    "model.fit_random_batch(params, batch_size=1000, maxiter=50, tol=1e-3, plot=False, step_size=0.01,verbose=False,num_epoch=5)"
   ]
  },
  {
   "cell_type": "code",
   "execution_count": 3,
   "metadata": {},
   "outputs": [
    {
     "name": "stdout",
     "output_type": "stream",
     "text": [
      "Origin selected: [343. 189.]\n",
      "Vector a selected: [10. -1.]\n",
      "Vector b selected: [ -1. -11.]\n",
      "In pixel: Origin: [343. 189.], Vector a: [10. -1.], Vector b: [ -1. -11.]\n",
      "In space: Origin: [124.35404689  68.52161768] A, Vector a: [ 3.62548242 -0.36254824] A, Vector b: [-0.36254824 -3.98803066] A\n",
      "Origin selected: [360. 128.]\n",
      "Vector a selected: [65. -1.]\n",
      "Vector b selected: [ 3. 25.]\n",
      "In pixel: Origin: [360. 128.], Vector a: [65. -1.], Vector b: [ 3. 25.]\n",
      "In space: Origin: [3.87879415 1.37912681] 1/A, Vector a: [ 0.70033783 -0.01077443] 1/A, Vector b: [0.03232328 0.26936071] 1/A\n",
      "FFT real a: [11.05622332 -0.47839428] pixel, Real b: [ 0.43611275 10.22139252] pixel\n"
     ]
    }
   ],
   "source": [
    "from qem.crystal_analyzer import CrystalAnalyzer\n",
    "\n",
    "crystal_analyzer = CrystalAnalyzer(image = model.image, dx = model.dx, peak_positions = model.coordinates, atom_types = model.atom_types, elements=['Sr','Ti'],units=model.units)\n",
    "cif_file = '/home/zzhang/OneDrive/code/qem/data/STO/SrTiO3_mp-5229_conventional_standard.cif'\n",
    "crystal_analyzer.read_cif(cif_file)\n",
    "crystal_analyzer.choose_lattice_vectors(tolerance=20)\n",
    "supercell_in_image, supercell_atom_types = crystal_analyzer.generate_supercell_lattice(a_limit=20, b_limit=20)"
   ]
  },
  {
   "cell_type": "code",
   "execution_count": 4,
   "metadata": {},
   "outputs": [],
   "source": [
    "peaks = crystal_analyzer.shift_origin_adaptive(20,20)\n",
    "\n",
    "plt.imshow(model.image)\n",
    "for key, value in peaks.items():\n",
    "    plt.scatter(value[0], value[1])"
   ]
  },
  {
   "cell_type": "code",
   "execution_count": 11,
   "metadata": {},
   "outputs": [],
   "source": [
    "params = model.params"
   ]
  },
  {
   "cell_type": "code",
   "execution_count": 12,
   "metadata": {},
   "outputs": [],
   "source": [
    "#save parameters dict \n",
    "np.save('params.npy',params)"
   ]
  },
  {
   "cell_type": "code",
   "execution_count": null,
   "metadata": {},
   "outputs": [],
   "source": [
    "model_edx = "
   ]
  },
  {
   "cell_type": "code",
   "execution_count": 7,
   "metadata": {},
   "outputs": [],
   "source": [
    "model.plot_scs()"
   ]
  },
  {
   "cell_type": "code",
   "execution_count": 8,
   "metadata": {},
   "outputs": [],
   "source": [
    "model.plot_fitting()"
   ]
  },
  {
   "cell_type": "code",
   "execution_count": 5,
   "metadata": {},
   "outputs": [],
   "source": [
    "model.plot_coordinates()"
   ]
  },
  {
   "cell_type": "code",
   "execution_count": 1,
   "metadata": {},
   "outputs": [
    {
     "name": "stderr",
     "output_type": "stream",
     "text": [
      "INFO:numexpr.utils:Note: NumExpr detected 20 cores but \"NUMEXPR_MAX_THREADS\" not set, so enforcing safe limit of 8.\n",
      "INFO:numexpr.utils:NumExpr defaulting to 8 threads.\n"
     ]
    },
    {
     "name": "stdout",
     "output_type": "stream",
     "text": [
      "Updated peak locations.\n"
     ]
    }
   ],
   "source": [
    "from qem.crystal_analyzer import CrystalAnalyzer\n",
    "from qem.image_model import ImageModelFitting\n",
    "import scipy.io as sio\n",
    "import numpy as np\n",
    "import matplotlib.pyplot as plt\n",
    "%matplotlib qt\n",
    "\n",
    "file = '/home/zzhang/OneDrive/code/qem/data/STO/adf_average_STO.txt'\n",
    "image = np.loadtxt(file)\n",
    "dx= 0.1645429228960236\t\n",
    "model=ImageModelFitting(image, dx=dx,units='A')\n",
    "model.find_peaks()\n",
    "crystal_analyzer = CrystalAnalyzer(image = model.image, dx = model.dx, peak_positions = model.coordinates, atom_types = model.atom_types, elements=['Sr','Ti'])"
   ]
  },
  {
   "cell_type": "code",
   "execution_count": 5,
   "metadata": {},
   "outputs": [
    {
     "name": "stderr",
     "output_type": "stream",
     "text": [
      "INFO:root:No atoms selected.\n"
     ]
    }
   ],
   "source": []
  },
  {
   "cell_type": "code",
   "execution_count": 6,
   "metadata": {},
   "outputs": [
    {
     "data": {
      "text/plain": [
       "Atoms(symbols='SrTi', pbc=True, cell=[3.905, 3.905, 3.905], spacegroup_kinds=...)"
      ]
     },
     "execution_count": 6,
     "metadata": {},
     "output_type": "execute_result"
    }
   ],
   "source": [
    "\n",
    "cif_file = '/home/zzhang/OneDrive/code/qem/data/STO/SrTiO3_mp-5229_conventional_standard.cif'\n",
    "crystal_analyzer.read_cif(cif_file)"
   ]
  },
  {
   "cell_type": "code",
   "execution_count": 4,
   "metadata": {},
   "outputs": [
    {
     "name": "stdout",
     "output_type": "stream",
     "text": [
      "Selection incomplete.\n",
      "Selection incomplete.\n"
     ]
    },
    {
     "ename": "TypeError",
     "evalue": "unsupported operand type(s) for *: 'NoneType' and 'NoneType'",
     "output_type": "error",
     "traceback": [
      "\u001b[0;31m---------------------------------------------------------------------------\u001b[0m",
      "\u001b[0;31mTypeError\u001b[0m                                 Traceback (most recent call last)",
      "Cell \u001b[0;32mIn[4], line 1\u001b[0m\n\u001b[0;32m----> 1\u001b[0m \u001b[43mcrystal_analyzer\u001b[49m\u001b[38;5;241;43m.\u001b[39;49m\u001b[43mchoose_lattice_vectors\u001b[49m\u001b[43m(\u001b[49m\u001b[43m)\u001b[49m\n",
      "File \u001b[0;32m~/OneDrive/code/qem/qem/crystal_analyzer.py:75\u001b[0m, in \u001b[0;36mCrystalAnalyzer.choose_lattice_vectors\u001b[0;34m(self, tolerance)\u001b[0m\n\u001b[1;32m     73\u001b[0m fft_origin, fft_a, fft_b \u001b[38;5;241m=\u001b[39m fft_plot\u001b[38;5;241m.\u001b[39mselect_vectors()\n\u001b[1;32m     74\u001b[0m \u001b[38;5;66;03m# normalize the fft vectors\u001b[39;00m\n\u001b[0;32m---> 75\u001b[0m unit_vector_a \u001b[38;5;241m=\u001b[39m fft_a \u001b[38;5;241m/\u001b[39m \u001b[43mnp\u001b[49m\u001b[38;5;241;43m.\u001b[39;49m\u001b[43mlinalg\u001b[49m\u001b[38;5;241;43m.\u001b[39;49m\u001b[43mnorm\u001b[49m\u001b[43m(\u001b[49m\u001b[43mfft_a\u001b[49m\u001b[43m)\u001b[49m\n\u001b[1;32m     76\u001b[0m unit_vector_b \u001b[38;5;241m=\u001b[39m fft_b \u001b[38;5;241m/\u001b[39m np\u001b[38;5;241m.\u001b[39mlinalg\u001b[38;5;241m.\u001b[39mnorm(fft_b)\n\u001b[1;32m     77\u001b[0m scale_a \u001b[38;5;241m=\u001b[39m \u001b[38;5;241m1\u001b[39m\u001b[38;5;241m/\u001b[39m(np\u001b[38;5;241m.\u001b[39mlinalg\u001b[38;5;241m.\u001b[39mnorm(fft_a) \u001b[38;5;241m*\u001b[39m fft_dx)\u001b[38;5;241m/\u001b[39m\u001b[38;5;28mself\u001b[39m\u001b[38;5;241m.\u001b[39mdx\n",
      "File \u001b[0;32m<__array_function__ internals>:200\u001b[0m, in \u001b[0;36mnorm\u001b[0;34m(*args, **kwargs)\u001b[0m\n",
      "File \u001b[0;32m~/.local/lib/python3.11/site-packages/numpy/linalg/linalg.py:2511\u001b[0m, in \u001b[0;36mnorm\u001b[0;34m(x, ord, axis, keepdims)\u001b[0m\n\u001b[1;32m   2509\u001b[0m     sqnorm \u001b[38;5;241m=\u001b[39m x_real\u001b[38;5;241m.\u001b[39mdot(x_real) \u001b[38;5;241m+\u001b[39m x_imag\u001b[38;5;241m.\u001b[39mdot(x_imag)\n\u001b[1;32m   2510\u001b[0m \u001b[38;5;28;01melse\u001b[39;00m:\n\u001b[0;32m-> 2511\u001b[0m     sqnorm \u001b[38;5;241m=\u001b[39m x\u001b[38;5;241m.\u001b[39mdot(x)\n\u001b[1;32m   2512\u001b[0m ret \u001b[38;5;241m=\u001b[39m sqrt(sqnorm)\n\u001b[1;32m   2513\u001b[0m \u001b[38;5;28;01mif\u001b[39;00m keepdims:\n",
      "\u001b[0;31mTypeError\u001b[0m: unsupported operand type(s) for *: 'NoneType' and 'NoneType'"
     ]
    }
   ],
   "source": [
    "crystal_analyzer.choose_lattice_vectors()"
   ]
  },
  {
   "cell_type": "code",
   "execution_count": 5,
   "metadata": {},
   "outputs": [],
   "source": [
    "crystal_analyzer._origin_adaptive = None\n",
    "shift_center = crystal_analyzer.shift_origin_adaptive(50, 50)\n",
    "plt.imshow(model.image, cmap='gray')\n",
    "peaks = []\n",
    "for key, value in shift_center.items():\n",
    "    peaks.append(value)\n",
    "\n",
    "plt.scatter(np.array(peaks)[:,0], np.array(peaks)[:,1], c='r', s=10)\n",
    "plt.show()"
   ]
  },
  {
   "cell_type": "code",
   "execution_count": 6,
   "metadata": {},
   "outputs": [],
   "source": [
    "peak_positions, atom_types = crystal_analyzer.generate_supercell_lattice(a_limit=50, b_limit=50)"
   ]
  },
  {
   "cell_type": "code",
   "execution_count": 14,
   "metadata": {},
   "outputs": [],
   "source": [
    "peak_positions, atom_types = crystal_analyzer.supercell_project_2d()"
   ]
  },
  {
   "cell_type": "code",
   "execution_count": 7,
   "metadata": {},
   "outputs": [
    {
     "data": {
      "text/plain": [
       "<matplotlib.collections.PathCollection at 0x7f48bc0f7a10>"
      ]
     },
     "execution_count": 7,
     "metadata": {},
     "output_type": "execute_result"
    }
   ],
   "source": [
    "plt.scatter(peak_positions[:,0], peak_positions[:,1], c='r', s=10)"
   ]
  },
  {
   "cell_type": "code",
   "execution_count": 10,
   "metadata": {},
   "outputs": [
    {
     "ename": "TypeError",
     "evalue": "list indices must be integers or slices, not numpy.float64",
     "output_type": "error",
     "traceback": [
      "\u001b[0;31m---------------------------------------------------------------------------\u001b[0m",
      "\u001b[0;31mTypeError\u001b[0m                                 Traceback (most recent call last)",
      "Cell \u001b[0;32mIn[10], line 1\u001b[0m\n\u001b[0;32m----> 1\u001b[0m \u001b[43mcrystal_analyzer\u001b[49m\u001b[38;5;241;43m.\u001b[39;49m\u001b[43munitcell_mapping\u001b[49m\u001b[43m(\u001b[49m\u001b[43m)\u001b[49m\n",
      "File \u001b[0;32m~/OneDrive/code/qem/qem/crystal_analyzer.py:236\u001b[0m, in \u001b[0;36mCrystalAnalyzer.unitcell_mapping\u001b[0;34m(self, ref, plot)\u001b[0m\n\u001b[1;32m    234\u001b[0m \u001b[38;5;28;01mfor\u001b[39;00m atom_type \u001b[38;5;129;01min\u001b[39;00m np\u001b[38;5;241m.\u001b[39munique(\u001b[38;5;28mself\u001b[39m\u001b[38;5;241m.\u001b[39matom_types):\n\u001b[1;32m    235\u001b[0m     mask_element \u001b[38;5;241m=\u001b[39m \u001b[38;5;28mself\u001b[39m\u001b[38;5;241m.\u001b[39matom_types \u001b[38;5;241m==\u001b[39m atom_type\n\u001b[0;32m--> 236\u001b[0m     element \u001b[38;5;241m=\u001b[39m \u001b[38;5;28;43mself\u001b[39;49m\u001b[38;5;241;43m.\u001b[39;49m\u001b[43melements\u001b[49m\u001b[43m[\u001b[49m\u001b[43matom_type\u001b[49m\u001b[43m]\u001b[49m\n\u001b[1;32m    237\u001b[0m     current_color \u001b[38;5;241m=\u001b[39m np\u001b[38;5;241m.\u001b[39marray(\u001b[38;5;28mnext\u001b[39m(color_iterator))\u001b[38;5;241m.\u001b[39mreshape(\u001b[38;5;241m1\u001b[39m, \u001b[38;5;241m-\u001b[39m\u001b[38;5;241m1\u001b[39m)\n\u001b[1;32m    238\u001b[0m     plt\u001b[38;5;241m.\u001b[39mscatter(\n\u001b[1;32m    239\u001b[0m         \u001b[38;5;28mself\u001b[39m\u001b[38;5;241m.\u001b[39mpeak_positions[:, \u001b[38;5;241m0\u001b[39m][mask_element],\n\u001b[1;32m    240\u001b[0m         \u001b[38;5;28mself\u001b[39m\u001b[38;5;241m.\u001b[39mpeak_positions[:, \u001b[38;5;241m1\u001b[39m][mask_element],\n\u001b[1;32m    241\u001b[0m         label\u001b[38;5;241m=\u001b[39melement,\n\u001b[1;32m    242\u001b[0m         c\u001b[38;5;241m=\u001b[39mcurrent_color,\n\u001b[1;32m    243\u001b[0m     )\n",
      "\u001b[0;31mTypeError\u001b[0m: list indices must be integers or slices, not numpy.float64"
     ]
    }
   ],
   "source": [
    "crystal_analyzer.unitcell_mapping()"
   ]
  },
  {
   "cell_type": "code",
   "execution_count": 23,
   "metadata": {},
   "outputs": [
    {
     "data": {
      "text/plain": [
       "<matplotlib.image.AxesImage at 0x7fe4c06a3490>"
      ]
     },
     "execution_count": 23,
     "metadata": {},
     "output_type": "execute_result"
    }
   ],
   "source": [
    "im_refined = model.predict_local(params=model.params)\n",
    "plt.imshow(im_refined)"
   ]
  },
  {
   "cell_type": "code",
   "execution_count": 25,
   "metadata": {},
   "outputs": [
    {
     "data": {
      "text/plain": [
       "<matplotlib.image.AxesImage at 0x7fe36013c190>"
      ]
     },
     "execution_count": 25,
     "metadata": {},
     "output_type": "execute_result"
    }
   ],
   "source": [
    "plt.imshow(model.image-im_refined)"
   ]
  },
  {
   "cell_type": "code",
   "execution_count": 18,
   "metadata": {},
   "outputs": [
    {
     "data": {
      "text/plain": [
       "array([1, 1, 1, 1, 1, 1, 1, 1, 1, 1, 1, 1, 1, 1, 1, 1, 1, 1, 1, 1, 1, 0,\n",
       "       0, 0, 0, 0, 0, 0, 0, 0, 0, 0, 0, 0, 0, 0, 0, 0, 0, 0, 0, 1, 1, 1,\n",
       "       1, 1, 1, 1, 1, 1, 1, 1, 1, 1, 1, 1, 1, 1, 1, 1, 1, 1, 0, 0, 0, 0,\n",
       "       0, 0, 0, 0, 0, 0, 0, 0, 0, 0, 0, 0, 0, 0, 0, 0, 1, 1, 1, 1, 1, 1,\n",
       "       1, 1, 1, 1, 1, 1, 1, 1, 1, 1, 1, 1, 1, 1, 1, 0, 0, 0, 0, 0, 0, 0,\n",
       "       0, 0, 0, 0, 0, 0, 0, 0, 0, 0, 0, 0, 0, 1, 1, 1, 1, 1, 1, 1, 1, 1,\n",
       "       1, 1, 1, 1, 1, 1, 1, 1, 1, 1, 1, 1, 0, 0, 0, 0, 0, 0, 0, 0, 0, 0,\n",
       "       0, 0, 0, 0, 0, 0, 0, 0, 0, 0, 1, 1, 1, 1, 1, 1, 1, 1, 1, 1, 1, 1,\n",
       "       1, 1, 1, 1, 1, 1, 1, 1, 1, 0, 0, 0, 0, 0, 0, 0, 0, 0, 0, 0, 0, 0,\n",
       "       0, 0, 0, 0, 0, 0, 0, 1, 1, 1, 1, 1, 1, 1, 1, 1, 1, 1, 1, 1, 1, 1,\n",
       "       1, 1, 1, 1, 1, 1, 0, 0, 0, 0, 0, 0, 0, 0, 0, 0, 0, 0, 0, 0, 0, 0,\n",
       "       0, 0, 0, 0, 0, 1, 1, 1, 1, 1, 1, 1, 1, 1, 1, 1, 1, 1, 1, 1, 1, 1,\n",
       "       1, 1, 1, 1, 0, 0, 0, 0, 0, 0, 0, 0, 0, 0, 0, 0, 0, 0, 0, 0, 0, 0,\n",
       "       0, 0, 0, 1, 1, 1, 1, 1, 1, 1, 1, 1, 1, 1, 1, 1, 1, 1, 1, 1, 1, 1,\n",
       "       1, 1, 0, 0, 0, 0, 0, 0, 0, 0, 0, 0, 0, 0, 0, 0, 0, 0, 0, 0, 0, 0,\n",
       "       0, 1, 1, 1, 1, 1, 1, 1, 1, 1, 1, 1, 1, 1, 1, 1, 1, 1, 1, 1, 1, 1,\n",
       "       0, 0, 0, 0, 0, 0, 0, 0, 0, 0, 0, 0, 0, 0, 0, 0, 0, 0, 0, 0, 0, 1,\n",
       "       1, 1, 1, 1, 1, 1, 1, 1, 1, 1, 1, 1, 1, 1, 1, 1, 1, 1, 1, 1, 0, 0,\n",
       "       0, 0, 0, 0, 0, 0, 0, 0, 0, 0, 0, 0, 0, 0, 0, 0, 0, 0, 0, 1, 1, 1,\n",
       "       1, 1, 1, 1, 1, 1, 1, 1, 1, 1, 1, 1, 1, 1, 1, 1, 1, 1, 0, 0, 0, 0,\n",
       "       0, 0, 0, 0, 0, 0, 0, 0, 0, 0, 0, 0, 0, 0, 0, 0, 0, 1, 1, 1, 1, 1,\n",
       "       1, 1, 1, 1, 1, 1, 1, 1, 1, 1, 1, 1, 1, 1, 1, 1, 0, 0, 0, 0, 0, 0,\n",
       "       0, 0, 0, 0, 0, 0, 0, 0, 0, 0, 0, 0, 0, 0, 0, 1, 1, 1, 1, 1, 1, 1,\n",
       "       1, 1, 1, 1, 1, 1, 1, 1, 1, 1, 1, 1, 1, 1, 0, 0, 0, 0, 0, 0, 0, 0,\n",
       "       0, 0, 0, 0, 0, 0, 0, 0, 0, 0, 0, 0, 0, 1, 1, 1, 1, 1, 1, 1, 1, 1,\n",
       "       1, 1, 1, 1, 1, 1, 1, 1, 1, 1, 1, 1, 0, 0, 0, 0, 0, 0, 0, 0, 0, 0,\n",
       "       0, 0, 0, 0, 0, 0, 0, 0, 0, 0, 0, 1, 1, 1, 1, 1, 1, 1, 1, 1, 1, 1,\n",
       "       1, 1, 1, 1, 1, 1, 1, 1, 1, 1, 0, 0, 0, 0, 0, 0, 0, 0, 0, 0, 0, 0,\n",
       "       0, 0, 0, 0, 0, 0, 0, 0, 0, 1, 1, 1, 1, 1, 1, 1, 1, 1, 1, 1, 1, 1,\n",
       "       1, 1, 1, 1, 1, 1, 1, 1, 0, 0, 0, 0, 0, 0, 0, 0, 0, 0, 0, 0, 0, 0,\n",
       "       0, 0, 0, 0, 0, 0, 0, 1, 1, 1, 1, 1, 1, 1, 1, 1, 1, 1, 1, 1, 1, 1,\n",
       "       1, 1, 1, 1, 1, 1, 0, 0, 0, 0, 0, 0, 0, 0, 0, 0, 0, 0, 0, 0, 0, 0,\n",
       "       0, 0, 0, 0, 0, 1, 1, 1, 1, 1, 1, 1, 1, 1, 1, 1, 1, 1, 1, 1, 1, 1,\n",
       "       1, 1, 1, 1, 0, 0, 0, 0, 0, 0, 0, 0, 0, 0, 0, 0, 0, 0, 0, 0, 0, 0,\n",
       "       0, 0, 0, 1, 1, 1, 1, 1, 1, 1, 1, 1, 1, 1, 1, 1, 1, 1, 1, 1, 1, 1,\n",
       "       1, 1, 0, 0, 0, 0, 0, 0, 0, 0, 0, 0, 0, 0, 0, 0, 0, 0, 0, 0, 0, 0,\n",
       "       0, 1, 1, 1, 1, 1, 1, 1, 1, 1, 1, 1, 1, 1, 1, 1, 1, 1, 1, 1, 1, 1,\n",
       "       0, 0, 0, 0, 0, 0, 0, 0, 0, 0, 0, 0, 0, 0, 0, 0, 0, 0, 0, 0, 0, 1,\n",
       "       1, 1, 1, 1, 1, 1, 1, 1, 1, 1, 1, 1, 1, 1, 1, 1, 1, 1, 1, 1, 0, 0,\n",
       "       0, 0, 0, 0, 0, 0, 0, 0, 0, 0, 0, 0, 0, 0, 0, 0, 0, 0, 0, 1, 1, 1,\n",
       "       1, 1, 1, 1, 1])"
      ]
     },
     "execution_count": 18,
     "metadata": {},
     "output_type": "execute_result"
    }
   ],
   "source": [
    "model.atom_types"
   ]
  },
  {
   "cell_type": "code",
   "execution_count": null,
   "metadata": {},
   "outputs": [],
   "source": []
  }
 ],
 "metadata": {
  "kernelspec": {
   "display_name": "jax",
   "language": "python",
   "name": "python3"
  },
  "language_info": {
   "codemirror_mode": {
    "name": "ipython",
    "version": 3
   },
   "file_extension": ".py",
   "mimetype": "text/x-python",
   "name": "python",
   "nbconvert_exporter": "python",
   "pygments_lexer": "ipython3",
   "version": "3.11.2"
  }
 },
 "nbformat": 4,
 "nbformat_minor": 2
}
